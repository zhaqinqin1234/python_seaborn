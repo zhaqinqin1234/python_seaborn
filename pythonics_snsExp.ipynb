{
 "cells": [
  {
   "cell_type": "code",
   "execution_count": 1,
   "id": "41c7ce32-edd7-4641-9ec0-ecff518dc3d3",
   "metadata": {},
   "outputs": [],
   "source": [
    "import pandas as pd"
   ]
  },
  {
   "cell_type": "code",
   "execution_count": 2,
   "id": "97c33137-638d-4e43-9393-8616a0d96ece",
   "metadata": {},
   "outputs": [
    {
     "data": {
      "text/html": [
       "<div>\n",
       "<style scoped>\n",
       "    .dataframe tbody tr th:only-of-type {\n",
       "        vertical-align: middle;\n",
       "    }\n",
       "\n",
       "    .dataframe tbody tr th {\n",
       "        vertical-align: top;\n",
       "    }\n",
       "\n",
       "    .dataframe thead th {\n",
       "        text-align: right;\n",
       "    }\n",
       "</style>\n",
       "<table border=\"1\" class=\"dataframe\">\n",
       "  <thead>\n",
       "    <tr style=\"text-align: right;\">\n",
       "      <th></th>\n",
       "      <th>消费金额 ($)</th>\n",
       "      <th>小费金额 ($)</th>\n",
       "      <th>客人性别</th>\n",
       "      <th>是否吸烟</th>\n",
       "      <th>周几</th>\n",
       "      <th>就餐时间</th>\n",
       "      <th>一起就餐人数 (个)</th>\n",
       "    </tr>\n",
       "  </thead>\n",
       "  <tbody>\n",
       "    <tr>\n",
       "      <th>0</th>\n",
       "      <td>16.99</td>\n",
       "      <td>1.01</td>\n",
       "      <td>Female</td>\n",
       "      <td>No</td>\n",
       "      <td>Sun</td>\n",
       "      <td>Dinner</td>\n",
       "      <td>2</td>\n",
       "    </tr>\n",
       "    <tr>\n",
       "      <th>1</th>\n",
       "      <td>10.34</td>\n",
       "      <td>1.66</td>\n",
       "      <td>Male</td>\n",
       "      <td>No</td>\n",
       "      <td>Sun</td>\n",
       "      <td>Dinner</td>\n",
       "      <td>3</td>\n",
       "    </tr>\n",
       "    <tr>\n",
       "      <th>2</th>\n",
       "      <td>21.01</td>\n",
       "      <td>3.50</td>\n",
       "      <td>Male</td>\n",
       "      <td>No</td>\n",
       "      <td>Sun</td>\n",
       "      <td>Dinner</td>\n",
       "      <td>3</td>\n",
       "    </tr>\n",
       "    <tr>\n",
       "      <th>3</th>\n",
       "      <td>23.68</td>\n",
       "      <td>3.31</td>\n",
       "      <td>Male</td>\n",
       "      <td>No</td>\n",
       "      <td>Sun</td>\n",
       "      <td>Dinner</td>\n",
       "      <td>2</td>\n",
       "    </tr>\n",
       "    <tr>\n",
       "      <th>4</th>\n",
       "      <td>24.59</td>\n",
       "      <td>3.61</td>\n",
       "      <td>Female</td>\n",
       "      <td>No</td>\n",
       "      <td>Sun</td>\n",
       "      <td>Dinner</td>\n",
       "      <td>4</td>\n",
       "    </tr>\n",
       "    <tr>\n",
       "      <th>...</th>\n",
       "      <td>...</td>\n",
       "      <td>...</td>\n",
       "      <td>...</td>\n",
       "      <td>...</td>\n",
       "      <td>...</td>\n",
       "      <td>...</td>\n",
       "      <td>...</td>\n",
       "    </tr>\n",
       "    <tr>\n",
       "      <th>239</th>\n",
       "      <td>29.03</td>\n",
       "      <td>5.92</td>\n",
       "      <td>Male</td>\n",
       "      <td>No</td>\n",
       "      <td>Sat</td>\n",
       "      <td>Dinner</td>\n",
       "      <td>3</td>\n",
       "    </tr>\n",
       "    <tr>\n",
       "      <th>240</th>\n",
       "      <td>27.18</td>\n",
       "      <td>2.00</td>\n",
       "      <td>Female</td>\n",
       "      <td>Yes</td>\n",
       "      <td>Sat</td>\n",
       "      <td>Dinner</td>\n",
       "      <td>2</td>\n",
       "    </tr>\n",
       "    <tr>\n",
       "      <th>241</th>\n",
       "      <td>22.67</td>\n",
       "      <td>2.00</td>\n",
       "      <td>Male</td>\n",
       "      <td>Yes</td>\n",
       "      <td>Sat</td>\n",
       "      <td>Dinner</td>\n",
       "      <td>2</td>\n",
       "    </tr>\n",
       "    <tr>\n",
       "      <th>242</th>\n",
       "      <td>17.82</td>\n",
       "      <td>1.75</td>\n",
       "      <td>Male</td>\n",
       "      <td>No</td>\n",
       "      <td>Sat</td>\n",
       "      <td>Dinner</td>\n",
       "      <td>2</td>\n",
       "    </tr>\n",
       "    <tr>\n",
       "      <th>243</th>\n",
       "      <td>18.78</td>\n",
       "      <td>3.00</td>\n",
       "      <td>Female</td>\n",
       "      <td>No</td>\n",
       "      <td>Thur</td>\n",
       "      <td>Dinner</td>\n",
       "      <td>2</td>\n",
       "    </tr>\n",
       "  </tbody>\n",
       "</table>\n",
       "<p>244 rows × 7 columns</p>\n",
       "</div>"
      ],
      "text/plain": [
       "     消费金额 ($)  小费金额 ($)    客人性别 是否吸烟    周几    就餐时间  一起就餐人数 (个)\n",
       "0       16.99      1.01  Female   No   Sun  Dinner           2\n",
       "1       10.34      1.66    Male   No   Sun  Dinner           3\n",
       "2       21.01      3.50    Male   No   Sun  Dinner           3\n",
       "3       23.68      3.31    Male   No   Sun  Dinner           2\n",
       "4       24.59      3.61  Female   No   Sun  Dinner           4\n",
       "..        ...       ...     ...  ...   ...     ...         ...\n",
       "239     29.03      5.92    Male   No   Sat  Dinner           3\n",
       "240     27.18      2.00  Female  Yes   Sat  Dinner           2\n",
       "241     22.67      2.00    Male  Yes   Sat  Dinner           2\n",
       "242     17.82      1.75    Male   No   Sat  Dinner           2\n",
       "243     18.78      3.00  Female   No  Thur  Dinner           2\n",
       "\n",
       "[244 rows x 7 columns]"
      ]
     },
     "execution_count": 2,
     "metadata": {},
     "output_type": "execute_result"
    }
   ],
   "source": [
    "tips = pd.read_csv(\"./sns_data/tips.csv\")"
   ]
  },
  {
   "cell_type": "code",
   "execution_count": 6,
   "id": "6a09eb2e-c90b-4165-824e-3f54afdfdcba",
   "metadata": {},
   "outputs": [],
   "source": [
    "# import package\n",
    "import seaborn as sns\n",
    "import pandas as pd\n",
    "import matplotlib as plt\n",
    "import warnings"
   ]
  },
  {
   "cell_type": "code",
   "execution_count": 4,
   "id": "55cfccba-df73-4ed2-8158-a55cadb0833a",
   "metadata": {},
   "outputs": [
    {
     "data": {
      "text/plain": [
       "'0.13.2'"
      ]
     },
     "execution_count": 4,
     "metadata": {},
     "output_type": "execute_result"
    }
   ],
   "source": [
    "sns.__version__"
   ]
  },
  {
   "cell_type": "code",
   "execution_count": 14,
   "id": "cf52389f-f961-4782-b60e-2e8bf39ccf28",
   "metadata": {},
   "outputs": [],
   "source": [
    "# ignor warnings\n",
    "warnings.filterwarnings(\"ignore\", \"is_categorical_dtype\")\n",
    "warnings.filterwarnings(\"ignore\", \"use_inf_as_na\")\n",
    "warnings.simplefilter(\"always\", category=UserWarning)\n",
    "plt.rcParams['axes.unicode_minus']=False\n"
   ]
  },
  {
   "cell_type": "code",
   "execution_count": 8,
   "id": "7bd37368-1c26-43f2-9cb2-660f2275d3ff",
   "metadata": {},
   "outputs": [
    {
     "data": {
      "text/plain": [
       "{'font.family': 'Sonti SC',\n",
       " 'axes.spines.left': True,\n",
       " 'axes.spines.bottom': True,\n",
       " 'axes.spines.top': False,\n",
       " 'axes.spines.right': False,\n",
       " 'axes.edgecolor': 'gray',\n",
       " 'axes.linewidth': 0.4,\n",
       " 'grid.linewidth': 0.3,\n",
       " 'grid.alpha': 1,\n",
       " 'legend.frameon': True,\n",
       " 'legend.framealpha': 0.5}"
      ]
     },
     "execution_count": 8,
     "metadata": {},
     "output_type": "execute_result"
    }
   ],
   "source": [
    "# step2: set style\n",
    "plt.rcParams['axes.unicode_minus'] =False\n",
    "custom_set = {\n",
    "    \"font.family\": \"Sonti SC\",\n",
    "    \"axes.spines.left\": True,\n",
    "    \"axes.spines.bottom\": True,\n",
    "    \"axes.spines.top\": False,\n",
    "    \"axes.spines.right\": False,\n",
    "    \"axes.edgecolor\": \"gray\",\n",
    "    \"axes.linewidth\" : 0.4,\n",
    "    \"grid.linewidth\" : 0.3,\n",
    "    \"grid.alpha\": 1,\n",
    "    \"legend.frameon\": True,\n",
    "    \"legend.framealpha\": 0.5\n",
    "        \n",
    "}"
   ]
  },
  {
   "cell_type": "code",
   "execution_count": 9,
   "id": "248cc828-e46c-41e2-89c7-232b50b44a1f",
   "metadata": {},
   "outputs": [],
   "source": [
    "sns.set_theme(\n",
    "    style = \"whitegrid\",\n",
    "    rc=custom_set,\n",
    "    font_scale =0.8\n",
    ")"
   ]
  },
  {
   "cell_type": "code",
   "execution_count": 10,
   "id": "7aff783a-d446-49ed-b2ef-ba395cf5b27a",
   "metadata": {},
   "outputs": [
    {
     "data": {
      "text/html": [
       "<div>\n",
       "<style scoped>\n",
       "    .dataframe tbody tr th:only-of-type {\n",
       "        vertical-align: middle;\n",
       "    }\n",
       "\n",
       "    .dataframe tbody tr th {\n",
       "        vertical-align: top;\n",
       "    }\n",
       "\n",
       "    .dataframe thead th {\n",
       "        text-align: right;\n",
       "    }\n",
       "</style>\n",
       "<table border=\"1\" class=\"dataframe\">\n",
       "  <thead>\n",
       "    <tr style=\"text-align: right;\">\n",
       "      <th></th>\n",
       "      <th>消费金额 ($)</th>\n",
       "      <th>小费金额 ($)</th>\n",
       "      <th>客人性别</th>\n",
       "      <th>是否吸烟</th>\n",
       "      <th>周几</th>\n",
       "      <th>就餐时间</th>\n",
       "      <th>一起就餐人数 (个)</th>\n",
       "    </tr>\n",
       "  </thead>\n",
       "  <tbody>\n",
       "    <tr>\n",
       "      <th>0</th>\n",
       "      <td>16.99</td>\n",
       "      <td>1.01</td>\n",
       "      <td>Female</td>\n",
       "      <td>No</td>\n",
       "      <td>Sun</td>\n",
       "      <td>Dinner</td>\n",
       "      <td>2</td>\n",
       "    </tr>\n",
       "    <tr>\n",
       "      <th>1</th>\n",
       "      <td>10.34</td>\n",
       "      <td>1.66</td>\n",
       "      <td>Male</td>\n",
       "      <td>No</td>\n",
       "      <td>Sun</td>\n",
       "      <td>Dinner</td>\n",
       "      <td>3</td>\n",
       "    </tr>\n",
       "    <tr>\n",
       "      <th>2</th>\n",
       "      <td>21.01</td>\n",
       "      <td>3.50</td>\n",
       "      <td>Male</td>\n",
       "      <td>No</td>\n",
       "      <td>Sun</td>\n",
       "      <td>Dinner</td>\n",
       "      <td>3</td>\n",
       "    </tr>\n",
       "    <tr>\n",
       "      <th>3</th>\n",
       "      <td>23.68</td>\n",
       "      <td>3.31</td>\n",
       "      <td>Male</td>\n",
       "      <td>No</td>\n",
       "      <td>Sun</td>\n",
       "      <td>Dinner</td>\n",
       "      <td>2</td>\n",
       "    </tr>\n",
       "    <tr>\n",
       "      <th>4</th>\n",
       "      <td>24.59</td>\n",
       "      <td>3.61</td>\n",
       "      <td>Female</td>\n",
       "      <td>No</td>\n",
       "      <td>Sun</td>\n",
       "      <td>Dinner</td>\n",
       "      <td>4</td>\n",
       "    </tr>\n",
       "    <tr>\n",
       "      <th>...</th>\n",
       "      <td>...</td>\n",
       "      <td>...</td>\n",
       "      <td>...</td>\n",
       "      <td>...</td>\n",
       "      <td>...</td>\n",
       "      <td>...</td>\n",
       "      <td>...</td>\n",
       "    </tr>\n",
       "    <tr>\n",
       "      <th>239</th>\n",
       "      <td>29.03</td>\n",
       "      <td>5.92</td>\n",
       "      <td>Male</td>\n",
       "      <td>No</td>\n",
       "      <td>Sat</td>\n",
       "      <td>Dinner</td>\n",
       "      <td>3</td>\n",
       "    </tr>\n",
       "    <tr>\n",
       "      <th>240</th>\n",
       "      <td>27.18</td>\n",
       "      <td>2.00</td>\n",
       "      <td>Female</td>\n",
       "      <td>Yes</td>\n",
       "      <td>Sat</td>\n",
       "      <td>Dinner</td>\n",
       "      <td>2</td>\n",
       "    </tr>\n",
       "    <tr>\n",
       "      <th>241</th>\n",
       "      <td>22.67</td>\n",
       "      <td>2.00</td>\n",
       "      <td>Male</td>\n",
       "      <td>Yes</td>\n",
       "      <td>Sat</td>\n",
       "      <td>Dinner</td>\n",
       "      <td>2</td>\n",
       "    </tr>\n",
       "    <tr>\n",
       "      <th>242</th>\n",
       "      <td>17.82</td>\n",
       "      <td>1.75</td>\n",
       "      <td>Male</td>\n",
       "      <td>No</td>\n",
       "      <td>Sat</td>\n",
       "      <td>Dinner</td>\n",
       "      <td>2</td>\n",
       "    </tr>\n",
       "    <tr>\n",
       "      <th>243</th>\n",
       "      <td>18.78</td>\n",
       "      <td>3.00</td>\n",
       "      <td>Female</td>\n",
       "      <td>No</td>\n",
       "      <td>Thur</td>\n",
       "      <td>Dinner</td>\n",
       "      <td>2</td>\n",
       "    </tr>\n",
       "  </tbody>\n",
       "</table>\n",
       "<p>244 rows × 7 columns</p>\n",
       "</div>"
      ],
      "text/plain": [
       "     消费金额 ($)  小费金额 ($)    客人性别 是否吸烟    周几    就餐时间  一起就餐人数 (个)\n",
       "0       16.99      1.01  Female   No   Sun  Dinner           2\n",
       "1       10.34      1.66    Male   No   Sun  Dinner           3\n",
       "2       21.01      3.50    Male   No   Sun  Dinner           3\n",
       "3       23.68      3.31    Male   No   Sun  Dinner           2\n",
       "4       24.59      3.61  Female   No   Sun  Dinner           4\n",
       "..        ...       ...     ...  ...   ...     ...         ...\n",
       "239     29.03      5.92    Male   No   Sat  Dinner           3\n",
       "240     27.18      2.00  Female  Yes   Sat  Dinner           2\n",
       "241     22.67      2.00    Male  Yes   Sat  Dinner           2\n",
       "242     17.82      1.75    Male   No   Sat  Dinner           2\n",
       "243     18.78      3.00  Female   No  Thur  Dinner           2\n",
       "\n",
       "[244 rows x 7 columns]"
      ]
     },
     "execution_count": 10,
     "metadata": {},
     "output_type": "execute_result"
    }
   ],
   "source": [
    "#step3: prepare dataset\n",
    "tips = pd.read_csv(\"./sns_data/tips.csv\")"
   ]
  },
  {
   "cell_type": "code",
   "execution_count": 12,
   "id": "a0dcbb11-6d01-427b-915c-055806beacd9",
   "metadata": {},
   "outputs": [
    {
     "name": "stderr",
     "output_type": "stream",
     "text": [
      "findfont: Font family 'Sonti SC' not found.\n",
      "findfont: Font family 'Sonti SC' not found.\n",
      "findfont: Font family 'Sonti SC' not found.\n",
      "findfont: Font family 'Sonti SC' not found.\n",
      "findfont: Font family 'Sonti SC' not found.\n",
      "findfont: Font family 'Sonti SC' not found.\n",
      "findfont: Font family 'Sonti SC' not found.\n",
      "findfont: Font family 'Sonti SC' not found.\n",
      "findfont: Font family 'Sonti SC' not found.\n",
      "C:\\Users\\qinqi\\anaconda3\\Lib\\site-packages\\seaborn\\axisgrid.py:123: UserWarning: Glyph 23601 (\\N{CJK UNIFIED IDEOGRAPH-5C31}) missing from current font.\n",
      "  self._figure.tight_layout(*args, **kwargs)\n",
      "C:\\Users\\qinqi\\anaconda3\\Lib\\site-packages\\seaborn\\axisgrid.py:123: UserWarning: Glyph 39184 (\\N{CJK UNIFIED IDEOGRAPH-9910}) missing from current font.\n",
      "  self._figure.tight_layout(*args, **kwargs)\n",
      "C:\\Users\\qinqi\\anaconda3\\Lib\\site-packages\\seaborn\\axisgrid.py:123: UserWarning: Glyph 26102 (\\N{CJK UNIFIED IDEOGRAPH-65F6}) missing from current font.\n",
      "  self._figure.tight_layout(*args, **kwargs)\n",
      "C:\\Users\\qinqi\\anaconda3\\Lib\\site-packages\\seaborn\\axisgrid.py:123: UserWarning: Glyph 38388 (\\N{CJK UNIFIED IDEOGRAPH-95F4}) missing from current font.\n",
      "  self._figure.tight_layout(*args, **kwargs)\n",
      "findfont: Font family 'Sonti SC' not found.\n",
      "C:\\Users\\qinqi\\anaconda3\\Lib\\site-packages\\seaborn\\axisgrid.py:123: UserWarning: Glyph 23601 (\\N{CJK UNIFIED IDEOGRAPH-5C31}) missing from current font.\n",
      "  self._figure.tight_layout(*args, **kwargs)\n",
      "C:\\Users\\qinqi\\anaconda3\\Lib\\site-packages\\seaborn\\axisgrid.py:123: UserWarning: Glyph 39184 (\\N{CJK UNIFIED IDEOGRAPH-9910}) missing from current font.\n",
      "  self._figure.tight_layout(*args, **kwargs)\n",
      "C:\\Users\\qinqi\\anaconda3\\Lib\\site-packages\\seaborn\\axisgrid.py:123: UserWarning: Glyph 26102 (\\N{CJK UNIFIED IDEOGRAPH-65F6}) missing from current font.\n",
      "  self._figure.tight_layout(*args, **kwargs)\n",
      "C:\\Users\\qinqi\\anaconda3\\Lib\\site-packages\\seaborn\\axisgrid.py:123: UserWarning: Glyph 38388 (\\N{CJK UNIFIED IDEOGRAPH-95F4}) missing from current font.\n",
      "  self._figure.tight_layout(*args, **kwargs)\n",
      "findfont: Font family 'Sonti SC' not found.\n",
      "findfont: Font family 'Sonti SC' not found.\n",
      "findfont: Font family 'Sonti SC' not found.\n",
      "findfont: Font family 'Sonti SC' not found.\n",
      "findfont: Font family 'Sonti SC' not found.\n",
      "findfont: Font family 'Sonti SC' not found.\n",
      "findfont: Font family 'Sonti SC' not found.\n",
      "findfont: Font family 'Sonti SC' not found.\n",
      "findfont: Font family 'Sonti SC' not found.\n",
      "findfont: Font family 'Sonti SC' not found.\n",
      "findfont: Font family 'Sonti SC' not found.\n",
      "findfont: Font family 'Sonti SC' not found.\n",
      "C:\\Users\\qinqi\\anaconda3\\Lib\\site-packages\\seaborn\\utils.py:61: UserWarning: Glyph 28040 (\\N{CJK UNIFIED IDEOGRAPH-6D88}) missing from current font.\n",
      "  fig.canvas.draw()\n",
      "C:\\Users\\qinqi\\anaconda3\\Lib\\site-packages\\seaborn\\utils.py:61: UserWarning: Glyph 36153 (\\N{CJK UNIFIED IDEOGRAPH-8D39}) missing from current font.\n",
      "  fig.canvas.draw()\n",
      "C:\\Users\\qinqi\\anaconda3\\Lib\\site-packages\\seaborn\\utils.py:61: UserWarning: Glyph 37329 (\\N{CJK UNIFIED IDEOGRAPH-91D1}) missing from current font.\n",
      "  fig.canvas.draw()\n",
      "C:\\Users\\qinqi\\anaconda3\\Lib\\site-packages\\seaborn\\utils.py:61: UserWarning: Glyph 39069 (\\N{CJK UNIFIED IDEOGRAPH-989D}) missing from current font.\n",
      "  fig.canvas.draw()\n",
      "findfont: Font family 'Sonti SC' not found.\n",
      "C:\\Users\\qinqi\\anaconda3\\Lib\\site-packages\\seaborn\\utils.py:61: UserWarning: Glyph 23567 (\\N{CJK UNIFIED IDEOGRAPH-5C0F}) missing from current font.\n",
      "  fig.canvas.draw()\n",
      "C:\\Users\\qinqi\\anaconda3\\Lib\\site-packages\\seaborn\\utils.py:61: UserWarning: Glyph 36153 (\\N{CJK UNIFIED IDEOGRAPH-8D39}) missing from current font.\n",
      "  fig.canvas.draw()\n",
      "C:\\Users\\qinqi\\anaconda3\\Lib\\site-packages\\seaborn\\utils.py:61: UserWarning: Glyph 37329 (\\N{CJK UNIFIED IDEOGRAPH-91D1}) missing from current font.\n",
      "  fig.canvas.draw()\n",
      "C:\\Users\\qinqi\\anaconda3\\Lib\\site-packages\\seaborn\\utils.py:61: UserWarning: Glyph 39069 (\\N{CJK UNIFIED IDEOGRAPH-989D}) missing from current font.\n",
      "  fig.canvas.draw()\n",
      "findfont: Font family 'Sonti SC' not found.\n",
      "findfont: Font family 'Sonti SC' not found.\n",
      "findfont: Font family 'Sonti SC' not found.\n",
      "findfont: Font family 'Sonti SC' not found.\n",
      "findfont: Font family 'Sonti SC' not found.\n",
      "findfont: Font family 'Sonti SC' not found.\n",
      "C:\\Users\\qinqi\\anaconda3\\Lib\\site-packages\\seaborn\\utils.py:61: UserWarning: Glyph 28040 (\\N{CJK UNIFIED IDEOGRAPH-6D88}) missing from current font.\n",
      "  fig.canvas.draw()\n",
      "C:\\Users\\qinqi\\anaconda3\\Lib\\site-packages\\seaborn\\utils.py:61: UserWarning: Glyph 36153 (\\N{CJK UNIFIED IDEOGRAPH-8D39}) missing from current font.\n",
      "  fig.canvas.draw()\n",
      "C:\\Users\\qinqi\\anaconda3\\Lib\\site-packages\\seaborn\\utils.py:61: UserWarning: Glyph 37329 (\\N{CJK UNIFIED IDEOGRAPH-91D1}) missing from current font.\n",
      "  fig.canvas.draw()\n",
      "C:\\Users\\qinqi\\anaconda3\\Lib\\site-packages\\seaborn\\utils.py:61: UserWarning: Glyph 39069 (\\N{CJK UNIFIED IDEOGRAPH-989D}) missing from current font.\n",
      "  fig.canvas.draw()\n",
      "findfont: Font family 'Sonti SC' not found.\n",
      "findfont: Font family 'Sonti SC' not found.\n",
      "findfont: Font family 'Sonti SC' not found.\n",
      "findfont: Font family 'Sonti SC' not found.\n",
      "findfont: Font family 'Sonti SC' not found.\n",
      "findfont: Font family 'Sonti SC' not found.\n",
      "C:\\Users\\qinqi\\anaconda3\\Lib\\site-packages\\seaborn\\utils.py:61: UserWarning: Glyph 23567 (\\N{CJK UNIFIED IDEOGRAPH-5C0F}) missing from current font.\n",
      "  fig.canvas.draw()\n",
      "C:\\Users\\qinqi\\anaconda3\\Lib\\site-packages\\seaborn\\utils.py:61: UserWarning: Glyph 36153 (\\N{CJK UNIFIED IDEOGRAPH-8D39}) missing from current font.\n",
      "  fig.canvas.draw()\n",
      "C:\\Users\\qinqi\\anaconda3\\Lib\\site-packages\\seaborn\\utils.py:61: UserWarning: Glyph 37329 (\\N{CJK UNIFIED IDEOGRAPH-91D1}) missing from current font.\n",
      "  fig.canvas.draw()\n",
      "C:\\Users\\qinqi\\anaconda3\\Lib\\site-packages\\seaborn\\utils.py:61: UserWarning: Glyph 39069 (\\N{CJK UNIFIED IDEOGRAPH-989D}) missing from current font.\n",
      "  fig.canvas.draw()\n",
      "findfont: Font family 'Sonti SC' not found.\n",
      "C:\\Users\\qinqi\\anaconda3\\Lib\\site-packages\\seaborn\\utils.py:61: UserWarning: Glyph 23601 (\\N{CJK UNIFIED IDEOGRAPH-5C31}) missing from current font.\n",
      "  fig.canvas.draw()\n",
      "C:\\Users\\qinqi\\anaconda3\\Lib\\site-packages\\seaborn\\utils.py:61: UserWarning: Glyph 39184 (\\N{CJK UNIFIED IDEOGRAPH-9910}) missing from current font.\n",
      "  fig.canvas.draw()\n",
      "C:\\Users\\qinqi\\anaconda3\\Lib\\site-packages\\seaborn\\utils.py:61: UserWarning: Glyph 26102 (\\N{CJK UNIFIED IDEOGRAPH-65F6}) missing from current font.\n",
      "  fig.canvas.draw()\n",
      "C:\\Users\\qinqi\\anaconda3\\Lib\\site-packages\\seaborn\\utils.py:61: UserWarning: Glyph 38388 (\\N{CJK UNIFIED IDEOGRAPH-95F4}) missing from current font.\n",
      "  fig.canvas.draw()\n",
      "findfont: Font family 'Sonti SC' not found.\n",
      "findfont: Font family 'Sonti SC' not found.\n",
      "findfont: Font family 'Sonti SC' not found.\n",
      "findfont: Font family 'Sonti SC' not found.\n",
      "findfont: Font family 'Sonti SC' not found.\n",
      "findfont: Font family 'Sonti SC' not found.\n",
      "C:\\Users\\qinqi\\anaconda3\\Lib\\site-packages\\seaborn\\utils.py:61: UserWarning: Glyph 28040 (\\N{CJK UNIFIED IDEOGRAPH-6D88}) missing from current font.\n",
      "  fig.canvas.draw()\n",
      "C:\\Users\\qinqi\\anaconda3\\Lib\\site-packages\\seaborn\\utils.py:61: UserWarning: Glyph 36153 (\\N{CJK UNIFIED IDEOGRAPH-8D39}) missing from current font.\n",
      "  fig.canvas.draw()\n",
      "C:\\Users\\qinqi\\anaconda3\\Lib\\site-packages\\seaborn\\utils.py:61: UserWarning: Glyph 37329 (\\N{CJK UNIFIED IDEOGRAPH-91D1}) missing from current font.\n",
      "  fig.canvas.draw()\n",
      "C:\\Users\\qinqi\\anaconda3\\Lib\\site-packages\\seaborn\\utils.py:61: UserWarning: Glyph 39069 (\\N{CJK UNIFIED IDEOGRAPH-989D}) missing from current font.\n",
      "  fig.canvas.draw()\n",
      "findfont: Font family 'Sonti SC' not found.\n",
      "C:\\Users\\qinqi\\anaconda3\\Lib\\site-packages\\seaborn\\utils.py:61: UserWarning: Glyph 23601 (\\N{CJK UNIFIED IDEOGRAPH-5C31}) missing from current font.\n",
      "  fig.canvas.draw()\n",
      "C:\\Users\\qinqi\\anaconda3\\Lib\\site-packages\\seaborn\\utils.py:61: UserWarning: Glyph 39184 (\\N{CJK UNIFIED IDEOGRAPH-9910}) missing from current font.\n",
      "  fig.canvas.draw()\n",
      "C:\\Users\\qinqi\\anaconda3\\Lib\\site-packages\\seaborn\\utils.py:61: UserWarning: Glyph 26102 (\\N{CJK UNIFIED IDEOGRAPH-65F6}) missing from current font.\n",
      "  fig.canvas.draw()\n",
      "C:\\Users\\qinqi\\anaconda3\\Lib\\site-packages\\seaborn\\utils.py:61: UserWarning: Glyph 38388 (\\N{CJK UNIFIED IDEOGRAPH-95F4}) missing from current font.\n",
      "  fig.canvas.draw()\n",
      "findfont: Font family 'Sonti SC' not found.\n",
      "findfont: Font family 'Sonti SC' not found.\n",
      "C:\\Users\\qinqi\\anaconda3\\Lib\\site-packages\\seaborn\\utils.py:61: UserWarning: Glyph 26159 (\\N{CJK UNIFIED IDEOGRAPH-662F}) missing from current font.\n",
      "  fig.canvas.draw()\n",
      "C:\\Users\\qinqi\\anaconda3\\Lib\\site-packages\\seaborn\\utils.py:61: UserWarning: Glyph 21542 (\\N{CJK UNIFIED IDEOGRAPH-5426}) missing from current font.\n",
      "  fig.canvas.draw()\n",
      "C:\\Users\\qinqi\\anaconda3\\Lib\\site-packages\\seaborn\\utils.py:61: UserWarning: Glyph 21560 (\\N{CJK UNIFIED IDEOGRAPH-5438}) missing from current font.\n",
      "  fig.canvas.draw()\n",
      "C:\\Users\\qinqi\\anaconda3\\Lib\\site-packages\\seaborn\\utils.py:61: UserWarning: Glyph 28895 (\\N{CJK UNIFIED IDEOGRAPH-70DF}) missing from current font.\n",
      "  fig.canvas.draw()\n",
      "findfont: Font family 'Sonti SC' not found.\n",
      "findfont: Font family 'Sonti SC' not found.\n",
      "findfont: Font family 'Sonti SC' not found.\n",
      "findfont: Font family 'Sonti SC' not found.\n",
      "findfont: Font family 'Sonti SC' not found.\n",
      "findfont: Font family 'Sonti SC' not found.\n",
      "C:\\Users\\qinqi\\anaconda3\\Lib\\site-packages\\seaborn\\utils.py:61: UserWarning: Glyph 23458 (\\N{CJK UNIFIED IDEOGRAPH-5BA2}) missing from current font.\n",
      "  fig.canvas.draw()\n",
      "C:\\Users\\qinqi\\anaconda3\\Lib\\site-packages\\seaborn\\utils.py:61: UserWarning: Glyph 20154 (\\N{CJK UNIFIED IDEOGRAPH-4EBA}) missing from current font.\n",
      "  fig.canvas.draw()\n",
      "C:\\Users\\qinqi\\anaconda3\\Lib\\site-packages\\seaborn\\utils.py:61: UserWarning: Glyph 24615 (\\N{CJK UNIFIED IDEOGRAPH-6027}) missing from current font.\n",
      "  fig.canvas.draw()\n",
      "C:\\Users\\qinqi\\anaconda3\\Lib\\site-packages\\seaborn\\utils.py:61: UserWarning: Glyph 21035 (\\N{CJK UNIFIED IDEOGRAPH-522B}) missing from current font.\n",
      "  fig.canvas.draw()\n",
      "findfont: Font family 'Sonti SC' not found.\n",
      "findfont: Font family 'Sonti SC' not found.\n",
      "findfont: Font family 'Sonti SC' not found.\n",
      "findfont: Font family 'Sonti SC' not found.\n",
      "findfont: Font family 'Sonti SC' not found.\n",
      "findfont: Font family 'Sonti SC' not found.\n",
      "findfont: Font family 'Sonti SC' not found.\n",
      "findfont: Font family 'Sonti SC' not found.\n",
      "findfont: Font family 'Sonti SC' not found.\n",
      "findfont: Font family 'Sonti SC' not found.\n",
      "findfont: Font family 'Sonti SC' not found.\n",
      "findfont: Font family 'Sonti SC' not found.\n",
      "findfont: Font family 'Sonti SC' not found.\n",
      "findfont: Font family 'Sonti SC' not found.\n",
      "findfont: Font family 'Sonti SC' not found.\n",
      "findfont: Font family 'Sonti SC' not found.\n",
      "findfont: Font family 'Sonti SC' not found.\n",
      "findfont: Font family 'Sonti SC' not found.\n",
      "findfont: Font family 'Sonti SC' not found.\n",
      "findfont: Font family 'Sonti SC' not found.\n",
      "findfont: Font family 'Sonti SC' not found.\n",
      "findfont: Font family 'Sonti SC' not found.\n",
      "findfont: Font family 'Sonti SC' not found.\n",
      "findfont: Font family 'Sonti SC' not found.\n",
      "C:\\Users\\qinqi\\anaconda3\\Lib\\site-packages\\seaborn\\utils.py:61: UserWarning: Glyph 26159 (\\N{CJK UNIFIED IDEOGRAPH-662F}) missing from current font.\n",
      "  fig.canvas.draw()\n",
      "C:\\Users\\qinqi\\anaconda3\\Lib\\site-packages\\seaborn\\utils.py:61: UserWarning: Glyph 21542 (\\N{CJK UNIFIED IDEOGRAPH-5426}) missing from current font.\n",
      "  fig.canvas.draw()\n",
      "C:\\Users\\qinqi\\anaconda3\\Lib\\site-packages\\seaborn\\utils.py:61: UserWarning: Glyph 21560 (\\N{CJK UNIFIED IDEOGRAPH-5438}) missing from current font.\n",
      "  fig.canvas.draw()\n",
      "C:\\Users\\qinqi\\anaconda3\\Lib\\site-packages\\seaborn\\utils.py:61: UserWarning: Glyph 28895 (\\N{CJK UNIFIED IDEOGRAPH-70DF}) missing from current font.\n",
      "  fig.canvas.draw()\n",
      "findfont: Font family 'Sonti SC' not found.\n",
      "findfont: Font family 'Sonti SC' not found.\n",
      "findfont: Font family 'Sonti SC' not found.\n",
      "findfont: Font family 'Sonti SC' not found.\n",
      "findfont: Font family 'Sonti SC' not found.\n",
      "findfont: Font family 'Sonti SC' not found.\n",
      "C:\\Users\\qinqi\\anaconda3\\Lib\\site-packages\\seaborn\\utils.py:61: UserWarning: Glyph 23458 (\\N{CJK UNIFIED IDEOGRAPH-5BA2}) missing from current font.\n",
      "  fig.canvas.draw()\n",
      "C:\\Users\\qinqi\\anaconda3\\Lib\\site-packages\\seaborn\\utils.py:61: UserWarning: Glyph 20154 (\\N{CJK UNIFIED IDEOGRAPH-4EBA}) missing from current font.\n",
      "  fig.canvas.draw()\n",
      "C:\\Users\\qinqi\\anaconda3\\Lib\\site-packages\\seaborn\\utils.py:61: UserWarning: Glyph 24615 (\\N{CJK UNIFIED IDEOGRAPH-6027}) missing from current font.\n",
      "  fig.canvas.draw()\n",
      "C:\\Users\\qinqi\\anaconda3\\Lib\\site-packages\\seaborn\\utils.py:61: UserWarning: Glyph 21035 (\\N{CJK UNIFIED IDEOGRAPH-522B}) missing from current font.\n",
      "  fig.canvas.draw()\n",
      "findfont: Font family 'Sonti SC' not found.\n",
      "findfont: Font family 'Sonti SC' not found.\n",
      "findfont: Font family 'Sonti SC' not found.\n",
      "findfont: Font family 'Sonti SC' not found.\n",
      "findfont: Font family 'Sonti SC' not found.\n",
      "findfont: Font family 'Sonti SC' not found.\n",
      "findfont: Font family 'Sonti SC' not found.\n",
      "findfont: Font family 'Sonti SC' not found.\n",
      "findfont: Font family 'Sonti SC' not found.\n",
      "findfont: Font family 'Sonti SC' not found.\n",
      "findfont: Font family 'Sonti SC' not found.\n",
      "findfont: Font family 'Sonti SC' not found.\n",
      "findfont: Font family 'Sonti SC' not found.\n",
      "findfont: Font family 'Sonti SC' not found.\n",
      "findfont: Font family 'Sonti SC' not found.\n",
      "findfont: Font family 'Sonti SC' not found.\n",
      "findfont: Font family 'Sonti SC' not found.\n",
      "findfont: Font family 'Sonti SC' not found.\n",
      "C:\\Users\\qinqi\\anaconda3\\Lib\\site-packages\\seaborn\\utils.py:61: UserWarning: Glyph 28040 (\\N{CJK UNIFIED IDEOGRAPH-6D88}) missing from current font.\n",
      "  fig.canvas.draw()\n",
      "C:\\Users\\qinqi\\anaconda3\\Lib\\site-packages\\seaborn\\utils.py:61: UserWarning: Glyph 36153 (\\N{CJK UNIFIED IDEOGRAPH-8D39}) missing from current font.\n",
      "  fig.canvas.draw()\n",
      "C:\\Users\\qinqi\\anaconda3\\Lib\\site-packages\\seaborn\\utils.py:61: UserWarning: Glyph 37329 (\\N{CJK UNIFIED IDEOGRAPH-91D1}) missing from current font.\n",
      "  fig.canvas.draw()\n",
      "C:\\Users\\qinqi\\anaconda3\\Lib\\site-packages\\seaborn\\utils.py:61: UserWarning: Glyph 39069 (\\N{CJK UNIFIED IDEOGRAPH-989D}) missing from current font.\n",
      "  fig.canvas.draw()\n",
      "findfont: Font family 'Sonti SC' not found.\n",
      "findfont: Font family 'Sonti SC' not found.\n",
      "findfont: Font family 'Sonti SC' not found.\n",
      "findfont: Font family 'Sonti SC' not found.\n",
      "findfont: Font family 'Sonti SC' not found.\n",
      "C:\\Users\\qinqi\\anaconda3\\Lib\\site-packages\\seaborn\\utils.py:61: UserWarning: Glyph 23567 (\\N{CJK UNIFIED IDEOGRAPH-5C0F}) missing from current font.\n",
      "  fig.canvas.draw()\n",
      "C:\\Users\\qinqi\\anaconda3\\Lib\\site-packages\\seaborn\\utils.py:61: UserWarning: Glyph 36153 (\\N{CJK UNIFIED IDEOGRAPH-8D39}) missing from current font.\n",
      "  fig.canvas.draw()\n",
      "C:\\Users\\qinqi\\anaconda3\\Lib\\site-packages\\seaborn\\utils.py:61: UserWarning: Glyph 37329 (\\N{CJK UNIFIED IDEOGRAPH-91D1}) missing from current font.\n",
      "  fig.canvas.draw()\n",
      "C:\\Users\\qinqi\\anaconda3\\Lib\\site-packages\\seaborn\\utils.py:61: UserWarning: Glyph 39069 (\\N{CJK UNIFIED IDEOGRAPH-989D}) missing from current font.\n",
      "  fig.canvas.draw()\n",
      "findfont: Font family 'Sonti SC' not found.\n",
      "C:\\Users\\qinqi\\anaconda3\\Lib\\site-packages\\seaborn\\utils.py:61: UserWarning: Glyph 23601 (\\N{CJK UNIFIED IDEOGRAPH-5C31}) missing from current font.\n",
      "  fig.canvas.draw()\n",
      "C:\\Users\\qinqi\\anaconda3\\Lib\\site-packages\\seaborn\\utils.py:61: UserWarning: Glyph 39184 (\\N{CJK UNIFIED IDEOGRAPH-9910}) missing from current font.\n",
      "  fig.canvas.draw()\n",
      "C:\\Users\\qinqi\\anaconda3\\Lib\\site-packages\\seaborn\\utils.py:61: UserWarning: Glyph 26102 (\\N{CJK UNIFIED IDEOGRAPH-65F6}) missing from current font.\n",
      "  fig.canvas.draw()\n",
      "C:\\Users\\qinqi\\anaconda3\\Lib\\site-packages\\seaborn\\utils.py:61: UserWarning: Glyph 38388 (\\N{CJK UNIFIED IDEOGRAPH-95F4}) missing from current font.\n",
      "  fig.canvas.draw()\n",
      "findfont: Font family 'Sonti SC' not found.\n",
      "findfont: Font family 'Sonti SC' not found.\n",
      "findfont: Font family 'Sonti SC' not found.\n",
      "findfont: Font family 'Sonti SC' not found.\n",
      "findfont: Font family 'Sonti SC' not found.\n",
      "findfont: Font family 'Sonti SC' not found.\n",
      "C:\\Users\\qinqi\\anaconda3\\Lib\\site-packages\\seaborn\\utils.py:61: UserWarning: Glyph 28040 (\\N{CJK UNIFIED IDEOGRAPH-6D88}) missing from current font.\n",
      "  fig.canvas.draw()\n",
      "C:\\Users\\qinqi\\anaconda3\\Lib\\site-packages\\seaborn\\utils.py:61: UserWarning: Glyph 36153 (\\N{CJK UNIFIED IDEOGRAPH-8D39}) missing from current font.\n",
      "  fig.canvas.draw()\n",
      "C:\\Users\\qinqi\\anaconda3\\Lib\\site-packages\\seaborn\\utils.py:61: UserWarning: Glyph 37329 (\\N{CJK UNIFIED IDEOGRAPH-91D1}) missing from current font.\n",
      "  fig.canvas.draw()\n",
      "C:\\Users\\qinqi\\anaconda3\\Lib\\site-packages\\seaborn\\utils.py:61: UserWarning: Glyph 39069 (\\N{CJK UNIFIED IDEOGRAPH-989D}) missing from current font.\n",
      "  fig.canvas.draw()\n",
      "findfont: Font family 'Sonti SC' not found.\n",
      "findfont: Font family 'Sonti SC' not found.\n",
      "findfont: Font family 'Sonti SC' not found.\n",
      "findfont: Font family 'Sonti SC' not found.\n",
      "findfont: Font family 'Sonti SC' not found.\n",
      "findfont: Font family 'Sonti SC' not found.\n",
      "C:\\Users\\qinqi\\anaconda3\\Lib\\site-packages\\seaborn\\utils.py:61: UserWarning: Glyph 23567 (\\N{CJK UNIFIED IDEOGRAPH-5C0F}) missing from current font.\n",
      "  fig.canvas.draw()\n",
      "C:\\Users\\qinqi\\anaconda3\\Lib\\site-packages\\seaborn\\utils.py:61: UserWarning: Glyph 36153 (\\N{CJK UNIFIED IDEOGRAPH-8D39}) missing from current font.\n",
      "  fig.canvas.draw()\n",
      "C:\\Users\\qinqi\\anaconda3\\Lib\\site-packages\\seaborn\\utils.py:61: UserWarning: Glyph 37329 (\\N{CJK UNIFIED IDEOGRAPH-91D1}) missing from current font.\n",
      "  fig.canvas.draw()\n",
      "C:\\Users\\qinqi\\anaconda3\\Lib\\site-packages\\seaborn\\utils.py:61: UserWarning: Glyph 39069 (\\N{CJK UNIFIED IDEOGRAPH-989D}) missing from current font.\n",
      "  fig.canvas.draw()\n",
      "findfont: Font family 'Sonti SC' not found.\n",
      "C:\\Users\\qinqi\\anaconda3\\Lib\\site-packages\\seaborn\\utils.py:61: UserWarning: Glyph 23601 (\\N{CJK UNIFIED IDEOGRAPH-5C31}) missing from current font.\n",
      "  fig.canvas.draw()\n",
      "C:\\Users\\qinqi\\anaconda3\\Lib\\site-packages\\seaborn\\utils.py:61: UserWarning: Glyph 39184 (\\N{CJK UNIFIED IDEOGRAPH-9910}) missing from current font.\n",
      "  fig.canvas.draw()\n",
      "C:\\Users\\qinqi\\anaconda3\\Lib\\site-packages\\seaborn\\utils.py:61: UserWarning: Glyph 26102 (\\N{CJK UNIFIED IDEOGRAPH-65F6}) missing from current font.\n",
      "  fig.canvas.draw()\n",
      "C:\\Users\\qinqi\\anaconda3\\Lib\\site-packages\\seaborn\\utils.py:61: UserWarning: Glyph 38388 (\\N{CJK UNIFIED IDEOGRAPH-95F4}) missing from current font.\n",
      "  fig.canvas.draw()\n",
      "findfont: Font family 'Sonti SC' not found.\n",
      "C:\\Users\\qinqi\\anaconda3\\Lib\\site-packages\\seaborn\\utils.py:61: UserWarning: Glyph 23601 (\\N{CJK UNIFIED IDEOGRAPH-5C31}) missing from current font.\n",
      "  fig.canvas.draw()\n",
      "C:\\Users\\qinqi\\anaconda3\\Lib\\site-packages\\seaborn\\utils.py:61: UserWarning: Glyph 39184 (\\N{CJK UNIFIED IDEOGRAPH-9910}) missing from current font.\n",
      "  fig.canvas.draw()\n",
      "C:\\Users\\qinqi\\anaconda3\\Lib\\site-packages\\seaborn\\utils.py:61: UserWarning: Glyph 26102 (\\N{CJK UNIFIED IDEOGRAPH-65F6}) missing from current font.\n",
      "  fig.canvas.draw()\n",
      "C:\\Users\\qinqi\\anaconda3\\Lib\\site-packages\\seaborn\\utils.py:61: UserWarning: Glyph 38388 (\\N{CJK UNIFIED IDEOGRAPH-95F4}) missing from current font.\n",
      "  fig.canvas.draw()\n",
      "findfont: Font family 'Sonti SC' not found.\n",
      "findfont: Font family 'Sonti SC' not found.\n",
      "findfont: Font family 'Sonti SC' not found.\n",
      "findfont: Font family 'Sonti SC' not found.\n",
      "findfont: Font family 'Sonti SC' not found.\n",
      "findfont: Font family 'Sonti SC' not found.\n",
      "C:\\Users\\qinqi\\anaconda3\\Lib\\site-packages\\seaborn\\utils.py:61: UserWarning: Glyph 28040 (\\N{CJK UNIFIED IDEOGRAPH-6D88}) missing from current font.\n",
      "  fig.canvas.draw()\n",
      "C:\\Users\\qinqi\\anaconda3\\Lib\\site-packages\\seaborn\\utils.py:61: UserWarning: Glyph 36153 (\\N{CJK UNIFIED IDEOGRAPH-8D39}) missing from current font.\n",
      "  fig.canvas.draw()\n",
      "C:\\Users\\qinqi\\anaconda3\\Lib\\site-packages\\seaborn\\utils.py:61: UserWarning: Glyph 37329 (\\N{CJK UNIFIED IDEOGRAPH-91D1}) missing from current font.\n",
      "  fig.canvas.draw()\n",
      "C:\\Users\\qinqi\\anaconda3\\Lib\\site-packages\\seaborn\\utils.py:61: UserWarning: Glyph 39069 (\\N{CJK UNIFIED IDEOGRAPH-989D}) missing from current font.\n",
      "  fig.canvas.draw()\n",
      "findfont: Font family 'Sonti SC' not found.\n",
      "C:\\Users\\qinqi\\anaconda3\\Lib\\site-packages\\seaborn\\utils.py:61: UserWarning: Glyph 23601 (\\N{CJK UNIFIED IDEOGRAPH-5C31}) missing from current font.\n",
      "  fig.canvas.draw()\n",
      "C:\\Users\\qinqi\\anaconda3\\Lib\\site-packages\\seaborn\\utils.py:61: UserWarning: Glyph 39184 (\\N{CJK UNIFIED IDEOGRAPH-9910}) missing from current font.\n",
      "  fig.canvas.draw()\n",
      "C:\\Users\\qinqi\\anaconda3\\Lib\\site-packages\\seaborn\\utils.py:61: UserWarning: Glyph 26102 (\\N{CJK UNIFIED IDEOGRAPH-65F6}) missing from current font.\n",
      "  fig.canvas.draw()\n",
      "C:\\Users\\qinqi\\anaconda3\\Lib\\site-packages\\seaborn\\utils.py:61: UserWarning: Glyph 38388 (\\N{CJK UNIFIED IDEOGRAPH-95F4}) missing from current font.\n",
      "  fig.canvas.draw()\n",
      "findfont: Font family 'Sonti SC' not found.\n",
      "findfont: Font family 'Sonti SC' not found.\n",
      "C:\\Users\\qinqi\\anaconda3\\Lib\\site-packages\\seaborn\\utils.py:61: UserWarning: Glyph 26159 (\\N{CJK UNIFIED IDEOGRAPH-662F}) missing from current font.\n",
      "  fig.canvas.draw()\n",
      "C:\\Users\\qinqi\\anaconda3\\Lib\\site-packages\\seaborn\\utils.py:61: UserWarning: Glyph 21542 (\\N{CJK UNIFIED IDEOGRAPH-5426}) missing from current font.\n",
      "  fig.canvas.draw()\n",
      "C:\\Users\\qinqi\\anaconda3\\Lib\\site-packages\\seaborn\\utils.py:61: UserWarning: Glyph 21560 (\\N{CJK UNIFIED IDEOGRAPH-5438}) missing from current font.\n",
      "  fig.canvas.draw()\n",
      "C:\\Users\\qinqi\\anaconda3\\Lib\\site-packages\\seaborn\\utils.py:61: UserWarning: Glyph 28895 (\\N{CJK UNIFIED IDEOGRAPH-70DF}) missing from current font.\n",
      "  fig.canvas.draw()\n",
      "findfont: Font family 'Sonti SC' not found.\n",
      "findfont: Font family 'Sonti SC' not found.\n",
      "findfont: Font family 'Sonti SC' not found.\n",
      "findfont: Font family 'Sonti SC' not found.\n",
      "findfont: Font family 'Sonti SC' not found.\n",
      "findfont: Font family 'Sonti SC' not found.\n",
      "C:\\Users\\qinqi\\anaconda3\\Lib\\site-packages\\seaborn\\utils.py:61: UserWarning: Glyph 23458 (\\N{CJK UNIFIED IDEOGRAPH-5BA2}) missing from current font.\n",
      "  fig.canvas.draw()\n",
      "C:\\Users\\qinqi\\anaconda3\\Lib\\site-packages\\seaborn\\utils.py:61: UserWarning: Glyph 20154 (\\N{CJK UNIFIED IDEOGRAPH-4EBA}) missing from current font.\n",
      "  fig.canvas.draw()\n",
      "C:\\Users\\qinqi\\anaconda3\\Lib\\site-packages\\seaborn\\utils.py:61: UserWarning: Glyph 24615 (\\N{CJK UNIFIED IDEOGRAPH-6027}) missing from current font.\n",
      "  fig.canvas.draw()\n",
      "C:\\Users\\qinqi\\anaconda3\\Lib\\site-packages\\seaborn\\utils.py:61: UserWarning: Glyph 21035 (\\N{CJK UNIFIED IDEOGRAPH-522B}) missing from current font.\n",
      "  fig.canvas.draw()\n",
      "findfont: Font family 'Sonti SC' not found.\n",
      "findfont: Font family 'Sonti SC' not found.\n",
      "findfont: Font family 'Sonti SC' not found.\n",
      "findfont: Font family 'Sonti SC' not found.\n",
      "findfont: Font family 'Sonti SC' not found.\n",
      "findfont: Font family 'Sonti SC' not found.\n",
      "findfont: Font family 'Sonti SC' not found.\n",
      "findfont: Font family 'Sonti SC' not found.\n",
      "findfont: Font family 'Sonti SC' not found.\n",
      "findfont: Font family 'Sonti SC' not found.\n",
      "findfont: Font family 'Sonti SC' not found.\n",
      "findfont: Font family 'Sonti SC' not found.\n",
      "findfont: Font family 'Sonti SC' not found.\n",
      "findfont: Font family 'Sonti SC' not found.\n",
      "findfont: Font family 'Sonti SC' not found.\n",
      "findfont: Font family 'Sonti SC' not found.\n",
      "findfont: Font family 'Sonti SC' not found.\n",
      "findfont: Font family 'Sonti SC' not found.\n",
      "findfont: Font family 'Sonti SC' not found.\n",
      "findfont: Font family 'Sonti SC' not found.\n",
      "findfont: Font family 'Sonti SC' not found.\n",
      "findfont: Font family 'Sonti SC' not found.\n",
      "findfont: Font family 'Sonti SC' not found.\n",
      "findfont: Font family 'Sonti SC' not found.\n",
      "C:\\Users\\qinqi\\anaconda3\\Lib\\site-packages\\seaborn\\utils.py:61: UserWarning: Glyph 26159 (\\N{CJK UNIFIED IDEOGRAPH-662F}) missing from current font.\n",
      "  fig.canvas.draw()\n",
      "C:\\Users\\qinqi\\anaconda3\\Lib\\site-packages\\seaborn\\utils.py:61: UserWarning: Glyph 21542 (\\N{CJK UNIFIED IDEOGRAPH-5426}) missing from current font.\n",
      "  fig.canvas.draw()\n",
      "C:\\Users\\qinqi\\anaconda3\\Lib\\site-packages\\seaborn\\utils.py:61: UserWarning: Glyph 21560 (\\N{CJK UNIFIED IDEOGRAPH-5438}) missing from current font.\n",
      "  fig.canvas.draw()\n",
      "C:\\Users\\qinqi\\anaconda3\\Lib\\site-packages\\seaborn\\utils.py:61: UserWarning: Glyph 28895 (\\N{CJK UNIFIED IDEOGRAPH-70DF}) missing from current font.\n",
      "  fig.canvas.draw()\n",
      "findfont: Font family 'Sonti SC' not found.\n",
      "findfont: Font family 'Sonti SC' not found.\n",
      "findfont: Font family 'Sonti SC' not found.\n",
      "findfont: Font family 'Sonti SC' not found.\n",
      "findfont: Font family 'Sonti SC' not found.\n",
      "findfont: Font family 'Sonti SC' not found.\n",
      "C:\\Users\\qinqi\\anaconda3\\Lib\\site-packages\\seaborn\\utils.py:61: UserWarning: Glyph 23458 (\\N{CJK UNIFIED IDEOGRAPH-5BA2}) missing from current font.\n",
      "  fig.canvas.draw()\n",
      "C:\\Users\\qinqi\\anaconda3\\Lib\\site-packages\\seaborn\\utils.py:61: UserWarning: Glyph 20154 (\\N{CJK UNIFIED IDEOGRAPH-4EBA}) missing from current font.\n",
      "  fig.canvas.draw()\n",
      "C:\\Users\\qinqi\\anaconda3\\Lib\\site-packages\\seaborn\\utils.py:61: UserWarning: Glyph 24615 (\\N{CJK UNIFIED IDEOGRAPH-6027}) missing from current font.\n",
      "  fig.canvas.draw()\n",
      "C:\\Users\\qinqi\\anaconda3\\Lib\\site-packages\\seaborn\\utils.py:61: UserWarning: Glyph 21035 (\\N{CJK UNIFIED IDEOGRAPH-522B}) missing from current font.\n",
      "  fig.canvas.draw()\n",
      "findfont: Font family 'Sonti SC' not found.\n",
      "findfont: Font family 'Sonti SC' not found.\n",
      "findfont: Font family 'Sonti SC' not found.\n",
      "findfont: Font family 'Sonti SC' not found.\n",
      "findfont: Font family 'Sonti SC' not found.\n",
      "findfont: Font family 'Sonti SC' not found.\n",
      "findfont: Font family 'Sonti SC' not found.\n",
      "findfont: Font family 'Sonti SC' not found.\n",
      "findfont: Font family 'Sonti SC' not found.\n",
      "findfont: Font family 'Sonti SC' not found.\n"
     ]
    },
    {
     "data": {
      "text/plain": [
       "<seaborn.axisgrid.FacetGrid at 0x1ac51ed7770>"
      ]
     },
     "execution_count": 12,
     "metadata": {},
     "output_type": "execute_result"
    },
    {
     "name": "stderr",
     "output_type": "stream",
     "text": [
      "findfont: Font family 'Sonti SC' not found.\n",
      "findfont: Font family 'Sonti SC' not found.\n",
      "findfont: Font family 'Sonti SC' not found.\n",
      "findfont: Font family 'Sonti SC' not found.\n",
      "findfont: Font family 'Sonti SC' not found.\n",
      "findfont: Font family 'Sonti SC' not found.\n",
      "C:\\Users\\qinqi\\anaconda3\\Lib\\site-packages\\IPython\\core\\events.py:82: UserWarning: Glyph 28040 (\\N{CJK UNIFIED IDEOGRAPH-6D88}) missing from current font.\n",
      "  func(*args, **kwargs)\n",
      "C:\\Users\\qinqi\\anaconda3\\Lib\\site-packages\\IPython\\core\\events.py:82: UserWarning: Glyph 36153 (\\N{CJK UNIFIED IDEOGRAPH-8D39}) missing from current font.\n",
      "  func(*args, **kwargs)\n",
      "C:\\Users\\qinqi\\anaconda3\\Lib\\site-packages\\IPython\\core\\events.py:82: UserWarning: Glyph 37329 (\\N{CJK UNIFIED IDEOGRAPH-91D1}) missing from current font.\n",
      "  func(*args, **kwargs)\n",
      "C:\\Users\\qinqi\\anaconda3\\Lib\\site-packages\\IPython\\core\\events.py:82: UserWarning: Glyph 39069 (\\N{CJK UNIFIED IDEOGRAPH-989D}) missing from current font.\n",
      "  func(*args, **kwargs)\n",
      "findfont: Font family 'Sonti SC' not found.\n",
      "findfont: Font family 'Sonti SC' not found.\n",
      "findfont: Font family 'Sonti SC' not found.\n",
      "findfont: Font family 'Sonti SC' not found.\n",
      "findfont: Font family 'Sonti SC' not found.\n",
      "findfont: Font family 'Sonti SC' not found.\n",
      "C:\\Users\\qinqi\\anaconda3\\Lib\\site-packages\\IPython\\core\\events.py:82: UserWarning: Glyph 23567 (\\N{CJK UNIFIED IDEOGRAPH-5C0F}) missing from current font.\n",
      "  func(*args, **kwargs)\n",
      "C:\\Users\\qinqi\\anaconda3\\Lib\\site-packages\\IPython\\core\\events.py:82: UserWarning: Glyph 36153 (\\N{CJK UNIFIED IDEOGRAPH-8D39}) missing from current font.\n",
      "  func(*args, **kwargs)\n",
      "C:\\Users\\qinqi\\anaconda3\\Lib\\site-packages\\IPython\\core\\events.py:82: UserWarning: Glyph 37329 (\\N{CJK UNIFIED IDEOGRAPH-91D1}) missing from current font.\n",
      "  func(*args, **kwargs)\n",
      "C:\\Users\\qinqi\\anaconda3\\Lib\\site-packages\\IPython\\core\\events.py:82: UserWarning: Glyph 39069 (\\N{CJK UNIFIED IDEOGRAPH-989D}) missing from current font.\n",
      "  func(*args, **kwargs)\n",
      "findfont: Font family 'Sonti SC' not found.\n",
      "C:\\Users\\qinqi\\anaconda3\\Lib\\site-packages\\IPython\\core\\events.py:82: UserWarning: Glyph 23601 (\\N{CJK UNIFIED IDEOGRAPH-5C31}) missing from current font.\n",
      "  func(*args, **kwargs)\n",
      "C:\\Users\\qinqi\\anaconda3\\Lib\\site-packages\\IPython\\core\\events.py:82: UserWarning: Glyph 39184 (\\N{CJK UNIFIED IDEOGRAPH-9910}) missing from current font.\n",
      "  func(*args, **kwargs)\n",
      "C:\\Users\\qinqi\\anaconda3\\Lib\\site-packages\\IPython\\core\\events.py:82: UserWarning: Glyph 26102 (\\N{CJK UNIFIED IDEOGRAPH-65F6}) missing from current font.\n",
      "  func(*args, **kwargs)\n",
      "C:\\Users\\qinqi\\anaconda3\\Lib\\site-packages\\IPython\\core\\events.py:82: UserWarning: Glyph 38388 (\\N{CJK UNIFIED IDEOGRAPH-95F4}) missing from current font.\n",
      "  func(*args, **kwargs)\n",
      "findfont: Font family 'Sonti SC' not found.\n",
      "findfont: Font family 'Sonti SC' not found.\n",
      "findfont: Font family 'Sonti SC' not found.\n",
      "findfont: Font family 'Sonti SC' not found.\n",
      "findfont: Font family 'Sonti SC' not found.\n",
      "findfont: Font family 'Sonti SC' not found.\n",
      "C:\\Users\\qinqi\\anaconda3\\Lib\\site-packages\\IPython\\core\\events.py:82: UserWarning: Glyph 28040 (\\N{CJK UNIFIED IDEOGRAPH-6D88}) missing from current font.\n",
      "  func(*args, **kwargs)\n",
      "C:\\Users\\qinqi\\anaconda3\\Lib\\site-packages\\IPython\\core\\events.py:82: UserWarning: Glyph 36153 (\\N{CJK UNIFIED IDEOGRAPH-8D39}) missing from current font.\n",
      "  func(*args, **kwargs)\n",
      "C:\\Users\\qinqi\\anaconda3\\Lib\\site-packages\\IPython\\core\\events.py:82: UserWarning: Glyph 37329 (\\N{CJK UNIFIED IDEOGRAPH-91D1}) missing from current font.\n",
      "  func(*args, **kwargs)\n",
      "C:\\Users\\qinqi\\anaconda3\\Lib\\site-packages\\IPython\\core\\events.py:82: UserWarning: Glyph 39069 (\\N{CJK UNIFIED IDEOGRAPH-989D}) missing from current font.\n",
      "  func(*args, **kwargs)\n",
      "findfont: Font family 'Sonti SC' not found.\n",
      "C:\\Users\\qinqi\\anaconda3\\Lib\\site-packages\\IPython\\core\\events.py:82: UserWarning: Glyph 23601 (\\N{CJK UNIFIED IDEOGRAPH-5C31}) missing from current font.\n",
      "  func(*args, **kwargs)\n",
      "C:\\Users\\qinqi\\anaconda3\\Lib\\site-packages\\IPython\\core\\events.py:82: UserWarning: Glyph 39184 (\\N{CJK UNIFIED IDEOGRAPH-9910}) missing from current font.\n",
      "  func(*args, **kwargs)\n",
      "C:\\Users\\qinqi\\anaconda3\\Lib\\site-packages\\IPython\\core\\events.py:82: UserWarning: Glyph 26102 (\\N{CJK UNIFIED IDEOGRAPH-65F6}) missing from current font.\n",
      "  func(*args, **kwargs)\n",
      "C:\\Users\\qinqi\\anaconda3\\Lib\\site-packages\\IPython\\core\\events.py:82: UserWarning: Glyph 38388 (\\N{CJK UNIFIED IDEOGRAPH-95F4}) missing from current font.\n",
      "  func(*args, **kwargs)\n",
      "findfont: Font family 'Sonti SC' not found.\n",
      "findfont: Font family 'Sonti SC' not found.\n",
      "findfont: Font family 'Sonti SC' not found.\n",
      "findfont: Font family 'Sonti SC' not found.\n",
      "findfont: Font family 'Sonti SC' not found.\n",
      "findfont: Font family 'Sonti SC' not found.\n",
      "findfont: Font family 'Sonti SC' not found.\n",
      "findfont: Font family 'Sonti SC' not found.\n",
      "findfont: Font family 'Sonti SC' not found.\n",
      "findfont: Font family 'Sonti SC' not found.\n",
      "findfont: Font family 'Sonti SC' not found.\n",
      "findfont: Font family 'Sonti SC' not found.\n",
      "findfont: Font family 'Sonti SC' not found.\n",
      "findfont: Font family 'Sonti SC' not found.\n",
      "findfont: Font family 'Sonti SC' not found.\n",
      "findfont: Font family 'Sonti SC' not found.\n",
      "findfont: Font family 'Sonti SC' not found.\n",
      "findfont: Font family 'Sonti SC' not found.\n",
      "findfont: Font family 'Sonti SC' not found.\n",
      "findfont: Font family 'Sonti SC' not found.\n",
      "findfont: Font family 'Sonti SC' not found.\n",
      "findfont: Font family 'Sonti SC' not found.\n",
      "findfont: Font family 'Sonti SC' not found.\n",
      "findfont: Font family 'Sonti SC' not found.\n",
      "findfont: Font family 'Sonti SC' not found.\n",
      "findfont: Font family 'Sonti SC' not found.\n",
      "C:\\Users\\qinqi\\anaconda3\\Lib\\site-packages\\IPython\\core\\events.py:82: UserWarning: Glyph 26159 (\\N{CJK UNIFIED IDEOGRAPH-662F}) missing from current font.\n",
      "  func(*args, **kwargs)\n",
      "C:\\Users\\qinqi\\anaconda3\\Lib\\site-packages\\IPython\\core\\events.py:82: UserWarning: Glyph 21542 (\\N{CJK UNIFIED IDEOGRAPH-5426}) missing from current font.\n",
      "  func(*args, **kwargs)\n",
      "C:\\Users\\qinqi\\anaconda3\\Lib\\site-packages\\IPython\\core\\events.py:82: UserWarning: Glyph 21560 (\\N{CJK UNIFIED IDEOGRAPH-5438}) missing from current font.\n",
      "  func(*args, **kwargs)\n",
      "C:\\Users\\qinqi\\anaconda3\\Lib\\site-packages\\IPython\\core\\events.py:82: UserWarning: Glyph 28895 (\\N{CJK UNIFIED IDEOGRAPH-70DF}) missing from current font.\n",
      "  func(*args, **kwargs)\n",
      "findfont: Font family 'Sonti SC' not found.\n",
      "findfont: Font family 'Sonti SC' not found.\n",
      "findfont: Font family 'Sonti SC' not found.\n",
      "findfont: Font family 'Sonti SC' not found.\n",
      "findfont: Font family 'Sonti SC' not found.\n",
      "findfont: Font family 'Sonti SC' not found.\n",
      "C:\\Users\\qinqi\\anaconda3\\Lib\\site-packages\\IPython\\core\\events.py:82: UserWarning: Glyph 23458 (\\N{CJK UNIFIED IDEOGRAPH-5BA2}) missing from current font.\n",
      "  func(*args, **kwargs)\n",
      "C:\\Users\\qinqi\\anaconda3\\Lib\\site-packages\\IPython\\core\\events.py:82: UserWarning: Glyph 20154 (\\N{CJK UNIFIED IDEOGRAPH-4EBA}) missing from current font.\n",
      "  func(*args, **kwargs)\n",
      "C:\\Users\\qinqi\\anaconda3\\Lib\\site-packages\\IPython\\core\\events.py:82: UserWarning: Glyph 24615 (\\N{CJK UNIFIED IDEOGRAPH-6027}) missing from current font.\n",
      "  func(*args, **kwargs)\n",
      "C:\\Users\\qinqi\\anaconda3\\Lib\\site-packages\\IPython\\core\\events.py:82: UserWarning: Glyph 21035 (\\N{CJK UNIFIED IDEOGRAPH-522B}) missing from current font.\n",
      "  func(*args, **kwargs)\n",
      "findfont: Font family 'Sonti SC' not found.\n",
      "findfont: Font family 'Sonti SC' not found.\n",
      "findfont: Font family 'Sonti SC' not found.\n",
      "findfont: Font family 'Sonti SC' not found.\n",
      "findfont: Font family 'Sonti SC' not found.\n",
      "findfont: Font family 'Sonti SC' not found.\n",
      "findfont: Font family 'Sonti SC' not found.\n",
      "findfont: Font family 'Sonti SC' not found.\n",
      "findfont: Font family 'Sonti SC' not found.\n",
      "findfont: Font family 'Sonti SC' not found.\n",
      "findfont: Font family 'Sonti SC' not found.\n",
      "findfont: Font family 'Sonti SC' not found.\n",
      "findfont: Font family 'Sonti SC' not found.\n",
      "findfont: Font family 'Sonti SC' not found.\n",
      "findfont: Font family 'Sonti SC' not found.\n",
      "findfont: Font family 'Sonti SC' not found.\n",
      "findfont: Font family 'Sonti SC' not found.\n",
      "findfont: Font family 'Sonti SC' not found.\n",
      "findfont: Font family 'Sonti SC' not found.\n",
      "findfont: Font family 'Sonti SC' not found.\n",
      "findfont: Font family 'Sonti SC' not found.\n",
      "findfont: Font family 'Sonti SC' not found.\n",
      "findfont: Font family 'Sonti SC' not found.\n",
      "findfont: Font family 'Sonti SC' not found.\n",
      "findfont: Font family 'Sonti SC' not found.\n",
      "findfont: Font family 'Sonti SC' not found.\n",
      "findfont: Font family 'Sonti SC' not found.\n",
      "findfont: Font family 'Sonti SC' not found.\n",
      "findfont: Font family 'Sonti SC' not found.\n",
      "findfont: Font family 'Sonti SC' not found.\n",
      "findfont: Font family 'Sonti SC' not found.\n",
      "findfont: Font family 'Sonti SC' not found.\n",
      "findfont: Font family 'Sonti SC' not found.\n",
      "findfont: Font family 'Sonti SC' not found.\n",
      "findfont: Font family 'Sonti SC' not found.\n",
      "findfont: Font family 'Sonti SC' not found.\n",
      "findfont: Font family 'Sonti SC' not found.\n",
      "findfont: Font family 'Sonti SC' not found.\n",
      "findfont: Font family 'Sonti SC' not found.\n",
      "findfont: Font family 'Sonti SC' not found.\n",
      "findfont: Font family 'Sonti SC' not found.\n",
      "findfont: Font family 'Sonti SC' not found.\n",
      "findfont: Font family 'Sonti SC' not found.\n",
      "findfont: Font family 'Sonti SC' not found.\n",
      "findfont: Font family 'Sonti SC' not found.\n",
      "findfont: Font family 'Sonti SC' not found.\n",
      "findfont: Font family 'Sonti SC' not found.\n",
      "findfont: Font family 'Sonti SC' not found.\n",
      "C:\\Users\\qinqi\\anaconda3\\Lib\\site-packages\\IPython\\core\\pylabtools.py:170: UserWarning: Glyph 28040 (\\N{CJK UNIFIED IDEOGRAPH-6D88}) missing from current font.\n",
      "  fig.canvas.print_figure(bytes_io, **kw)\n",
      "C:\\Users\\qinqi\\anaconda3\\Lib\\site-packages\\IPython\\core\\pylabtools.py:170: UserWarning: Glyph 36153 (\\N{CJK UNIFIED IDEOGRAPH-8D39}) missing from current font.\n",
      "  fig.canvas.print_figure(bytes_io, **kw)\n",
      "C:\\Users\\qinqi\\anaconda3\\Lib\\site-packages\\IPython\\core\\pylabtools.py:170: UserWarning: Glyph 37329 (\\N{CJK UNIFIED IDEOGRAPH-91D1}) missing from current font.\n",
      "  fig.canvas.print_figure(bytes_io, **kw)\n",
      "C:\\Users\\qinqi\\anaconda3\\Lib\\site-packages\\IPython\\core\\pylabtools.py:170: UserWarning: Glyph 39069 (\\N{CJK UNIFIED IDEOGRAPH-989D}) missing from current font.\n",
      "  fig.canvas.print_figure(bytes_io, **kw)\n",
      "findfont: Font family 'Sonti SC' not found.\n",
      "findfont: Font family 'Sonti SC' not found.\n",
      "findfont: Font family 'Sonti SC' not found.\n",
      "findfont: Font family 'Sonti SC' not found.\n",
      "findfont: Font family 'Sonti SC' not found.\n",
      "C:\\Users\\qinqi\\anaconda3\\Lib\\site-packages\\IPython\\core\\pylabtools.py:170: UserWarning: Glyph 23567 (\\N{CJK UNIFIED IDEOGRAPH-5C0F}) missing from current font.\n",
      "  fig.canvas.print_figure(bytes_io, **kw)\n",
      "C:\\Users\\qinqi\\anaconda3\\Lib\\site-packages\\IPython\\core\\pylabtools.py:170: UserWarning: Glyph 36153 (\\N{CJK UNIFIED IDEOGRAPH-8D39}) missing from current font.\n",
      "  fig.canvas.print_figure(bytes_io, **kw)\n",
      "C:\\Users\\qinqi\\anaconda3\\Lib\\site-packages\\IPython\\core\\pylabtools.py:170: UserWarning: Glyph 37329 (\\N{CJK UNIFIED IDEOGRAPH-91D1}) missing from current font.\n",
      "  fig.canvas.print_figure(bytes_io, **kw)\n",
      "C:\\Users\\qinqi\\anaconda3\\Lib\\site-packages\\IPython\\core\\pylabtools.py:170: UserWarning: Glyph 39069 (\\N{CJK UNIFIED IDEOGRAPH-989D}) missing from current font.\n",
      "  fig.canvas.print_figure(bytes_io, **kw)\n",
      "findfont: Font family 'Sonti SC' not found.\n",
      "C:\\Users\\qinqi\\anaconda3\\Lib\\site-packages\\IPython\\core\\pylabtools.py:170: UserWarning: Glyph 23601 (\\N{CJK UNIFIED IDEOGRAPH-5C31}) missing from current font.\n",
      "  fig.canvas.print_figure(bytes_io, **kw)\n",
      "C:\\Users\\qinqi\\anaconda3\\Lib\\site-packages\\IPython\\core\\pylabtools.py:170: UserWarning: Glyph 39184 (\\N{CJK UNIFIED IDEOGRAPH-9910}) missing from current font.\n",
      "  fig.canvas.print_figure(bytes_io, **kw)\n",
      "C:\\Users\\qinqi\\anaconda3\\Lib\\site-packages\\IPython\\core\\pylabtools.py:170: UserWarning: Glyph 26102 (\\N{CJK UNIFIED IDEOGRAPH-65F6}) missing from current font.\n",
      "  fig.canvas.print_figure(bytes_io, **kw)\n",
      "C:\\Users\\qinqi\\anaconda3\\Lib\\site-packages\\IPython\\core\\pylabtools.py:170: UserWarning: Glyph 38388 (\\N{CJK UNIFIED IDEOGRAPH-95F4}) missing from current font.\n",
      "  fig.canvas.print_figure(bytes_io, **kw)\n",
      "findfont: Font family 'Sonti SC' not found.\n",
      "findfont: Font family 'Sonti SC' not found.\n",
      "findfont: Font family 'Sonti SC' not found.\n",
      "findfont: Font family 'Sonti SC' not found.\n",
      "findfont: Font family 'Sonti SC' not found.\n",
      "findfont: Font family 'Sonti SC' not found.\n",
      "C:\\Users\\qinqi\\anaconda3\\Lib\\site-packages\\IPython\\core\\pylabtools.py:170: UserWarning: Glyph 28040 (\\N{CJK UNIFIED IDEOGRAPH-6D88}) missing from current font.\n",
      "  fig.canvas.print_figure(bytes_io, **kw)\n",
      "C:\\Users\\qinqi\\anaconda3\\Lib\\site-packages\\IPython\\core\\pylabtools.py:170: UserWarning: Glyph 36153 (\\N{CJK UNIFIED IDEOGRAPH-8D39}) missing from current font.\n",
      "  fig.canvas.print_figure(bytes_io, **kw)\n",
      "C:\\Users\\qinqi\\anaconda3\\Lib\\site-packages\\IPython\\core\\pylabtools.py:170: UserWarning: Glyph 37329 (\\N{CJK UNIFIED IDEOGRAPH-91D1}) missing from current font.\n",
      "  fig.canvas.print_figure(bytes_io, **kw)\n",
      "C:\\Users\\qinqi\\anaconda3\\Lib\\site-packages\\IPython\\core\\pylabtools.py:170: UserWarning: Glyph 39069 (\\N{CJK UNIFIED IDEOGRAPH-989D}) missing from current font.\n",
      "  fig.canvas.print_figure(bytes_io, **kw)\n",
      "findfont: Font family 'Sonti SC' not found.\n",
      "findfont: Font family 'Sonti SC' not found.\n",
      "findfont: Font family 'Sonti SC' not found.\n",
      "findfont: Font family 'Sonti SC' not found.\n",
      "findfont: Font family 'Sonti SC' not found.\n",
      "findfont: Font family 'Sonti SC' not found.\n",
      "C:\\Users\\qinqi\\anaconda3\\Lib\\site-packages\\IPython\\core\\pylabtools.py:170: UserWarning: Glyph 23567 (\\N{CJK UNIFIED IDEOGRAPH-5C0F}) missing from current font.\n",
      "  fig.canvas.print_figure(bytes_io, **kw)\n",
      "C:\\Users\\qinqi\\anaconda3\\Lib\\site-packages\\IPython\\core\\pylabtools.py:170: UserWarning: Glyph 36153 (\\N{CJK UNIFIED IDEOGRAPH-8D39}) missing from current font.\n",
      "  fig.canvas.print_figure(bytes_io, **kw)\n",
      "C:\\Users\\qinqi\\anaconda3\\Lib\\site-packages\\IPython\\core\\pylabtools.py:170: UserWarning: Glyph 37329 (\\N{CJK UNIFIED IDEOGRAPH-91D1}) missing from current font.\n",
      "  fig.canvas.print_figure(bytes_io, **kw)\n",
      "C:\\Users\\qinqi\\anaconda3\\Lib\\site-packages\\IPython\\core\\pylabtools.py:170: UserWarning: Glyph 39069 (\\N{CJK UNIFIED IDEOGRAPH-989D}) missing from current font.\n",
      "  fig.canvas.print_figure(bytes_io, **kw)\n",
      "findfont: Font family 'Sonti SC' not found.\n",
      "C:\\Users\\qinqi\\anaconda3\\Lib\\site-packages\\IPython\\core\\pylabtools.py:170: UserWarning: Glyph 23601 (\\N{CJK UNIFIED IDEOGRAPH-5C31}) missing from current font.\n",
      "  fig.canvas.print_figure(bytes_io, **kw)\n",
      "C:\\Users\\qinqi\\anaconda3\\Lib\\site-packages\\IPython\\core\\pylabtools.py:170: UserWarning: Glyph 39184 (\\N{CJK UNIFIED IDEOGRAPH-9910}) missing from current font.\n",
      "  fig.canvas.print_figure(bytes_io, **kw)\n",
      "C:\\Users\\qinqi\\anaconda3\\Lib\\site-packages\\IPython\\core\\pylabtools.py:170: UserWarning: Glyph 26102 (\\N{CJK UNIFIED IDEOGRAPH-65F6}) missing from current font.\n",
      "  fig.canvas.print_figure(bytes_io, **kw)\n",
      "C:\\Users\\qinqi\\anaconda3\\Lib\\site-packages\\IPython\\core\\pylabtools.py:170: UserWarning: Glyph 38388 (\\N{CJK UNIFIED IDEOGRAPH-95F4}) missing from current font.\n",
      "  fig.canvas.print_figure(bytes_io, **kw)\n",
      "findfont: Font family 'Sonti SC' not found.\n",
      "C:\\Users\\qinqi\\anaconda3\\Lib\\site-packages\\IPython\\core\\pylabtools.py:170: UserWarning: Glyph 23601 (\\N{CJK UNIFIED IDEOGRAPH-5C31}) missing from current font.\n",
      "  fig.canvas.print_figure(bytes_io, **kw)\n",
      "C:\\Users\\qinqi\\anaconda3\\Lib\\site-packages\\IPython\\core\\pylabtools.py:170: UserWarning: Glyph 39184 (\\N{CJK UNIFIED IDEOGRAPH-9910}) missing from current font.\n",
      "  fig.canvas.print_figure(bytes_io, **kw)\n",
      "C:\\Users\\qinqi\\anaconda3\\Lib\\site-packages\\IPython\\core\\pylabtools.py:170: UserWarning: Glyph 26102 (\\N{CJK UNIFIED IDEOGRAPH-65F6}) missing from current font.\n",
      "  fig.canvas.print_figure(bytes_io, **kw)\n",
      "C:\\Users\\qinqi\\anaconda3\\Lib\\site-packages\\IPython\\core\\pylabtools.py:170: UserWarning: Glyph 38388 (\\N{CJK UNIFIED IDEOGRAPH-95F4}) missing from current font.\n",
      "  fig.canvas.print_figure(bytes_io, **kw)\n",
      "findfont: Font family 'Sonti SC' not found.\n",
      "findfont: Font family 'Sonti SC' not found.\n",
      "findfont: Font family 'Sonti SC' not found.\n",
      "findfont: Font family 'Sonti SC' not found.\n",
      "findfont: Font family 'Sonti SC' not found.\n",
      "findfont: Font family 'Sonti SC' not found.\n",
      "C:\\Users\\qinqi\\anaconda3\\Lib\\site-packages\\IPython\\core\\pylabtools.py:170: UserWarning: Glyph 28040 (\\N{CJK UNIFIED IDEOGRAPH-6D88}) missing from current font.\n",
      "  fig.canvas.print_figure(bytes_io, **kw)\n",
      "C:\\Users\\qinqi\\anaconda3\\Lib\\site-packages\\IPython\\core\\pylabtools.py:170: UserWarning: Glyph 36153 (\\N{CJK UNIFIED IDEOGRAPH-8D39}) missing from current font.\n",
      "  fig.canvas.print_figure(bytes_io, **kw)\n",
      "C:\\Users\\qinqi\\anaconda3\\Lib\\site-packages\\IPython\\core\\pylabtools.py:170: UserWarning: Glyph 37329 (\\N{CJK UNIFIED IDEOGRAPH-91D1}) missing from current font.\n",
      "  fig.canvas.print_figure(bytes_io, **kw)\n",
      "C:\\Users\\qinqi\\anaconda3\\Lib\\site-packages\\IPython\\core\\pylabtools.py:170: UserWarning: Glyph 39069 (\\N{CJK UNIFIED IDEOGRAPH-989D}) missing from current font.\n",
      "  fig.canvas.print_figure(bytes_io, **kw)\n",
      "findfont: Font family 'Sonti SC' not found.\n",
      "C:\\Users\\qinqi\\anaconda3\\Lib\\site-packages\\IPython\\core\\pylabtools.py:170: UserWarning: Glyph 23601 (\\N{CJK UNIFIED IDEOGRAPH-5C31}) missing from current font.\n",
      "  fig.canvas.print_figure(bytes_io, **kw)\n",
      "C:\\Users\\qinqi\\anaconda3\\Lib\\site-packages\\IPython\\core\\pylabtools.py:170: UserWarning: Glyph 39184 (\\N{CJK UNIFIED IDEOGRAPH-9910}) missing from current font.\n",
      "  fig.canvas.print_figure(bytes_io, **kw)\n",
      "C:\\Users\\qinqi\\anaconda3\\Lib\\site-packages\\IPython\\core\\pylabtools.py:170: UserWarning: Glyph 26102 (\\N{CJK UNIFIED IDEOGRAPH-65F6}) missing from current font.\n",
      "  fig.canvas.print_figure(bytes_io, **kw)\n",
      "C:\\Users\\qinqi\\anaconda3\\Lib\\site-packages\\IPython\\core\\pylabtools.py:170: UserWarning: Glyph 38388 (\\N{CJK UNIFIED IDEOGRAPH-95F4}) missing from current font.\n",
      "  fig.canvas.print_figure(bytes_io, **kw)\n",
      "findfont: Font family 'Sonti SC' not found.\n",
      "findfont: Font family 'Sonti SC' not found.\n",
      "C:\\Users\\qinqi\\anaconda3\\Lib\\site-packages\\IPython\\core\\pylabtools.py:170: UserWarning: Glyph 26159 (\\N{CJK UNIFIED IDEOGRAPH-662F}) missing from current font.\n",
      "  fig.canvas.print_figure(bytes_io, **kw)\n",
      "C:\\Users\\qinqi\\anaconda3\\Lib\\site-packages\\IPython\\core\\pylabtools.py:170: UserWarning: Glyph 21542 (\\N{CJK UNIFIED IDEOGRAPH-5426}) missing from current font.\n",
      "  fig.canvas.print_figure(bytes_io, **kw)\n",
      "C:\\Users\\qinqi\\anaconda3\\Lib\\site-packages\\IPython\\core\\pylabtools.py:170: UserWarning: Glyph 21560 (\\N{CJK UNIFIED IDEOGRAPH-5438}) missing from current font.\n",
      "  fig.canvas.print_figure(bytes_io, **kw)\n",
      "C:\\Users\\qinqi\\anaconda3\\Lib\\site-packages\\IPython\\core\\pylabtools.py:170: UserWarning: Glyph 28895 (\\N{CJK UNIFIED IDEOGRAPH-70DF}) missing from current font.\n",
      "  fig.canvas.print_figure(bytes_io, **kw)\n",
      "findfont: Font family 'Sonti SC' not found.\n",
      "findfont: Font family 'Sonti SC' not found.\n",
      "findfont: Font family 'Sonti SC' not found.\n",
      "findfont: Font family 'Sonti SC' not found.\n",
      "findfont: Font family 'Sonti SC' not found.\n",
      "findfont: Font family 'Sonti SC' not found.\n",
      "C:\\Users\\qinqi\\anaconda3\\Lib\\site-packages\\IPython\\core\\pylabtools.py:170: UserWarning: Glyph 23458 (\\N{CJK UNIFIED IDEOGRAPH-5BA2}) missing from current font.\n",
      "  fig.canvas.print_figure(bytes_io, **kw)\n",
      "C:\\Users\\qinqi\\anaconda3\\Lib\\site-packages\\IPython\\core\\pylabtools.py:170: UserWarning: Glyph 20154 (\\N{CJK UNIFIED IDEOGRAPH-4EBA}) missing from current font.\n",
      "  fig.canvas.print_figure(bytes_io, **kw)\n",
      "C:\\Users\\qinqi\\anaconda3\\Lib\\site-packages\\IPython\\core\\pylabtools.py:170: UserWarning: Glyph 24615 (\\N{CJK UNIFIED IDEOGRAPH-6027}) missing from current font.\n",
      "  fig.canvas.print_figure(bytes_io, **kw)\n",
      "C:\\Users\\qinqi\\anaconda3\\Lib\\site-packages\\IPython\\core\\pylabtools.py:170: UserWarning: Glyph 21035 (\\N{CJK UNIFIED IDEOGRAPH-522B}) missing from current font.\n",
      "  fig.canvas.print_figure(bytes_io, **kw)\n",
      "findfont: Font family 'Sonti SC' not found.\n",
      "findfont: Font family 'Sonti SC' not found.\n",
      "findfont: Font family 'Sonti SC' not found.\n",
      "findfont: Font family 'Sonti SC' not found.\n",
      "findfont: Font family 'Sonti SC' not found.\n",
      "findfont: Font family 'Sonti SC' not found.\n",
      "findfont: Font family 'Sonti SC' not found.\n",
      "findfont: Font family 'Sonti SC' not found.\n",
      "findfont: Font family 'Sonti SC' not found.\n",
      "findfont: Font family 'Sonti SC' not found.\n",
      "findfont: Font family 'Sonti SC' not found.\n",
      "findfont: Font family 'Sonti SC' not found.\n",
      "findfont: Font family 'Sonti SC' not found.\n",
      "findfont: Font family 'Sonti SC' not found.\n",
      "findfont: Font family 'Sonti SC' not found.\n",
      "findfont: Font family 'Sonti SC' not found.\n",
      "findfont: Font family 'Sonti SC' not found.\n",
      "findfont: Font family 'Sonti SC' not found.\n",
      "findfont: Font family 'Sonti SC' not found.\n",
      "findfont: Font family 'Sonti SC' not found.\n",
      "findfont: Font family 'Sonti SC' not found.\n",
      "findfont: Font family 'Sonti SC' not found.\n",
      "findfont: Font family 'Sonti SC' not found.\n",
      "findfont: Font family 'Sonti SC' not found.\n",
      "C:\\Users\\qinqi\\anaconda3\\Lib\\site-packages\\IPython\\core\\pylabtools.py:170: UserWarning: Glyph 26159 (\\N{CJK UNIFIED IDEOGRAPH-662F}) missing from current font.\n",
      "  fig.canvas.print_figure(bytes_io, **kw)\n",
      "C:\\Users\\qinqi\\anaconda3\\Lib\\site-packages\\IPython\\core\\pylabtools.py:170: UserWarning: Glyph 21542 (\\N{CJK UNIFIED IDEOGRAPH-5426}) missing from current font.\n",
      "  fig.canvas.print_figure(bytes_io, **kw)\n",
      "C:\\Users\\qinqi\\anaconda3\\Lib\\site-packages\\IPython\\core\\pylabtools.py:170: UserWarning: Glyph 21560 (\\N{CJK UNIFIED IDEOGRAPH-5438}) missing from current font.\n",
      "  fig.canvas.print_figure(bytes_io, **kw)\n",
      "C:\\Users\\qinqi\\anaconda3\\Lib\\site-packages\\IPython\\core\\pylabtools.py:170: UserWarning: Glyph 28895 (\\N{CJK UNIFIED IDEOGRAPH-70DF}) missing from current font.\n",
      "  fig.canvas.print_figure(bytes_io, **kw)\n",
      "findfont: Font family 'Sonti SC' not found.\n",
      "findfont: Font family 'Sonti SC' not found.\n",
      "findfont: Font family 'Sonti SC' not found.\n",
      "findfont: Font family 'Sonti SC' not found.\n",
      "findfont: Font family 'Sonti SC' not found.\n",
      "findfont: Font family 'Sonti SC' not found.\n",
      "C:\\Users\\qinqi\\anaconda3\\Lib\\site-packages\\IPython\\core\\pylabtools.py:170: UserWarning: Glyph 23458 (\\N{CJK UNIFIED IDEOGRAPH-5BA2}) missing from current font.\n",
      "  fig.canvas.print_figure(bytes_io, **kw)\n",
      "C:\\Users\\qinqi\\anaconda3\\Lib\\site-packages\\IPython\\core\\pylabtools.py:170: UserWarning: Glyph 20154 (\\N{CJK UNIFIED IDEOGRAPH-4EBA}) missing from current font.\n",
      "  fig.canvas.print_figure(bytes_io, **kw)\n",
      "C:\\Users\\qinqi\\anaconda3\\Lib\\site-packages\\IPython\\core\\pylabtools.py:170: UserWarning: Glyph 24615 (\\N{CJK UNIFIED IDEOGRAPH-6027}) missing from current font.\n",
      "  fig.canvas.print_figure(bytes_io, **kw)\n",
      "C:\\Users\\qinqi\\anaconda3\\Lib\\site-packages\\IPython\\core\\pylabtools.py:170: UserWarning: Glyph 21035 (\\N{CJK UNIFIED IDEOGRAPH-522B}) missing from current font.\n",
      "  fig.canvas.print_figure(bytes_io, **kw)\n",
      "findfont: Font family 'Sonti SC' not found.\n",
      "findfont: Font family 'Sonti SC' not found.\n",
      "findfont: Font family 'Sonti SC' not found.\n",
      "findfont: Font family 'Sonti SC' not found.\n"
     ]
    },
    {
     "data": {
      "image/png": "[encoded data removed]",
      "text/plain": [
       "<Figure size 1088.38x500 with 2 Axes>"
      ]
     },
     "metadata": {},
     "output_type": "display_data"
    }
   ],
   "source": [
    "#step4 seaborn plot\n",
    "sns.relplot(\n",
    "data=tips, x=\"消费金额 ($)\", y=\"小费金额 ($)\", col=\"就餐时间\", hue=\"是否吸烟\", style=\"客人性别\",\n",
    "palette =[\"#b1283a\", \"#006a8e\"], s=200\n",
    "    \n",
    ")"
   ]
  },
  {
   "cell_type": "code",
   "execution_count": 15,
   "id": "53638aca-3909-490c-be17-c111d18a477f",
   "metadata": {},
   "outputs": [
    {
     "data": {
      "text/plain": [
       "{'font.size': 9.600000000000001,\n",
       " 'axes.labelsize': 9.600000000000001,\n",
       " 'axes.titlesize': 9.600000000000001,\n",
       " 'xtick.labelsize': 8.8,\n",
       " 'ytick.labelsize': 8.8,\n",
       " 'legend.fontsize': 8.8,\n",
       " 'legend.title_fontsize': 9.600000000000001,\n",
       " 'axes.linewidth': 0.4,\n",
       " 'grid.linewidth': 0.3,\n",
       " 'lines.linewidth': 1.5,\n",
       " 'lines.markersize': 6.0,\n",
       " 'patch.linewidth': 1.0,\n",
       " 'xtick.major.width': 1.25,\n",
       " 'ytick.major.width': 1.25,\n",
       " 'xtick.minor.width': 1.0,\n",
       " 'ytick.minor.width': 1.0,\n",
       " 'xtick.major.size': 6.0,\n",
       " 'ytick.major.size': 6.0,\n",
       " 'xtick.minor.size': 4.0,\n",
       " 'ytick.minor.size': 4.0}"
      ]
     },
     "execution_count": 15,
     "metadata": {},
     "output_type": "execute_result"
    }
   ],
   "source": [
    "sns.plotting_context()"
   ]
  },
  {
   "cell_type": "code",
   "execution_count": 1,
   "id": "59b193d8-7826-462f-b4e0-6691ccc5aa67",
   "metadata": {},
   "outputs": [
    {
     "data": {
      "image/png": "[encoded data removed]",
      "text/plain": [
       "<Figure size 1200x800 with 4 Axes>"
      ]
     },
     "metadata": {},
     "output_type": "display_data"
    }
   ],
   "source": [
    "import seaborn as sns\n",
    "import matplotlib.pyplot as plt\n",
    "\n",
    "plt.figure(figsize=(12, 8))\n",
    "\n",
    "contexts = ['notebook', 'paper', 'talk', 'poster']\n",
    "for i, context in enumerate(contexts):\n",
    "    sns.set_context(context)  #设置context\n",
    "    plt.subplot(2, 2, i + 1)\n",
    "    sns.lineplot(x=[1, 2, 3, 4], y=[3, 2, 5, 1], color=\"#b1283a\")\n",
    "    plt.title(f\"context: \\\"{context}\\\"\", color=\"#006a8e\")\n",
    "\n",
    "plt.tight_layout()\n",
    "plt.show()\n",
    "#\"#006a8e\", \"#b1283a\""
   ]
  },
  {
   "cell_type": "code",
   "execution_count": 3,
   "id": "b7c1bc7a-a52b-4820-afd4-515fad585874",
   "metadata": {},
   "outputs": [],
   "source": [
    "import seaborn as sns\n",
    "import matplotlib.pyplot as plt"
   ]
  },
  {
   "cell_type": "code",
   "execution_count": 5,
   "id": "7a761c83-db96-414b-b715-b1a0e7d97c6c",
   "metadata": {},
   "outputs": [
    {
     "data": {
      "text/plain": [
       "<Axes: >"
      ]
     },
     "execution_count": 5,
     "metadata": {},
     "output_type": "execute_result"
    },
    {
     "data": {
      "image/png": "[encoded data removed]",
      "text/plain": [
       "<Figure size 640x480 with 1 Axes>"
      ]
     },
     "metadata": {},
     "output_type": "display_data"
    }
   ],
   "source": [
    "sns.set_context('poster', rc={\"xtick.labelsize\": 50})  \n",
    "sns.lineplot(x=[1, 2, 3, 4], y=[3, 2, 5, 1], color=\"#b1283a\")"
   ]
  },
  {
   "cell_type": "code",
   "execution_count": 7,
   "id": "4ae16d71-fbc1-4c26-a153-424e44eb48c2",
   "metadata": {},
   "outputs": [
    {
     "data": {
      "text/plain": [
       "<Axes: >"
      ]
     },
     "execution_count": 7,
     "metadata": {},
     "output_type": "execute_result"
    },
    {
     "data": {
      "image/png": "[encoded data removed]",
      "text/plain": [
       "<Figure size 640x480 with 1 Axes>"
      ]
     },
     "metadata": {},
     "output_type": "display_data"
    }
   ],
   "source": [
    "#通过font_scale设置整个图的字体缩放\n",
    "sns.set_context('poster',font_scale=2)  \n",
    "sns.lineplot(x=[1, 2, 3, 4], y=[3, 2, 5, 1], color=\"#b1283a\")"
   ]
  },
  {
   "cell_type": "code",
   "execution_count": 9,
   "id": "6763ad85-b5a8-4ef2-bd82-a7d2c7252256",
   "metadata": {},
   "outputs": [
    {
     "data": {
      "text/plain": [
       "{'axes.facecolor': 'white',\n",
       " 'axes.edgecolor': 'black',\n",
       " 'axes.grid': False,\n",
       " 'axes.axisbelow': 'line',\n",
       " 'axes.labelcolor': 'black',\n",
       " 'figure.facecolor': 'white',\n",
       " 'grid.color': '#b0b0b0',\n",
       " 'grid.linestyle': '-',\n",
       " 'text.color': 'black',\n",
       " 'xtick.color': 'black',\n",
       " 'ytick.color': 'black',\n",
       " 'xtick.direction': 'out',\n",
       " 'ytick.direction': 'out',\n",
       " 'lines.solid_capstyle': <CapStyle.projecting: 'projecting'>,\n",
       " 'patch.edgecolor': 'black',\n",
       " 'patch.force_edgecolor': False,\n",
       " 'image.cmap': 'viridis',\n",
       " 'font.family': ['sans-serif'],\n",
       " 'font.sans-serif': ['DejaVu Sans',\n",
       "  'Bitstream Vera Sans',\n",
       "  'Computer Modern Sans Serif',\n",
       "  'Lucida Grande',\n",
       "  'Verdana',\n",
       "  'Geneva',\n",
       "  'Lucid',\n",
       "  'Arial',\n",
       "  'Helvetica',\n",
       "  'Avant Garde',\n",
       "  'sans-serif'],\n",
       " 'xtick.bottom': True,\n",
       " 'xtick.top': False,\n",
       " 'ytick.left': True,\n",
       " 'ytick.right': False,\n",
       " 'axes.spines.left': True,\n",
       " 'axes.spines.bottom': True,\n",
       " 'axes.spines.right': True,\n",
       " 'axes.spines.top': True}"
      ]
     },
     "execution_count": 9,
     "metadata": {},
     "output_type": "execute_result"
    }
   ],
   "source": [
    "sns.axes_style()"
   ]
  },
  {
   "cell_type": "code",
   "execution_count": 11,
   "id": "69677973-9d39-46ee-a659-95b5d68e4825",
   "metadata": {},
   "outputs": [
    {
     "data": {
      "image/png": "[encoded data removed]",
      "text/plain": [
       "<Figure size 1200x800 with 5 Axes>"
      ]
     },
     "metadata": {},
     "output_type": "display_data"
    }
   ],
   "source": [
    "# set up setting for styple\n",
    "import seaborn as sns\n",
    "import matplotlib.pyplot as plt\n",
    "\n",
    "plt.figure(figsize=(12, 8))\n",
    "sns.set_theme()\n",
    "styles = ['darkgrid', 'whitegrid', 'dark', 'white', 'ticks']\n",
    "for i, style in enumerate(styles):\n",
    "    sns.set_style(style)  #设置style\n",
    "    plt.subplot(2, 3, i + 1)\n",
    "    sns.lineplot(x=[1, 2, 3, 4], y=[3, 2, 5, 1], color=\"#b1283a\")\n",
    "    plt.title(f\"style: \\\"{style}\\\"\", color=\"#006a8e\")\n",
    "\n",
    "plt.tight_layout()\n",
    "plt.show()\n"
   ]
  },
  {
   "cell_type": "code",
   "execution_count": 13,
   "id": "106a9839-88cf-497f-ba15-e32bfbcc72ef",
   "metadata": {},
   "outputs": [
    {
     "data": {
      "image/png": "[encoded data removed]",
      "text/plain": [
       "<Figure size 640x480 with 1 Axes>"
      ]
     },
     "metadata": {},
     "output_type": "display_data"
    }
   ],
   "source": [
    "# rc独立设置某个参数\n",
    "sns.set_style('whitegrid', rc={'grid.color': '#6ccea3'})  # rc设置网格线的颜色为绿色\n",
    "sns.lineplot(x=[1, 2, 3, 4], y=[3, 2, 5, 1], color=\"#b1283a\")\n",
    "plt.title('set_style with \\\"rc\\\"', color=\"#006a8e\")\n",
    "\n",
    "plt.show()"
   ]
  },
  {
   "cell_type": "code",
   "execution_count": 15,
   "id": "33214041-bbba-4e36-993b-a4d8591cc9fb",
   "metadata": {},
   "outputs": [],
   "source": [
    "# ## 5.3 palette设置图形配色\n",
    "\n",
    "# ### 5.3.1 构建颜色\n",
    "\n",
    "# #### 5.3.1.1 cubehelix_palette"
   ]
  },
  {
   "cell_type": "code",
   "execution_count": 17,
   "id": "e02538b8-1e44-422e-add8-362beded4d46",
   "metadata": {},
   "outputs": [
    {
     "name": "stdout",
     "output_type": "stream",
     "text": [
      "[[0.9312692223325372, 0.8201921796082118, 0.7971480974663592], [0.8559578605899612, 0.6418993116910497, 0.6754191211563135], [0.739734329496642, 0.4765280683170713, 0.5959617419736206], [0.57916573903086, 0.33934576125314425, 0.5219003947563425], [0.37894937987024996, 0.2224702044652721, 0.41140014301575434], [0.1750865648952205, 0.11840023306916837, 0.24215989137836502]]\n"
     ]
    },
    {
     "data": {
      "text/html": [
       "<svg  width=\"330\" height=\"55\"><rect x=\"0\" y=\"0\" width=\"55\" height=\"55\" style=\"fill:#edd1cb;stroke-width:2;stroke:rgb(255,255,255)\"/><rect x=\"55\" y=\"0\" width=\"55\" height=\"55\" style=\"fill:#daa4ac;stroke-width:2;stroke:rgb(255,255,255)\"/><rect x=\"110\" y=\"0\" width=\"55\" height=\"55\" style=\"fill:#bd7a98;stroke-width:2;stroke:rgb(255,255,255)\"/><rect x=\"165\" y=\"0\" width=\"55\" height=\"55\" style=\"fill:#945785;stroke-width:2;stroke:rgb(255,255,255)\"/><rect x=\"220\" y=\"0\" width=\"55\" height=\"55\" style=\"fill:#613969;stroke-width:2;stroke:rgb(255,255,255)\"/><rect x=\"275\" y=\"0\" width=\"55\" height=\"55\" style=\"fill:#2d1e3e;stroke-width:2;stroke:rgb(255,255,255)\"/></svg>"
      ],
      "text/plain": [
       "[[0.9312692223325372, 0.8201921796082118, 0.7971480974663592],\n",
       " [0.8559578605899612, 0.6418993116910497, 0.6754191211563135],\n",
       " [0.739734329496642, 0.4765280683170713, 0.5959617419736206],\n",
       " [0.57916573903086, 0.33934576125314425, 0.5219003947563425],\n",
       " [0.37894937987024996, 0.2224702044652721, 0.41140014301575434],\n",
       " [0.1750865648952205, 0.11840023306916837, 0.24215989137836502]]"
      ]
     },
     "execution_count": 17,
     "metadata": {},
     "output_type": "execute_result"
    }
   ],
   "source": [
    "import seaborn as sns\n",
    "\n",
    "cubehelix_palette_test = sns.cubehelix_palette(\n",
    "    n_colors=6,  #颜色数量\n",
    "    start=0,  #设置颜色的起始值（0 <= start <= 3）\n",
    "    rot=0.4,  #设置颜色轮上的旋转值\n",
    "    gamma=1.0,  #调整颜色的非线性以突出暗色（gamma < 1）或亮色（gamma > 1）\n",
    "    hue=0.8,  #设置颜色的饱和度（0 <= hue <= 1）\n",
    "    light=0.85,  #设置颜色的最暗颜色的强度（0 <= light <= 1）\n",
    "    dark=0.15,  #设置颜色的最亮颜色的强度0 <= dark <= 1\n",
    "    reverse=False,  #默颜色顺序，False为从亮到暗，True为从暗到亮\n",
    "    as_cmap=\n",
    "    False  ##False返回元组格式颜色，如[0.9312692223325372, 0.8201921796082118, 0.7971480974663592]；\n",
    "    #True则返回matplotlib.colors.ListedColormap\n",
    ")\n",
    "print(cubehelix_palette_test) #输出cubehelix_palette返回值\n",
    "cubehelix_palette_test"
   ]
  },
  {
   "cell_type": "code",
   "execution_count": 19,
   "id": "30fbc894-4811-4fd8-9a24-b2c48aae3b43",
   "metadata": {},
   "outputs": [
    {
     "data": {
      "text/html": [
       "<svg  width=\"330\" height=\"55\"><rect x=\"0\" y=\"0\" width=\"55\" height=\"55\" style=\"fill:#edd1cb;stroke-width:2;stroke:rgb(255,255,255)\"/><rect x=\"55\" y=\"0\" width=\"55\" height=\"55\" style=\"fill:#daa4ac;stroke-width:2;stroke:rgb(255,255,255)\"/><rect x=\"110\" y=\"0\" width=\"55\" height=\"55\" style=\"fill:#bd7a98;stroke-width:2;stroke:rgb(255,255,255)\"/><rect x=\"165\" y=\"0\" width=\"55\" height=\"55\" style=\"fill:#945785;stroke-width:2;stroke:rgb(255,255,255)\"/><rect x=\"220\" y=\"0\" width=\"55\" height=\"55\" style=\"fill:#613969;stroke-width:2;stroke:rgb(255,255,255)\"/><rect x=\"275\" y=\"0\" width=\"55\" height=\"55\" style=\"fill:#2d1e3e;stroke-width:2;stroke:rgb(255,255,255)\"/></svg>"
      ],
      "text/plain": [
       "[[0.9312692223325372, 0.8201921796082118, 0.7971480974663592],\n",
       " [0.8559578605899612, 0.6418993116910497, 0.6754191211563135],\n",
       " [0.739734329496642, 0.4765280683170713, 0.5959617419736206],\n",
       " [0.57916573903086, 0.33934576125314425, 0.5219003947563425],\n",
       " [0.37894937987024996, 0.2224702044652721, 0.41140014301575434],\n",
       " [0.1750865648952205, 0.11840023306916837, 0.24215989137836502]]"
      ]
     },
     "execution_count": 19,
     "metadata": {},
     "output_type": "execute_result"
    }
   ],
   "source": [
    "sns.cubehelix_palette()"
   ]
  },
  {
   "cell_type": "code",
   "execution_count": 21,
   "id": "2c9036ac-c4d5-4eee-847e-2ccd863d166d",
   "metadata": {},
   "outputs": [
    {
     "data": {
      "text/html": [
       "<svg  width=\"550\" height=\"55\"><rect x=\"0\" y=\"0\" width=\"55\" height=\"55\" style=\"fill:#edd1cb;stroke-width:2;stroke:rgb(255,255,255)\"/><rect x=\"55\" y=\"0\" width=\"55\" height=\"55\" style=\"fill:#e4b8b8;stroke-width:2;stroke:rgb(255,255,255)\"/><rect x=\"110\" y=\"0\" width=\"55\" height=\"55\" style=\"fill:#d89faa;stroke-width:2;stroke:rgb(255,255,255)\"/><rect x=\"165\" y=\"0\" width=\"55\" height=\"55\" style=\"fill:#c8879e;stroke-width:2;stroke:rgb(255,255,255)\"/><rect x=\"220\" y=\"0\" width=\"55\" height=\"55\" style=\"fill:#b47194;stroke-width:2;stroke:rgb(255,255,255)\"/><rect x=\"275\" y=\"0\" width=\"55\" height=\"55\" style=\"fill:#9e5e8a;stroke-width:2;stroke:rgb(255,255,255)\"/><rect x=\"330\" y=\"0\" width=\"55\" height=\"55\" style=\"fill:#834c7d;stroke-width:2;stroke:rgb(255,255,255)\"/><rect x=\"385\" y=\"0\" width=\"55\" height=\"55\" style=\"fill:#673c6d;stroke-width:2;stroke:rgb(255,255,255)\"/><rect x=\"440\" y=\"0\" width=\"55\" height=\"55\" style=\"fill:#492d58;stroke-width:2;stroke:rgb(255,255,255)\"/><rect x=\"495\" y=\"0\" width=\"55\" height=\"55\" style=\"fill:#2d1e3e;stroke-width:2;stroke:rgb(255,255,255)\"/></svg>"
      ],
      "text/plain": [
       "[[0.9312692223325372, 0.8201921796082118, 0.7971480974663592],\n",
       " [0.893122085710277, 0.7206100946592334, 0.72229576813508],\n",
       " [0.8454263141680334, 0.6225806657605325, 0.6651572981499156],\n",
       " [0.7840440880599453, 0.5292660544265891, 0.6200568926941761],\n",
       " [0.7070159397024951, 0.4429345424186431, 0.5801722574606395],\n",
       " [0.6196337473419887, 0.3684648209452393, 0.5405540573846532],\n",
       " [0.5151069036855755, 0.29801047535056074, 0.49050619139300705],\n",
       " [0.402075529973261, 0.23451699199015608, 0.4263168000834109],\n",
       " [0.28645868165429034, 0.17570375961380752, 0.3440754090644915],\n",
       " [0.1750865648952205, 0.11840023306916837, 0.24215989137836502]]"
      ]
     },
     "execution_count": 21,
     "metadata": {},
     "output_type": "execute_result"
    }
   ],
   "source": [
    "sns.cubehelix_palette(n_colors=10)"
   ]
  },
  {
   "cell_type": "code",
   "execution_count": 23,
   "id": "1c5becf5-cca3-4c2b-a741-c1355a9f1129",
   "metadata": {},
   "outputs": [
    {
     "data": {
      "text/html": [
       "<svg  width=\"330\" height=\"55\"><rect x=\"0\" y=\"0\" width=\"55\" height=\"55\" style=\"fill:#e3d0ef;stroke-width:2;stroke:rgb(255,255,255)\"/><rect x=\"55\" y=\"0\" width=\"55\" height=\"55\" style=\"fill:#c2a7da;stroke-width:2;stroke:rgb(255,255,255)\"/><rect x=\"110\" y=\"0\" width=\"55\" height=\"55\" style=\"fill:#9d82bf;stroke-width:2;stroke:rgb(255,255,255)\"/><rect x=\"165\" y=\"0\" width=\"55\" height=\"55\" style=\"fill:#76619e;stroke-width:2;stroke:rgb(255,255,255)\"/><rect x=\"220\" y=\"0\" width=\"55\" height=\"55\" style=\"fill:#4e4173;stroke-width:2;stroke:rgb(255,255,255)\"/><rect x=\"275\" y=\"0\" width=\"55\" height=\"55\" style=\"fill:#26213f;stroke-width:2;stroke:rgb(255,255,255)\"/></svg>"
      ],
      "text/plain": [
       "[[0.8905754254448687, 0.8147931586177104, 0.9370899823648525],\n",
       " [0.7621164030526003, 0.6558619269044483, 0.8564601188363787],\n",
       " [0.6161408029004956, 0.5106567966889349, 0.7499806033843956],\n",
       " [0.4641552653302901, 0.3799305249891585, 0.6178828506862256],\n",
       " [0.3047893259484756, 0.2529712804196341, 0.45005766104680045],\n",
       " [0.14996923688455951, 0.1299600504140209, 0.24865883270492517]]"
      ]
     },
     "execution_count": 23,
     "metadata": {},
     "output_type": "execute_result"
    }
   ],
   "source": [
    "#修改rot\n",
    "sns.cubehelix_palette(rot=0.1)"
   ]
  },
  {
   "cell_type": "code",
   "execution_count": 25,
   "id": "1104cd9d-52d5-4a8d-9542-5d911efd66f9",
   "metadata": {},
   "outputs": [
    {
     "data": {
      "text/html": [
       "<svg  width=\"330\" height=\"55\"><rect x=\"0\" y=\"0\" width=\"55\" height=\"55\" style=\"fill:#ded7d6;stroke-width:2;stroke:rgb(255,255,255)\"/><rect x=\"55\" y=\"0\" width=\"55\" height=\"55\" style=\"fill:#beb1b3;stroke-width:2;stroke:rgb(255,255,255)\"/><rect x=\"110\" y=\"0\" width=\"55\" height=\"55\" style=\"fill:#9c8b93;stroke-width:2;stroke:rgb(255,255,255)\"/><rect x=\"165\" y=\"0\" width=\"55\" height=\"55\" style=\"fill:#776874;stroke-width:2;stroke:rgb(255,255,255)\"/><rect x=\"220\" y=\"0\" width=\"55\" height=\"55\" style=\"fill:#504652;stroke-width:2;stroke:rgb(255,255,255)\"/><rect x=\"275\" y=\"0\" width=\"55\" height=\"55\" style=\"fill:#28242c;stroke-width:2;stroke:rgb(255,255,255)\"/></svg>"
      ],
      "text/plain": [
       "[[0.8710525997007813, 0.8432833390197, 0.8375223184842369],\n",
       " [0.7463424063239609, 0.692827769099233, 0.701207721465549],\n",
       " [0.6114041706094546, 0.545602605314562, 0.5754610237286992],\n",
       " [0.4683208465224209, 0.408365852077992, 0.45400451045379153],\n",
       " [0.3123844037910919, 0.2732646099398474, 0.320497094577468],\n",
       " [0.15553634710615807, 0.14136476414964502, 0.1723046787269442]]"
      ]
     },
     "execution_count": 25,
     "metadata": {},
     "output_type": "execute_result"
    }
   ],
   "source": [
    "#修改hue\n",
    "sns.cubehelix_palette(hue=0.2)"
   ]
  },
  {
   "cell_type": "code",
   "execution_count": 27,
   "id": "f4220737-9c51-4439-a281-4092bc0c8896",
   "metadata": {},
   "outputs": [
    {
     "data": {
      "text/html": [
       "<svg  width=\"330\" height=\"55\"><rect x=\"0\" y=\"0\" width=\"55\" height=\"55\" style=\"fill:#2d1e3e;stroke-width:2;stroke:rgb(255,255,255)\"/><rect x=\"55\" y=\"0\" width=\"55\" height=\"55\" style=\"fill:#613969;stroke-width:2;stroke:rgb(255,255,255)\"/><rect x=\"110\" y=\"0\" width=\"55\" height=\"55\" style=\"fill:#945785;stroke-width:2;stroke:rgb(255,255,255)\"/><rect x=\"165\" y=\"0\" width=\"55\" height=\"55\" style=\"fill:#bd7a98;stroke-width:2;stroke:rgb(255,255,255)\"/><rect x=\"220\" y=\"0\" width=\"55\" height=\"55\" style=\"fill:#daa4ac;stroke-width:2;stroke:rgb(255,255,255)\"/><rect x=\"275\" y=\"0\" width=\"55\" height=\"55\" style=\"fill:#edd1cb;stroke-width:2;stroke:rgb(255,255,255)\"/></svg>"
      ],
      "text/plain": [
       "[[0.1750865648952205, 0.11840023306916837, 0.24215989137836502],\n",
       " [0.37894937987024996, 0.2224702044652721, 0.41140014301575434],\n",
       " [0.57916573903086, 0.33934576125314425, 0.5219003947563425],\n",
       " [0.739734329496642, 0.4765280683170713, 0.5959617419736206],\n",
       " [0.8559578605899612, 0.6418993116910497, 0.6754191211563135],\n",
       " [0.9312692223325372, 0.8201921796082118, 0.7971480974663592]]"
      ]
     },
     "execution_count": 27,
     "metadata": {},
     "output_type": "execute_result"
    }
   ],
   "source": [
    "#修改reverse\n",
    "sns.cubehelix_palette(reverse=True)"
   ]
  },
  {
   "cell_type": "code",
   "execution_count": 29,
   "id": "1f68e138-2f2a-4b5d-ac96-75f5424475f9",
   "metadata": {},
   "outputs": [
    {
     "data": {
      "text/html": [
       "<svg  width=\"550\" height=\"55\"><rect x=\"0\" y=\"0\" width=\"55\" height=\"55\" style=\"fill:#262626;stroke-width:2;stroke:rgb(255,255,255)\"/><rect x=\"55\" y=\"0\" width=\"55\" height=\"55\" style=\"fill:#3e3e3e;stroke-width:2;stroke:rgb(255,255,255)\"/><rect x=\"110\" y=\"0\" width=\"55\" height=\"55\" style=\"fill:#555555;stroke-width:2;stroke:rgb(255,255,255)\"/><rect x=\"165\" y=\"0\" width=\"55\" height=\"55\" style=\"fill:#6e6e6e;stroke-width:2;stroke:rgb(255,255,255)\"/><rect x=\"220\" y=\"0\" width=\"55\" height=\"55\" style=\"fill:#868686;stroke-width:2;stroke:rgb(255,255,255)\"/><rect x=\"275\" y=\"0\" width=\"55\" height=\"55\" style=\"fill:#9f9f9f;stroke-width:2;stroke:rgb(255,255,255)\"/><rect x=\"330\" y=\"0\" width=\"55\" height=\"55\" style=\"fill:#b7b7b7;stroke-width:2;stroke:rgb(255,255,255)\"/><rect x=\"385\" y=\"0\" width=\"55\" height=\"55\" style=\"fill:#cfcfcf;stroke-width:2;stroke:rgb(255,255,255)\"/><rect x=\"440\" y=\"0\" width=\"55\" height=\"55\" style=\"fill:#e7e7e7;stroke-width:2;stroke:rgb(255,255,255)\"/><rect x=\"495\" y=\"0\" width=\"55\" height=\"55\" style=\"fill:#ffffff;stroke-width:2;stroke:rgb(255,255,255)\"/></svg>"
      ],
      "text/plain": [
       "[(0.1477136475930195, 0.14772002848141771, 0.1476949000552352),\n",
       " (0.24129803138672717, 0.24130371162855616, 0.24128134240211133),\n",
       " (0.3348824151804348, 0.3348873947756946, 0.3348677847489875),\n",
       " (0.4318090983953463, 0.4318133523209451, 0.4317966000368234),\n",
       " (0.525393482189054, 0.5253970354680836, 0.5253830423836996),\n",
       " (0.6223201654039655, 0.6223229930133342, 0.6223118576715356),\n",
       " (0.7159045491976731, 0.7159066761604725, 0.7158983000184117),\n",
       " (0.8128312324125847, 0.8128326337057231, 0.8128271153062477),\n",
       " (0.9064156162062923, 0.9064163168528615, 0.9064135576531238),\n",
       " (1.0, 1.0, 1.0)]"
      ]
     },
     "execution_count": 29,
     "metadata": {},
     "output_type": "execute_result"
    }
   ],
   "source": [
    "# #### 5.3.1.2 dark_palette\n",
    "import seaborn as sns\n",
    "\n",
    "sns.dark_palette(\n",
    "    color='white',  #传入一个颜色字符串或者颜色的RGB值，作为生成渐变色的终点\n",
    "    n_colors=10,  #colormap数量\n",
    "    reverse=False,  #设置颜色顺序，False为从暗到亮，True为从亮到暗\n",
    "    as_cmap=\n",
    "    False,  ##False返回元组格式颜色，如[0.9312692223325372, 0.8201921796082118, 0.7971480974663592]；\n",
    "    #True则返回matplotlib.colors.ListedColormap\n",
    "    input='rgb')  #设置color中输入颜色的系统，可选‘rgb’, ‘hls’, ‘husl’, xkcd’\n"
   ]
  },
  {
   "cell_type": "code",
   "execution_count": 31,
   "id": "1b896c71-aa0c-496d-b47f-502e81acffdd",
   "metadata": {},
   "outputs": [
    {
     "data": {
      "text/html": [
       "<svg  width=\"330\" height=\"55\"><rect x=\"0\" y=\"0\" width=\"55\" height=\"55\" style=\"fill:#232625;stroke-width:2;stroke:rgb(255,255,255)\"/><rect x=\"55\" y=\"0\" width=\"55\" height=\"55\" style=\"fill:#2e4037;stroke-width:2;stroke:rgb(255,255,255)\"/><rect x=\"110\" y=\"0\" width=\"55\" height=\"55\" style=\"fill:#395a49;stroke-width:2;stroke:rgb(255,255,255)\"/><rect x=\"165\" y=\"0\" width=\"55\" height=\"55\" style=\"fill:#44745b;stroke-width:2;stroke:rgb(255,255,255)\"/><rect x=\"220\" y=\"0\" width=\"55\" height=\"55\" style=\"fill:#4e8d6d;stroke-width:2;stroke:rgb(255,255,255)\"/><rect x=\"275\" y=\"0\" width=\"55\" height=\"55\" style=\"fill:#59a77f;stroke-width:2;stroke:rgb(255,255,255)\"/></svg>"
      ],
      "text/plain": [
       "[(0.13833421404802923, 0.15081790185204338, 0.1433410872922536),\n",
       " (0.18047129280705082, 0.25163471363849743, 0.21428071297105777),\n",
       " (0.22260837156607244, 0.3524515254249515, 0.28522033864986196),\n",
       " (0.264745450325094, 0.4532683372114056, 0.35615996432866615),\n",
       " (0.3068825290841156, 0.5540851489978597, 0.42709959000747033),\n",
       " (0.34901960784313724, 0.6549019607843137, 0.4980392156862745)]"
      ]
     },
     "execution_count": 31,
     "metadata": {},
     "output_type": "execute_result"
    }
   ],
   "source": [
    "#修改终止色名称color\n",
    "sns.dark_palette(color=\"#59a77f\")"
   ]
  },
  {
   "cell_type": "code",
   "execution_count": 33,
   "id": "7c353220-aae8-4128-8014-6b9d5b2b2eb5",
   "metadata": {},
   "outputs": [
    {
     "data": {
      "text/html": [
       "<svg  width=\"330\" height=\"55\"><rect x=\"0\" y=\"0\" width=\"55\" height=\"55\" style=\"fill:#59a77f;stroke-width:2;stroke:rgb(255,255,255)\"/><rect x=\"55\" y=\"0\" width=\"55\" height=\"55\" style=\"fill:#4e8d6d;stroke-width:2;stroke:rgb(255,255,255)\"/><rect x=\"110\" y=\"0\" width=\"55\" height=\"55\" style=\"fill:#44745b;stroke-width:2;stroke:rgb(255,255,255)\"/><rect x=\"165\" y=\"0\" width=\"55\" height=\"55\" style=\"fill:#395a49;stroke-width:2;stroke:rgb(255,255,255)\"/><rect x=\"220\" y=\"0\" width=\"55\" height=\"55\" style=\"fill:#2e4037;stroke-width:2;stroke:rgb(255,255,255)\"/><rect x=\"275\" y=\"0\" width=\"55\" height=\"55\" style=\"fill:#232625;stroke-width:2;stroke:rgb(255,255,255)\"/></svg>"
      ],
      "text/plain": [
       "[(0.34901960784313724, 0.6549019607843137, 0.4980392156862745),\n",
       " (0.3068825290841156, 0.5540851489978597, 0.42709959000747033),\n",
       " (0.264745450325094, 0.4532683372114056, 0.35615996432866615),\n",
       " (0.22260837156607244, 0.3524515254249515, 0.28522033864986196),\n",
       " (0.18047129280705082, 0.25163471363849743, 0.21428071297105777),\n",
       " (0.13833421404802923, 0.15081790185204338, 0.1433410872922536)]"
      ]
     },
     "execution_count": 33,
     "metadata": {},
     "output_type": "execute_result"
    }
   ],
   "source": [
    "#修改reverse\n",
    "sns.dark_palette(color=\"#59a77f\",reverse=True)"
   ]
  },
  {
   "cell_type": "code",
   "execution_count": 35,
   "id": "ee9e4383-9382-4cff-9be5-fabf780a459d",
   "metadata": {},
   "outputs": [
    {
     "data": {
      "text/html": [
       "<svg  width=\"330\" height=\"55\"><rect x=\"0\" y=\"0\" width=\"55\" height=\"55\" style=\"fill:#2b2423;stroke-width:2;stroke:rgb(255,255,255)\"/><rect x=\"55\" y=\"0\" width=\"55\" height=\"55\" style=\"fill:#47302b;stroke-width:2;stroke:rgb(255,255,255)\"/><rect x=\"110\" y=\"0\" width=\"55\" height=\"55\" style=\"fill:#633b33;stroke-width:2;stroke:rgb(255,255,255)\"/><rect x=\"165\" y=\"0\" width=\"55\" height=\"55\" style=\"fill:#7f463a;stroke-width:2;stroke:rgb(255,255,255)\"/><rect x=\"220\" y=\"0\" width=\"55\" height=\"55\" style=\"fill:#9b5142;stroke-width:2;stroke:rgb(255,255,255)\"/><rect x=\"275\" y=\"0\" width=\"55\" height=\"55\" style=\"fill:#b85d4a;stroke-width:2;stroke:rgb(255,255,255)\"/></svg>"
      ],
      "text/plain": [
       "[(0.16784269928290113, 0.1420671093901477, 0.1388943730951417),\n",
       " (0.27831348977675757, 0.18638106638138052, 0.16898525031516964),\n",
       " (0.388784280270614, 0.23069502337261336, 0.19907612753519763),\n",
       " (0.49925507076447045, 0.2750089803638462, 0.22916700475522558),\n",
       " (0.609725861258327, 0.319322937355079, 0.25925788197525357),\n",
       " (0.7201966517521833, 0.36363689434631186, 0.2893487591952815)]"
      ]
     },
     "execution_count": 35,
     "metadata": {},
     "output_type": "execute_result"
    }
   ],
   "source": [
    "#修改input为husl颜色系统\n",
    "sns.dark_palette(color=(20, 60, 50), input=\"husl\")"
   ]
  },
  {
   "cell_type": "code",
   "execution_count": 37,
   "id": "e918ee16-0df9-446a-aa5f-26364e568fd8",
   "metadata": {},
   "outputs": [
    {
     "data": {
      "image/png": "[encoded data removed]",
      "text/html": [
       "<div style=\"vertical-align: middle;\"><strong>blend</strong> </div><div class=\"cmap\"><img alt=\"blend colormap\" title=\"blend\" style=\"border: 1px solid #555;\" src=\"data:image/png;base64,iVBORw0KGgoAAAANSUhEUgAAAgAAAABACAYAAABsv8+/AAAAFHRFWHRUaXRsZQBibGVuZCBjb2xvcm1hcKH0gPAAAAAadEVYdERlc2NyaXB0aW9uAGJsZW5kIGNvbG9ybWFwX6spFgAAADB0RVh0QXV0aG9yAE1hdHBsb3RsaWIgdjMuOC40LCBodHRwczovL21hdHBsb3RsaWIub3JnZM6ytAAAADJ0RVh0U29mdHdhcmUATWF0cGxvdGxpYiB2My44LjQsIGh0dHBzOi8vbWF0cGxvdGxpYi5vcmdKaC2TAAABY0lEQVR4nO3WMQ6CQBBA0cGzcALvfzcsJDEGNWD732u2YGHIVH9Z1/s2MzOzzKdz259+e348Z3/v3L3jvHP3/v/P93vf//P3917vXZtrL/ZyZa692MuVufZiL+fmPs/bAAA5AgAAggQAAAQJAAAIEgAAECQAACBIAABAkAAAgCABAABBAgAAggQAAAQJAAAIEgAAECQAACBIAABAkAAAgCABAABBAgAAggQAAAQJAAAIEgAAECQAACBIAABAkAAAgCABAABBAgAAggQAAAQJAAAIEgAAECQAACBIAABAkAAAgCABAABBAgAAggQAAAQJAAAIEgAAECQAACBIAABAkAAAgCABAABBAgAAggQAAAQJAAAIEgAAECQAACBIAABAkAAAgCABAABBAgAAggQAAAQJAAAIEgAAECQAACBIAABAkAAAgCABAABBAgAAggQAAAQJAAAIEgAAECQAACBIAABA0AMIvUp+cH0pPAAAAABJRU5ErkJggg==\"></div><div style=\"vertical-align: middle; max-width: 514px; display: flex; justify-content: space-between;\"><div style=\"float: left;\"><div title=\"#242433ff\" style=\"display: inline-block; width: 1em; height: 1em; margin: 0; vertical-align: middle; border: 1px solid #555; background-color: #242433ff;\"></div> under</div><div style=\"margin: 0 auto; display: inline-block;\">bad <div title=\"#00000000\" style=\"display: inline-block; width: 1em; height: 1em; margin: 0; vertical-align: middle; border: 1px solid #555; background-color: #00000000;\"></div></div><div style=\"float: right;\">over <div title=\"#0000ffff\" style=\"display: inline-block; width: 1em; height: 1em; margin: 0; vertical-align: middle; border: 1px solid #555; background-color: #0000ffff;\"></div></div>"
      ],
      "text/plain": [
       "<matplotlib.colors.LinearSegmentedColormap at 0x2d1a22c16d0>"
      ]
     },
     "execution_count": 37,
     "metadata": {},
     "output_type": "execute_result"
    }
   ],
   "source": [
    "sns.dark_palette(color='blue',as_cmap=True)"
   ]
  },
  {
   "cell_type": "code",
   "execution_count": 39,
   "id": "a66823d2-8070-4050-a3e1-387d768a5219",
   "metadata": {},
   "outputs": [
    {
     "data": {
      "text/html": [
       "<svg  width=\"550\" height=\"55\"><rect x=\"0\" y=\"0\" width=\"55\" height=\"55\" style=\"fill:#ecf2ee;stroke-width:2;stroke:rgb(255,255,255)\"/><rect x=\"55\" y=\"0\" width=\"55\" height=\"55\" style=\"fill:#dceae2;stroke-width:2;stroke:rgb(255,255,255)\"/><rect x=\"110\" y=\"0\" width=\"55\" height=\"55\" style=\"fill:#cce2d6;stroke-width:2;stroke:rgb(255,255,255)\"/><rect x=\"165\" y=\"0\" width=\"55\" height=\"55\" style=\"fill:#bbd9c9;stroke-width:2;stroke:rgb(255,255,255)\"/><rect x=\"220\" y=\"0\" width=\"55\" height=\"55\" style=\"fill:#abd1bd;stroke-width:2;stroke:rgb(255,255,255)\"/><rect x=\"275\" y=\"0\" width=\"55\" height=\"55\" style=\"fill:#9ac8b0;stroke-width:2;stroke:rgb(255,255,255)\"/><rect x=\"330\" y=\"0\" width=\"55\" height=\"55\" style=\"fill:#8ac0a4;stroke-width:2;stroke:rgb(255,255,255)\"/><rect x=\"385\" y=\"0\" width=\"55\" height=\"55\" style=\"fill:#79b797;stroke-width:2;stroke:rgb(255,255,255)\"/><rect x=\"440\" y=\"0\" width=\"55\" height=\"55\" style=\"fill:#69af8b;stroke-width:2;stroke:rgb(255,255,255)\"/><rect x=\"495\" y=\"0\" width=\"55\" height=\"55\" style=\"fill:#59a77f;stroke-width:2;stroke:rgb(255,255,255)\"/></svg>"
      ],
      "text/plain": [
       "[(0.9258107063651531, 0.9494908616592027, 0.9350892176579009),\n",
       " (0.8624767818215592, 0.9171438450925482, 0.8870994135198399),\n",
       " (0.7991428572779653, 0.8847968285258938, 0.839109609381779),\n",
       " (0.7335470068578145, 0.8512945613675731, 0.7894058836673588),\n",
       " (0.6702130823142205, 0.8189475448009186, 0.7414160795292979),\n",
       " (0.6046172318940697, 0.7854452776425979, 0.6917123538148775),\n",
       " (0.5412833073504759, 0.7530982610759434, 0.6437225496768166),\n",
       " (0.47568745693032505, 0.7195959939176226, 0.5940188239623964),\n",
       " (0.4123535323867311, 0.6872489773509682, 0.5460290198243355),\n",
       " (0.34901960784313724, 0.6549019607843137, 0.4980392156862745)]"
      ]
     },
     "execution_count": 39,
     "metadata": {},
     "output_type": "execute_result"
    }
   ],
   "source": [
    "# #### 5.3.1.3 light_palette\n",
    "sns.light_palette(\n",
    "    color='#59a77f',  #传入一个颜色字符串或者颜色的RGB值，作为生成渐变色的终点\n",
    "    n_colors=10,  #colormap数量\n",
    "    reverse=False,  #设置颜色顺序，False为从亮到暗，True为从暗到亮\n",
    "    as_cmap=\n",
    "    False,  ##False返回元组格式颜色，如[0.9312692223325372, 0.8201921796082118, 0.7971480974663592]；\n",
    "    #True则返回matplotlib.colors.ListedColormap\n",
    "    input='rgb')  #设置color中输入颜色的系统，可选‘rgb’, ‘hls’, ‘husl’, xkcd’\n"
   ]
  },
  {
   "cell_type": "code",
   "execution_count": 41,
   "id": "51190ed9-8576-4f04-b80e-55e5ebd4131f",
   "metadata": {},
   "outputs": [
    {
     "data": {
      "text/html": [
       "<svg  width=\"550\" height=\"55\"><rect x=\"0\" y=\"0\" width=\"55\" height=\"55\" style=\"fill:#f2f0f0;stroke-width:2;stroke:rgb(255,255,255)\"/><rect x=\"55\" y=\"0\" width=\"55\" height=\"55\" style=\"fill:#eedbda;stroke-width:2;stroke:rgb(255,255,255)\"/><rect x=\"110\" y=\"0\" width=\"55\" height=\"55\" style=\"fill:#e9c5c4;stroke-width:2;stroke:rgb(255,255,255)\"/><rect x=\"165\" y=\"0\" width=\"55\" height=\"55\" style=\"fill:#e4afae;stroke-width:2;stroke:rgb(255,255,255)\"/><rect x=\"220\" y=\"0\" width=\"55\" height=\"55\" style=\"fill:#df9a98;stroke-width:2;stroke:rgb(255,255,255)\"/><rect x=\"275\" y=\"0\" width=\"55\" height=\"55\" style=\"fill:#da8481;stroke-width:2;stroke:rgb(255,255,255)\"/><rect x=\"330\" y=\"0\" width=\"55\" height=\"55\" style=\"fill:#d56f6b;stroke-width:2;stroke:rgb(255,255,255)\"/><rect x=\"385\" y=\"0\" width=\"55\" height=\"55\" style=\"fill:#d15955;stroke-width:2;stroke:rgb(255,255,255)\"/><rect x=\"440\" y=\"0\" width=\"55\" height=\"55\" style=\"fill:#cc433f;stroke-width:2;stroke:rgb(255,255,255)\"/><rect x=\"495\" y=\"0\" width=\"55\" height=\"55\" style=\"fill:#c72e29;stroke-width:2;stroke:rgb(255,255,255)\"/></svg>"
      ],
      "text/plain": [
       "[(0.9507700602644528, 0.9415244907176071, 0.9413124901936948),\n",
       " (0.9320618983223045, 0.8579491756276615, 0.8556074355226763),\n",
       " (0.9133537363801562, 0.7743738605377158, 0.7699023808516576),\n",
       " (0.8939774257972168, 0.6878137127659865, 0.6811364313709599),\n",
       " (0.8752692638550685, 0.6042383976760408, 0.5954313766999414),\n",
       " (0.8558929532721293, 0.5176782499043113, 0.5066654272192436),\n",
       " (0.837184791329981, 0.4341029348143658, 0.42096037254822505),\n",
       " (0.8178084807470417, 0.3475427870426364, 0.3321944230675272),\n",
       " (0.7991003188048934, 0.26396747195269077, 0.2464893683965088),\n",
       " (0.7803921568627451, 0.1803921568627451, 0.1607843137254902)]"
      ]
     },
     "execution_count": 41,
     "metadata": {},
     "output_type": "execute_result"
    }
   ],
   "source": [
    "#修改color、color\n",
    "sns.light_palette(color='#c72e29', n_colors=10)\n"
   ]
  },
  {
   "cell_type": "code",
   "execution_count": 43,
   "id": "d148a204-97b3-4aa5-a4b8-1b7a4cc32d37",
   "metadata": {},
   "outputs": [
    {
     "data": {
      "image/png": "[encoded data removed]",
      "text/html": [
       "<div style=\"vertical-align: middle;\"><strong>blend</strong> </div><div class=\"cmap\"><img alt=\"blend colormap\" title=\"blend\" style=\"border: 1px solid #555;\" src=\"data:image/png;base64,iVBORw0KGgoAAAANSUhEUgAAAgAAAABACAYAAABsv8+/AAAAFHRFWHRUaXRsZQBibGVuZCBjb2xvcm1hcKH0gPAAAAAadEVYdERlc2NyaXB0aW9uAGJsZW5kIGNvbG9ybWFwX6spFgAAADB0RVh0QXV0aG9yAE1hdHBsb3RsaWIgdjMuOC40LCBodHRwczovL21hdHBsb3RsaWIub3JnZM6ytAAAADJ0RVh0U29mdHdhcmUATWF0cGxvdGxpYiB2My44LjQsIGh0dHBzOi8vbWF0cGxvdGxpYi5vcmdKaC2TAAABy0lEQVR4nO3WW07CQABA0dH9L5a4gfphwNDSF6KJuef8NGT6YiYD9+3jcpnGGGNMX4frcbp+HtPdYX7e7fyxPT6/z7Q6/vh50874/Pppft7i+vuvvf4es/feGV9/j9sJK9cfnMfZfRb331m3w+s6VuZxZ72W9z973uPnLL/n2HzOtDN+eB5X1u38uh6b76f3x8F1Pb+PtseP74+D87i7rsfm+3v4d/bH+X20Pf7sPtrdHz/8fXzZus7GT++P//I/81fr+qL98T4AgBwBAABBAgAAggQAAAQJAAAIEgAAECQAACBIAABAkAAAgCABAABBAgAAggQAAAQJAAAIEgAAECQAACBIAABAkAAAgCABAABBAgAAggQAAAQJAAAIEgAAECQAACBIAABAkAAAgCABAABBAgAAggQAAAQJAAAIEgAAECQAACBIAABAkAAAgCABAABBAgAAggQAAAQJAAAIEgAAECQAACBIAABAkAAAgCABAABBAgAAggQAAAQJAAAIEgAAECQAACBIAABAkAAAgCABAABBAgAAggQAAAQJAAAIEgAAECQAACBIAABAkAAAgCABAABBAgAAggQAAAQJAAAIEgAAECQAACDoE+c+tqy3Ugd7AAAAAElFTkSuQmCC\"></div><div style=\"vertical-align: middle; max-width: 514px; display: flex; justify-content: space-between;\"><div style=\"float: left;\"><div title=\"#f2f0f0ff\" style=\"display: inline-block; width: 1em; height: 1em; margin: 0; vertical-align: middle; border: 1px solid #555; background-color: #f2f0f0ff;\"></div> under</div><div style=\"margin: 0 auto; display: inline-block;\">bad <div title=\"#00000000\" style=\"display: inline-block; width: 1em; height: 1em; margin: 0; vertical-align: middle; border: 1px solid #555; background-color: #00000000;\"></div></div><div style=\"float: right;\">over <div title=\"#c72e29ff\" style=\"display: inline-block; width: 1em; height: 1em; margin: 0; vertical-align: middle; border: 1px solid #555; background-color: #c72e29ff;\"></div></div>"
      ],
      "text/plain": [
       "<matplotlib.colors.LinearSegmentedColormap at 0x2d1a237a750>"
      ]
     },
     "execution_count": 43,
     "metadata": {},
     "output_type": "execute_result"
    }
   ],
   "source": [
    "sns.light_palette(\"#c72e29\", as_cmap=True)"
   ]
  },
  {
   "cell_type": "code",
   "execution_count": 45,
   "id": "d805d339-de84-4843-8a42-9e1ba0462439",
   "metadata": {},
   "outputs": [
    {
     "data": {
      "text/html": [
       "<svg  width=\"550\" height=\"55\"><rect x=\"0\" y=\"0\" width=\"55\" height=\"55\" style=\"fill:#ffff99;stroke-width:2;stroke:rgb(255,255,255)\"/><rect x=\"55\" y=\"0\" width=\"55\" height=\"55\" style=\"fill:#6a3d9a;stroke-width:2;stroke:rgb(255,255,255)\"/><rect x=\"110\" y=\"0\" width=\"55\" height=\"55\" style=\"fill:#cab2d6;stroke-width:2;stroke:rgb(255,255,255)\"/><rect x=\"165\" y=\"0\" width=\"55\" height=\"55\" style=\"fill:#ff7f00;stroke-width:2;stroke:rgb(255,255,255)\"/><rect x=\"220\" y=\"0\" width=\"55\" height=\"55\" style=\"fill:#fdbf6f;stroke-width:2;stroke:rgb(255,255,255)\"/><rect x=\"275\" y=\"0\" width=\"55\" height=\"55\" style=\"fill:#e31a1c;stroke-width:2;stroke:rgb(255,255,255)\"/><rect x=\"330\" y=\"0\" width=\"55\" height=\"55\" style=\"fill:#fb9a99;stroke-width:2;stroke:rgb(255,255,255)\"/><rect x=\"385\" y=\"0\" width=\"55\" height=\"55\" style=\"fill:#33a02c;stroke-width:2;stroke:rgb(255,255,255)\"/><rect x=\"440\" y=\"0\" width=\"55\" height=\"55\" style=\"fill:#b2df8a;stroke-width:2;stroke:rgb(255,255,255)\"/><rect x=\"495\" y=\"0\" width=\"55\" height=\"55\" style=\"fill:#1f78b4;stroke-width:2;stroke:rgb(255,255,255)\"/></svg>"
      ],
      "text/plain": [
       "[(1.0, 1.0, 0.6),\n",
       " (0.41568627450980394, 0.23921568627450981, 0.6039215686274509),\n",
       " (0.792156862745098, 0.6980392156862745, 0.8392156862745098),\n",
       " (1.0, 0.4980392156862745, 0.0),\n",
       " (0.9921568627450981, 0.7490196078431373, 0.43529411764705883),\n",
       " (0.8901960784313725, 0.10196078431372549, 0.10980392156862745),\n",
       " (0.984313725490196, 0.6039215686274509, 0.6),\n",
       " (0.2, 0.6274509803921569, 0.17254901960784313),\n",
       " (0.6980392156862745, 0.8745098039215686, 0.5411764705882353),\n",
       " (0.12156862745098039, 0.47058823529411764, 0.7058823529411765)]"
      ]
     },
     "execution_count": 45,
     "metadata": {},
     "output_type": "execute_result"
    }
   ],
   "source": [
    "# #### 5.3.1.4 mpl_palette\n",
    "\n",
    "# In[88]:\n",
    "\n",
    "import seaborn as sns\n",
    "\n",
    "sns.mpl_palette(\n",
    "    name='Paired_r',  #设置matplotlib中colormap的名称为'Paired_r'\n",
    "    n_colors=10,  ##colormap颜色数量\n",
    "    as_cmap=False\n",
    ")  #False返回元组格式颜色，如[0.9312692223325372, 0.8201921796082118, 0.7971480974663592]；\n",
    "#True则返回matplotlib.colors.ListedColormap"
   ]
  },
  {
   "cell_type": "code",
   "execution_count": 47,
   "id": "818dee02-8b0c-496f-876d-0775403a33eb",
   "metadata": {},
   "outputs": [
    {
     "data": {
      "text/html": [
       "<svg  width=\"550\" height=\"55\"><rect x=\"0\" y=\"0\" width=\"55\" height=\"55\" style=\"fill:#eaf7e6;stroke-width:2;stroke:rgb(255,255,255)\"/><rect x=\"55\" y=\"0\" width=\"55\" height=\"55\" style=\"fill:#d8f0d2;stroke-width:2;stroke:rgb(255,255,255)\"/><rect x=\"110\" y=\"0\" width=\"55\" height=\"55\" style=\"fill:#c1e6ba;stroke-width:2;stroke:rgb(255,255,255)\"/><rect x=\"165\" y=\"0\" width=\"55\" height=\"55\" style=\"fill:#a4da9e;stroke-width:2;stroke:rgb(255,255,255)\"/><rect x=\"220\" y=\"0\" width=\"55\" height=\"55\" style=\"fill:#84cc83;stroke-width:2;stroke:rgb(255,255,255)\"/><rect x=\"275\" y=\"0\" width=\"55\" height=\"55\" style=\"fill:#62bb6d;stroke-width:2;stroke:rgb(255,255,255)\"/><rect x=\"330\" y=\"0\" width=\"55\" height=\"55\" style=\"fill:#3fa85b;stroke-width:2;stroke:rgb(255,255,255)\"/><rect x=\"385\" y=\"0\" width=\"55\" height=\"55\" style=\"fill:#289049;stroke-width:2;stroke:rgb(255,255,255)\"/><rect x=\"440\" y=\"0\" width=\"55\" height=\"55\" style=\"fill:#107a37;stroke-width:2;stroke:rgb(255,255,255)\"/><rect x=\"495\" y=\"0\" width=\"55\" height=\"55\" style=\"fill:#006227;stroke-width:2;stroke:rgb(255,255,255)\"/></svg>"
      ],
      "text/plain": [
       "[(0.9176931949250289, 0.9684275278738947, 0.901361014994233),\n",
       " (0.8459054209919262, 0.9399307958477509, 0.8228219915417148),\n",
       " (0.7558477508650518, 0.9033910034602076, 0.7290426758938869),\n",
       " (0.6436447520184544, 0.8561476355247981, 0.6197923875432525),\n",
       " (0.5185697808535179, 0.7983391003460207, 0.5150941945405614),\n",
       " (0.3827450980392157, 0.7332564398308343, 0.42737408688965783),\n",
       " (0.2452133794694348, 0.6602537485582468, 0.35695501730103807),\n",
       " (0.1566320645905421, 0.5657670126874279, 0.28608996539792386),\n",
       " (0.06082276047673972, 0.47958477508650516, 0.21599384851980008),\n",
       " (0.0, 0.38268358323721646, 0.15398692810457515)]"
      ]
     },
     "execution_count": 47,
     "metadata": {},
     "output_type": "execute_result"
    }
   ],
   "source": [
    "#修改name为sequential型调色盘'Greens'\n",
    "sns.mpl_palette(name='Greens', n_colors=10)"
   ]
  },
  {
   "cell_type": "code",
   "execution_count": 49,
   "id": "631eaf8a-7aab-48b7-83a4-cbefab9c5c59",
   "metadata": {},
   "outputs": [
    {
     "data": {
      "text/html": [
       "<svg  width=\"550\" height=\"55\"><rect x=\"0\" y=\"0\" width=\"55\" height=\"55\" style=\"fill:#006227;stroke-width:2;stroke:rgb(255,255,255)\"/><rect x=\"55\" y=\"0\" width=\"55\" height=\"55\" style=\"fill:#107a37;stroke-width:2;stroke:rgb(255,255,255)\"/><rect x=\"110\" y=\"0\" width=\"55\" height=\"55\" style=\"fill:#289049;stroke-width:2;stroke:rgb(255,255,255)\"/><rect x=\"165\" y=\"0\" width=\"55\" height=\"55\" style=\"fill:#3fa85b;stroke-width:2;stroke:rgb(255,255,255)\"/><rect x=\"220\" y=\"0\" width=\"55\" height=\"55\" style=\"fill:#62bb6d;stroke-width:2;stroke:rgb(255,255,255)\"/><rect x=\"275\" y=\"0\" width=\"55\" height=\"55\" style=\"fill:#84cc83;stroke-width:2;stroke:rgb(255,255,255)\"/><rect x=\"330\" y=\"0\" width=\"55\" height=\"55\" style=\"fill:#a4da9e;stroke-width:2;stroke:rgb(255,255,255)\"/><rect x=\"385\" y=\"0\" width=\"55\" height=\"55\" style=\"fill:#c1e6ba;stroke-width:2;stroke:rgb(255,255,255)\"/><rect x=\"440\" y=\"0\" width=\"55\" height=\"55\" style=\"fill:#d8f0d2;stroke-width:2;stroke:rgb(255,255,255)\"/><rect x=\"495\" y=\"0\" width=\"55\" height=\"55\" style=\"fill:#eaf7e6;stroke-width:2;stroke:rgb(255,255,255)\"/></svg>"
      ],
      "text/plain": [
       "[(0.0, 0.3826835832372164, 0.15398692810457515),\n",
       " (0.06082276047673972, 0.47958477508650516, 0.21599384851980008),\n",
       " (0.1566320645905421, 0.5657670126874279, 0.28608996539792386),\n",
       " (0.24521337946943483, 0.6602537485582468, 0.35695501730103807),\n",
       " (0.38274509803921564, 0.7332564398308343, 0.42737408688965783),\n",
       " (0.5185697808535179, 0.7983391003460207, 0.5150941945405613),\n",
       " (0.6436447520184544, 0.8561476355247981, 0.6197923875432525),\n",
       " (0.7558477508650518, 0.9033910034602076, 0.7290426758938869),\n",
       " (0.8459054209919262, 0.9399307958477509, 0.8228219915417148),\n",
       " (0.9176931949250289, 0.9684275278738946, 0.9013610149942329)]"
      ]
     },
     "execution_count": 49,
     "metadata": {},
     "output_type": "execute_result"
    }
   ],
   "source": [
    "#修改name为sequential型调色盘'Greens_r'\n",
    "sns.mpl_palette(name='Greens_r', n_colors=10)"
   ]
  },
  {
   "cell_type": "code",
   "execution_count": 51,
   "id": "50dbbe3f-34a6-4c7e-aa62-c0da6b7c4794",
   "metadata": {},
   "outputs": [
    {
     "name": "stdout",
     "output_type": "stream",
     "text": [
      "['Accent', 'Accent_r', 'Blues', 'Blues_r', 'BrBG', 'BrBG_r', 'BuGn', 'BuGn_r', 'BuPu', 'BuPu_r', 'CMRmap', 'CMRmap_r', 'ColormapRegistry', 'Dark2', 'Dark2_r', 'GnBu', 'GnBu_r', 'Grays', 'Greens', 'Greens_r', 'Greys', 'Greys_r', 'Mapping', 'OrRd', 'OrRd_r', 'Oranges', 'Oranges_r', 'PRGn', 'PRGn_r', 'Paired', 'Paired_r', 'Pastel1', 'Pastel1_r', 'Pastel2', 'Pastel2_r', 'PiYG', 'PiYG_r', 'PuBu', 'PuBuGn', 'PuBuGn_r', 'PuBu_r', 'PuOr', 'PuOr_r', 'PuRd', 'PuRd_r', 'Purples', 'Purples_r', 'RdBu', 'RdBu_r', 'RdGy', 'RdGy_r', 'RdPu', 'RdPu_r', 'RdYlBu', 'RdYlBu_r', 'RdYlGn', 'RdYlGn_r', 'Reds', 'Reds_r', 'ScalarMappable', 'Set1', 'Set1_r', 'Set2', 'Set2_r', 'Set3', 'Set3_r', 'Spectral', 'Spectral_r', 'Wistia', 'Wistia_r', 'YlGn', 'YlGnBu', 'YlGnBu_r', 'YlGn_r', 'YlOrBr', 'YlOrBr_r', 'YlOrRd', 'YlOrRd_r', '_LUTSIZE', '__builtins__', '__cached__', '__doc__', '__file__', '__loader__', '__name__', '__package__', '__spec__', '_api', '_auto_norm_from_scale', '_colormaps', '_ensure_cmap', '_gen_cmap_registry', '_get_cmap', 'afmhot', 'afmhot_r', 'autumn', 'autumn_r', 'binary', 'binary_r', 'bone', 'bone_r', 'brg', 'brg_r', 'bwr', 'bwr_r', 'cbook', 'cividis', 'cividis_r', 'cmaps_listed', 'colors', 'cool', 'cool_r', 'coolwarm', 'coolwarm_r', 'copper', 'copper_r', 'cubehelix', 'cubehelix_r', 'datad', 'flag', 'flag_r', 'functools', 'get_cmap', 'gist_earth', 'gist_earth_r', 'gist_gray', 'gist_gray_r', 'gist_grey', 'gist_heat', 'gist_heat_r', 'gist_ncar', 'gist_ncar_r', 'gist_rainbow', 'gist_rainbow_r', 'gist_stern', 'gist_stern_r', 'gist_yarg', 'gist_yarg_r', 'gist_yerg', 'gnuplot', 'gnuplot2', 'gnuplot2_r', 'gnuplot_r', 'gray', 'gray_r', 'grey', 'hot', 'hot_r', 'hsv', 'hsv_r', 'inferno', 'inferno_r', 'jet', 'jet_r', 'ma', 'magma', 'magma_r', 'mpl', 'nipy_spectral', 'nipy_spectral_r', 'np', 'ocean', 'ocean_r', 'pink', 'pink_r', 'plasma', 'plasma_r', 'prism', 'prism_r', 'rainbow', 'rainbow_r', 'register_cmap', 'scale', 'seismic', 'seismic_r', 'spring', 'spring_r', 'summer', 'summer_r', 'tab10', 'tab10_r', 'tab20', 'tab20_r', 'tab20b', 'tab20b_r', 'tab20c', 'tab20c_r', 'terrain', 'terrain_r', 'turbo', 'turbo_r', 'twilight', 'twilight_r', 'twilight_shifted', 'twilight_shifted_r', 'unregister_cmap', 'viridis', 'viridis_r', 'winter', 'winter_r']\n"
     ]
    }
   ],
   "source": [
    "#name可用参数\n",
    "from matplotlib import cm\n",
    "print(dir(cm))"
   ]
  },
  {
   "cell_type": "code",
   "execution_count": 53,
   "id": "015a910e-48f8-4f01-82f7-a52ec836a47b",
   "metadata": {},
   "outputs": [
    {
     "data": {
      "text/html": [
       "<svg  width=\"550\" height=\"55\"><rect x=\"0\" y=\"0\" width=\"55\" height=\"55\" style=\"fill:#1dd50d;stroke-width:2;stroke:rgb(255,255,255)\"/><rect x=\"55\" y=\"0\" width=\"55\" height=\"55\" style=\"fill:#009b6f;stroke-width:2;stroke:rgb(255,255,255)\"/><rect x=\"110\" y=\"0\" width=\"55\" height=\"55\" style=\"fill:#0057c3;stroke-width:2;stroke:rgb(255,255,255)\"/><rect x=\"165\" y=\"0\" width=\"55\" height=\"55\" style=\"fill:#0044d7;stroke-width:2;stroke:rgb(255,255,255)\"/><rect x=\"220\" y=\"0\" width=\"55\" height=\"55\" style=\"fill:#0001ff;stroke-width:2;stroke:rgb(255,255,255)\"/><rect x=\"275\" y=\"0\" width=\"55\" height=\"55\" style=\"fill:#2700ff;stroke-width:2;stroke:rgb(255,255,255)\"/><rect x=\"330\" y=\"0\" width=\"55\" height=\"55\" style=\"fill:#6000ff;stroke-width:2;stroke:rgb(255,255,255)\"/><rect x=\"385\" y=\"0\" width=\"55\" height=\"55\" style=\"fill:#7300f8;stroke-width:2;stroke:rgb(255,255,255)\"/><rect x=\"440\" y=\"0\" width=\"55\" height=\"55\" style=\"fill:#b700b9;stroke-width:2;stroke:rgb(255,255,255)\"/><rect x=\"495\" y=\"0\" width=\"55\" height=\"55\" style=\"fill:#fa0063;stroke-width:2;stroke:rgb(255,255,255)\"/></svg>"
      ],
      "text/plain": [
       "[(0.11543217060217892, 0.8349302155714096, 0.05147867022991381),\n",
       " (0.0, 0.6065229178359353, 0.43624072777272843),\n",
       " (0.0, 0.34247339574231644, 0.7647738477102384),\n",
       " (0.0, 0.26494002569209196, 0.842358448473674),\n",
       " (0.0, 0.005241449887284477, 1.0),\n",
       " (0.1522280038491548, 0.0, 1.0),\n",
       " (0.37723519316772214, 0.0, 1.0),\n",
       " (0.45013221313314944, 0.0, 0.9716661754203243),\n",
       " (0.7175539679533384, 0.0, 0.7269346398002796),\n",
       " (0.9788462879759435, 0.0, 0.3885053820231286)]"
      ]
     },
     "execution_count": 53,
     "metadata": {},
     "output_type": "execute_result"
    }
   ],
   "source": [
    "#GraphPad Prism\n",
    "sns.mpl_palette(name='prism_r', n_colors=10)"
   ]
  },
  {
   "cell_type": "markdown",
   "id": "0b2edac0-e43b-4cff-850f-b3cc292b4ffb",
   "metadata": {},
   "source": [
    "# #### 5.3.1.5 hls_palette"
   ]
  },
  {
   "cell_type": "code",
   "execution_count": 56,
   "id": "e806d4a8-7223-4e08-9ac2-b591a32669a9",
   "metadata": {},
   "outputs": [
    {
     "data": {
      "text/html": [
       "<svg  width=\"550\" height=\"55\"><rect x=\"0\" y=\"0\" width=\"55\" height=\"55\" style=\"fill:#1814b8;stroke-width:2;stroke:rgb(255,255,255)\"/><rect x=\"55\" y=\"0\" width=\"55\" height=\"55\" style=\"fill:#7a14b8;stroke-width:2;stroke:rgb(255,255,255)\"/><rect x=\"110\" y=\"0\" width=\"55\" height=\"55\" style=\"fill:#b81494;stroke-width:2;stroke:rgb(255,255,255)\"/><rect x=\"165\" y=\"0\" width=\"55\" height=\"55\" style=\"fill:#b81432;stroke-width:2;stroke:rgb(255,255,255)\"/><rect x=\"220\" y=\"0\" width=\"55\" height=\"55\" style=\"fill:#b85914;stroke-width:2;stroke:rgb(255,255,255)\"/><rect x=\"275\" y=\"0\" width=\"55\" height=\"55\" style=\"fill:#b4b814;stroke-width:2;stroke:rgb(255,255,255)\"/><rect x=\"330\" y=\"0\" width=\"55\" height=\"55\" style=\"fill:#52b814;stroke-width:2;stroke:rgb(255,255,255)\"/><rect x=\"385\" y=\"0\" width=\"55\" height=\"55\" style=\"fill:#14b838;stroke-width:2;stroke:rgb(255,255,255)\"/><rect x=\"440\" y=\"0\" width=\"55\" height=\"55\" style=\"fill:#14b89a;stroke-width:2;stroke:rgb(255,255,255)\"/><rect x=\"495\" y=\"0\" width=\"55\" height=\"55\" style=\"fill:#1473b8;stroke-width:2;stroke:rgb(255,255,255)\"/></svg>"
      ],
      "text/plain": [
       "[(0.09280000000000026, 0.07999999999999996, 0.7200000000000001),\n",
       " (0.4767999999999998, 0.07999999999999996, 0.7200000000000001),\n",
       " (0.7200000000000001, 0.07999999999999996, 0.5791999999999992),\n",
       " (0.7200000000000001, 0.07999999999999996, 0.19519999999999965),\n",
       " (0.7200000000000001, 0.3488000000000002, 0.07999999999999996),\n",
       " (0.7072000000000005, 0.7200000000000001, 0.07999999999999996),\n",
       " (0.32320000000000004, 0.7200000000000001, 0.07999999999999996),\n",
       " (0.07999999999999996, 0.7200000000000001, 0.22080000000000047),\n",
       " (0.07999999999999996, 0.7200000000000001, 0.6048000000000009),\n",
       " (0.07999999999999996, 0.45119999999999966, 0.7200000000000001)]"
      ]
     },
     "execution_count": 56,
     "metadata": {},
     "output_type": "execute_result"
    }
   ],
   "source": [
    "import seaborn as sns\n",
    "\n",
    "sns.hls_palette(\n",
    "    n_colors=10,  #colormap颜色数量\n",
    "    h=0.67,  #设置颜色色相，h沿着一个圆形路径均匀采样，0.67（120/360度）代表蓝色\n",
    "    l=0.4,  #设置颜色亮度\n",
    "    s=0.8,  #设置颜色饱和度\n",
    "    as_cmap=False) #同前文\n",
    "\n"
   ]
  },
  {
   "cell_type": "code",
   "execution_count": 58,
   "id": "e3142a0c-d8c0-4f04-a2ad-1f8bd91b4e16",
   "metadata": {},
   "outputs": [
    {
     "data": {
      "text/html": [
       "<svg  width=\"550\" height=\"55\"><rect x=\"0\" y=\"0\" width=\"55\" height=\"55\" style=\"fill:#db5757;stroke-width:2;stroke:rgb(255,255,255)\"/><rect x=\"55\" y=\"0\" width=\"55\" height=\"55\" style=\"fill:#dba657;stroke-width:2;stroke:rgb(255,255,255)\"/><rect x=\"110\" y=\"0\" width=\"55\" height=\"55\" style=\"fill:#c1db57;stroke-width:2;stroke:rgb(255,255,255)\"/><rect x=\"165\" y=\"0\" width=\"55\" height=\"55\" style=\"fill:#71db57;stroke-width:2;stroke:rgb(255,255,255)\"/><rect x=\"220\" y=\"0\" width=\"55\" height=\"55\" style=\"fill:#57db8c;stroke-width:2;stroke:rgb(255,255,255)\"/><rect x=\"275\" y=\"0\" width=\"55\" height=\"55\" style=\"fill:#57dbdb;stroke-width:2;stroke:rgb(255,255,255)\"/><rect x=\"330\" y=\"0\" width=\"55\" height=\"55\" style=\"fill:#578cdb;stroke-width:2;stroke:rgb(255,255,255)\"/><rect x=\"385\" y=\"0\" width=\"55\" height=\"55\" style=\"fill:#7157db;stroke-width:2;stroke:rgb(255,255,255)\"/><rect x=\"440\" y=\"0\" width=\"55\" height=\"55\" style=\"fill:#c157db;stroke-width:2;stroke:rgb(255,255,255)\"/><rect x=\"495\" y=\"0\" width=\"55\" height=\"55\" style=\"fill:#db57a6;stroke-width:2;stroke:rgb(255,255,255)\"/></svg>"
      ],
      "text/plain": [
       "[(0.86, 0.33999999999999997, 0.33999999999999997),\n",
       " (0.86, 0.652, 0.33999999999999997),\n",
       " (0.7559999999999999, 0.86, 0.33999999999999997),\n",
       " (0.44399999999999995, 0.86, 0.33999999999999997),\n",
       " (0.33999999999999997, 0.86, 0.548),\n",
       " (0.33999999999999997, 0.8599999999999999, 0.86),\n",
       " (0.33999999999999997, 0.5479999999999996, 0.86),\n",
       " (0.4440000000000003, 0.33999999999999997, 0.86),\n",
       " (0.7559999999999999, 0.33999999999999997, 0.86),\n",
       " (0.86, 0.33999999999999997, 0.6519999999999999)]"
      ]
     },
     "execution_count": 58,
     "metadata": {},
     "output_type": "execute_result"
    }
   ],
   "source": [
    "#设置h色相为红色，即h=0\n",
    "sns.hls_palette(n_colors=10,\n",
    "                h=0)  #设置色相"
   ]
  },
  {
   "cell_type": "code",
   "execution_count": 60,
   "id": "48447e03-76c6-414e-b8c4-745b83b1cf78",
   "metadata": {},
   "outputs": [
    {
     "data": {
      "text/html": [
       "<svg  width=\"550\" height=\"55\"><rect x=\"0\" y=\"0\" width=\"55\" height=\"55\" style=\"fill:#edabab;stroke-width:2;stroke:rgb(255,255,255)\"/><rect x=\"55\" y=\"0\" width=\"55\" height=\"55\" style=\"fill:#edd3ab;stroke-width:2;stroke:rgb(255,255,255)\"/><rect x=\"110\" y=\"0\" width=\"55\" height=\"55\" style=\"fill:#e0edab;stroke-width:2;stroke:rgb(255,255,255)\"/><rect x=\"165\" y=\"0\" width=\"55\" height=\"55\" style=\"fill:#b8edab;stroke-width:2;stroke:rgb(255,255,255)\"/><rect x=\"220\" y=\"0\" width=\"55\" height=\"55\" style=\"fill:#abedc5;stroke-width:2;stroke:rgb(255,255,255)\"/><rect x=\"275\" y=\"0\" width=\"55\" height=\"55\" style=\"fill:#abeded;stroke-width:2;stroke:rgb(255,255,255)\"/><rect x=\"330\" y=\"0\" width=\"55\" height=\"55\" style=\"fill:#abc5ed;stroke-width:2;stroke:rgb(255,255,255)\"/><rect x=\"385\" y=\"0\" width=\"55\" height=\"55\" style=\"fill:#b8abed;stroke-width:2;stroke:rgb(255,255,255)\"/><rect x=\"440\" y=\"0\" width=\"55\" height=\"55\" style=\"fill:#e0abed;stroke-width:2;stroke:rgb(255,255,255)\"/><rect x=\"495\" y=\"0\" width=\"55\" height=\"55\" style=\"fill:#edabd3;stroke-width:2;stroke:rgb(255,255,255)\"/></svg>"
      ],
      "text/plain": [
       "[(0.9300000000000002, 0.6699999999999999, 0.6699999999999999),\n",
       " (0.9300000000000002, 0.8260000000000001, 0.6699999999999999),\n",
       " (0.8780000000000001, 0.9300000000000002, 0.6699999999999999),\n",
       " (0.722, 0.9300000000000002, 0.6699999999999999),\n",
       " (0.6699999999999999, 0.9300000000000002, 0.7740000000000001),\n",
       " (0.6699999999999999, 0.9300000000000002, 0.9300000000000002),\n",
       " (0.6699999999999999, 0.7739999999999998, 0.9300000000000002),\n",
       " (0.7220000000000001, 0.6699999999999999, 0.9300000000000002),\n",
       " (0.8780000000000001, 0.6699999999999999, 0.9300000000000002),\n",
       " (0.9300000000000002, 0.6699999999999999, 0.8260000000000001)]"
      ]
     },
     "execution_count": 60,
     "metadata": {},
     "output_type": "execute_result"
    }
   ],
   "source": [
    "#设置亮度l\n",
    "sns.hls_palette(n_colors=10, h=0, \n",
    "                l=0.8)  #设置亮度"
   ]
  },
  {
   "cell_type": "code",
   "execution_count": 62,
   "id": "3c114569-9922-4adc-ae35-5b6854b9be21",
   "metadata": {},
   "outputs": [
    {
     "data": {
      "text/html": [
       "<svg  width=\"550\" height=\"55\"><rect x=\"0\" y=\"0\" width=\"55\" height=\"55\" style=\"fill:#d6c2c2;stroke-width:2;stroke:rgb(255,255,255)\"/><rect x=\"55\" y=\"0\" width=\"55\" height=\"55\" style=\"fill:#d6cec2;stroke-width:2;stroke:rgb(255,255,255)\"/><rect x=\"110\" y=\"0\" width=\"55\" height=\"55\" style=\"fill:#d2d6c2;stroke-width:2;stroke:rgb(255,255,255)\"/><rect x=\"165\" y=\"0\" width=\"55\" height=\"55\" style=\"fill:#c6d6c2;stroke-width:2;stroke:rgb(255,255,255)\"/><rect x=\"220\" y=\"0\" width=\"55\" height=\"55\" style=\"fill:#c2d6ca;stroke-width:2;stroke:rgb(255,255,255)\"/><rect x=\"275\" y=\"0\" width=\"55\" height=\"55\" style=\"fill:#c2d6d6;stroke-width:2;stroke:rgb(255,255,255)\"/><rect x=\"330\" y=\"0\" width=\"55\" height=\"55\" style=\"fill:#c2cad6;stroke-width:2;stroke:rgb(255,255,255)\"/><rect x=\"385\" y=\"0\" width=\"55\" height=\"55\" style=\"fill:#c6c2d6;stroke-width:2;stroke:rgb(255,255,255)\"/><rect x=\"440\" y=\"0\" width=\"55\" height=\"55\" style=\"fill:#d2c2d6;stroke-width:2;stroke:rgb(255,255,255)\"/><rect x=\"495\" y=\"0\" width=\"55\" height=\"55\" style=\"fill:#d6c2ce;stroke-width:2;stroke:rgb(255,255,255)\"/></svg>"
      ],
      "text/plain": [
       "[(0.84, 0.7600000000000001, 0.7600000000000001),\n",
       " (0.84, 0.808, 0.7600000000000001),\n",
       " (0.824, 0.84, 0.7600000000000001),\n",
       " (0.7760000000000001, 0.84, 0.7600000000000001),\n",
       " (0.7600000000000001, 0.84, 0.792),\n",
       " (0.7600000000000001, 0.84, 0.84),\n",
       " (0.7600000000000001, 0.792, 0.84),\n",
       " (0.7760000000000001, 0.7600000000000001, 0.84),\n",
       " (0.824, 0.7600000000000001, 0.84),\n",
       " (0.84, 0.7600000000000001, 0.808)]"
      ]
     },
     "execution_count": 62,
     "metadata": {},
     "output_type": "execute_result"
    }
   ],
   "source": [
    "#设置饱和度s\n",
    "sns.hls_palette(n_colors=10, h=0, l=0.8, \n",
    "                s=0.2)  #设置饱和度"
   ]
  },
  {
   "cell_type": "markdown",
   "id": "dcd76b3a-d504-44a0-8e1b-d29ce4a92e95",
   "metadata": {},
   "source": [
    "# #### 5.3.1.6 husl_palette"
   ]
  },
  {
   "cell_type": "code",
   "execution_count": 65,
   "id": "531cfe5d-6f37-4b55-87fc-dbd3088cc701",
   "metadata": {},
   "outputs": [
    {
     "data": {
      "text/html": [
       "<svg  width=\"550\" height=\"55\"><rect x=\"0\" y=\"0\" width=\"55\" height=\"55\" style=\"fill:#2e6287;stroke-width:2;stroke:rgb(255,255,255)\"/><rect x=\"55\" y=\"0\" width=\"55\" height=\"55\" style=\"fill:#7638cc;stroke-width:2;stroke:rgb(255,255,255)\"/><rect x=\"110\" y=\"0\" width=\"55\" height=\"55\" style=\"fill:#9a3092;stroke-width:2;stroke:rgb(255,255,255)\"/><rect x=\"165\" y=\"0\" width=\"55\" height=\"55\" style=\"fill:#a82b67;stroke-width:2;stroke:rgb(255,255,255)\"/><rect x=\"220\" y=\"0\" width=\"55\" height=\"55\" style=\"fill:#944827;stroke-width:2;stroke:rgb(255,255,255)\"/><rect x=\"275\" y=\"0\" width=\"55\" height=\"55\" style=\"fill:#715a27;stroke-width:2;stroke:rgb(255,255,255)\"/><rect x=\"330\" y=\"0\" width=\"55\" height=\"55\" style=\"fill:#576227;stroke-width:2;stroke:rgb(255,255,255)\"/><rect x=\"385\" y=\"0\" width=\"55\" height=\"55\" style=\"fill:#276a36;stroke-width:2;stroke:rgb(255,255,255)\"/><rect x=\"440\" y=\"0\" width=\"55\" height=\"55\" style=\"fill:#29675a;stroke-width:2;stroke:rgb(255,255,255)\"/><rect x=\"495\" y=\"0\" width=\"55\" height=\"55\" style=\"fill:#2b666c;stroke-width:2;stroke:rgb(255,255,255)\"/></svg>"
      ],
      "text/plain": [
       "[(0.1790201477868881, 0.38320704988399945, 0.5304294596442976),\n",
       " (0.46194107070472606, 0.21810170250620248, 0.8019440633780046),\n",
       " (0.6030731663861281, 0.18694916467106723, 0.5726498141926499),\n",
       " (0.6574369710979572, 0.16988488251910483, 0.4030795533090519),\n",
       " (0.5789991431511188, 0.2813297744028449, 0.15401576851982973),\n",
       " (0.44319574124438316, 0.35392704300910105, 0.15242906613708937),\n",
       " (0.34304728195333145, 0.3860537074392251, 0.15157865771953488),\n",
       " (0.15295249058388377, 0.4158800715655456, 0.21011490580991987),\n",
       " (0.16182319540608364, 0.4057183551566542, 0.35410563650913524),\n",
       " (0.1679375336634629, 0.39816564410445937, 0.4250826539033569)]"
      ]
     },
     "execution_count": 65,
     "metadata": {},
     "output_type": "execute_result"
    }
   ],
   "source": [
    "import seaborn as sns\n",
    "\n",
    "sns.husl_palette(\n",
    "    n_colors=10,  #colormap颜色数量\n",
    "    h=0.67,  #设置颜色色相，h沿着一个圆形路径均匀采样，0.67（120/360度）代表蓝色\n",
    "    l=0.4,  #设置颜色亮度\n",
    "    s=0.8,  #设置颜色饱和度\n",
    "    as_cmap=False) #同前文te(n_colors=6, h=0.01, s=0.9, l=0.65, as_cmap=False)\n"
   ]
  },
  {
   "cell_type": "code",
   "execution_count": 67,
   "id": "b0050c1f-8de1-4065-93d7-8fc44d80e9a8",
   "metadata": {},
   "outputs": [
    {
     "data": {
      "text/html": [
       "<svg  width=\"550\" height=\"55\"><rect x=\"0\" y=\"0\" width=\"55\" height=\"55\" style=\"fill:#1814b8;stroke-width:2;stroke:rgb(255,255,255)\"/><rect x=\"55\" y=\"0\" width=\"55\" height=\"55\" style=\"fill:#7a14b8;stroke-width:2;stroke:rgb(255,255,255)\"/><rect x=\"110\" y=\"0\" width=\"55\" height=\"55\" style=\"fill:#b81494;stroke-width:2;stroke:rgb(255,255,255)\"/><rect x=\"165\" y=\"0\" width=\"55\" height=\"55\" style=\"fill:#b81432;stroke-width:2;stroke:rgb(255,255,255)\"/><rect x=\"220\" y=\"0\" width=\"55\" height=\"55\" style=\"fill:#b85914;stroke-width:2;stroke:rgb(255,255,255)\"/><rect x=\"275\" y=\"0\" width=\"55\" height=\"55\" style=\"fill:#b4b814;stroke-width:2;stroke:rgb(255,255,255)\"/><rect x=\"330\" y=\"0\" width=\"55\" height=\"55\" style=\"fill:#52b814;stroke-width:2;stroke:rgb(255,255,255)\"/><rect x=\"385\" y=\"0\" width=\"55\" height=\"55\" style=\"fill:#14b838;stroke-width:2;stroke:rgb(255,255,255)\"/><rect x=\"440\" y=\"0\" width=\"55\" height=\"55\" style=\"fill:#14b89a;stroke-width:2;stroke:rgb(255,255,255)\"/><rect x=\"495\" y=\"0\" width=\"55\" height=\"55\" style=\"fill:#1473b8;stroke-width:2;stroke:rgb(255,255,255)\"/></svg>"
      ],
      "text/plain": [
       "[(0.09280000000000026, 0.07999999999999996, 0.7200000000000001),\n",
       " (0.4767999999999998, 0.07999999999999996, 0.7200000000000001),\n",
       " (0.7200000000000001, 0.07999999999999996, 0.5791999999999992),\n",
       " (0.7200000000000001, 0.07999999999999996, 0.19519999999999965),\n",
       " (0.7200000000000001, 0.3488000000000002, 0.07999999999999996),\n",
       " (0.7072000000000005, 0.7200000000000001, 0.07999999999999996),\n",
       " (0.32320000000000004, 0.7200000000000001, 0.07999999999999996),\n",
       " (0.07999999999999996, 0.7200000000000001, 0.22080000000000047),\n",
       " (0.07999999999999996, 0.7200000000000001, 0.6048000000000009),\n",
       " (0.07999999999999996, 0.45119999999999966, 0.7200000000000001)]"
      ]
     },
     "execution_count": 67,
     "metadata": {},
     "output_type": "execute_result"
    }
   ],
   "source": [
    "sns.hls_palette(\n",
    "    n_colors=10,  \n",
    "    h=0.67,  \n",
    "    l=0.4,  \n",
    "    s=0.8,  \n",
    "    as_cmap=False)"
   ]
  },
  {
   "cell_type": "code",
   "execution_count": 69,
   "id": "dd952378-00bf-429b-a5f9-ea54bd6cddac",
   "metadata": {},
   "outputs": [
    {
     "data": {
      "text/html": [
       "<svg  width=\"550\" height=\"55\"><rect x=\"0\" y=\"0\" width=\"55\" height=\"55\" style=\"fill:#db5757;stroke-width:2;stroke:rgb(255,255,255)\"/><rect x=\"55\" y=\"0\" width=\"55\" height=\"55\" style=\"fill:#dba657;stroke-width:2;stroke:rgb(255,255,255)\"/><rect x=\"110\" y=\"0\" width=\"55\" height=\"55\" style=\"fill:#c1db57;stroke-width:2;stroke:rgb(255,255,255)\"/><rect x=\"165\" y=\"0\" width=\"55\" height=\"55\" style=\"fill:#71db57;stroke-width:2;stroke:rgb(255,255,255)\"/><rect x=\"220\" y=\"0\" width=\"55\" height=\"55\" style=\"fill:#57db8c;stroke-width:2;stroke:rgb(255,255,255)\"/><rect x=\"275\" y=\"0\" width=\"55\" height=\"55\" style=\"fill:#57dbdb;stroke-width:2;stroke:rgb(255,255,255)\"/><rect x=\"330\" y=\"0\" width=\"55\" height=\"55\" style=\"fill:#578cdb;stroke-width:2;stroke:rgb(255,255,255)\"/><rect x=\"385\" y=\"0\" width=\"55\" height=\"55\" style=\"fill:#7157db;stroke-width:2;stroke:rgb(255,255,255)\"/><rect x=\"440\" y=\"0\" width=\"55\" height=\"55\" style=\"fill:#c157db;stroke-width:2;stroke:rgb(255,255,255)\"/><rect x=\"495\" y=\"0\" width=\"55\" height=\"55\" style=\"fill:#db57a6;stroke-width:2;stroke:rgb(255,255,255)\"/></svg>"
      ],
      "text/plain": [
       "[(0.86, 0.33999999999999997, 0.33999999999999997),\n",
       " (0.86, 0.652, 0.33999999999999997),\n",
       " (0.7559999999999999, 0.86, 0.33999999999999997),\n",
       " (0.44399999999999995, 0.86, 0.33999999999999997),\n",
       " (0.33999999999999997, 0.86, 0.548),\n",
       " (0.33999999999999997, 0.8599999999999999, 0.86),\n",
       " (0.33999999999999997, 0.5479999999999996, 0.86),\n",
       " (0.4440000000000003, 0.33999999999999997, 0.86),\n",
       " (0.7559999999999999, 0.33999999999999997, 0.86),\n",
       " (0.86, 0.33999999999999997, 0.6519999999999999)]"
      ]
     },
     "execution_count": 69,
     "metadata": {},
     "output_type": "execute_result"
    }
   ],
   "source": [
    "sns.hls_palette(n_colors=10, h=0)  #hls_palette中设置色相"
   ]
  },
  {
   "cell_type": "code",
   "execution_count": 71,
   "id": "aa653963-19ef-4fd9-9c35-84f6fe77706d",
   "metadata": {},
   "outputs": [
    {
     "data": {
      "text/html": [
       "<svg  width=\"550\" height=\"55\"><rect x=\"0\" y=\"0\" width=\"55\" height=\"55\" style=\"fill:#f77090;stroke-width:2;stroke:rgb(255,255,255)\"/><rect x=\"55\" y=\"0\" width=\"55\" height=\"55\" style=\"fill:#e28532;stroke-width:2;stroke:rgb(255,255,255)\"/><rect x=\"110\" y=\"0\" width=\"55\" height=\"55\" style=\"fill:#b29b32;stroke-width:2;stroke:rgb(255,255,255)\"/><rect x=\"165\" y=\"0\" width=\"55\" height=\"55\" style=\"fill:#7fa931;stroke-width:2;stroke:rgb(255,255,255)\"/><rect x=\"220\" y=\"0\" width=\"55\" height=\"55\" style=\"fill:#33b173;stroke-width:2;stroke:rgb(255,255,255)\"/><rect x=\"275\" y=\"0\" width=\"55\" height=\"55\" style=\"fill:#35ada1;stroke-width:2;stroke:rgb(255,255,255)\"/><rect x=\"330\" y=\"0\" width=\"55\" height=\"55\" style=\"fill:#38a9c1;stroke-width:2;stroke:rgb(255,255,255)\"/><rect x=\"385\" y=\"0\" width=\"55\" height=\"55\" style=\"fill:#5f9df4;stroke-width:2;stroke:rgb(255,255,255)\"/><rect x=\"440\" y=\"0\" width=\"55\" height=\"55\" style=\"fill:#c47ef4;stroke-width:2;stroke:rgb(255,255,255)\"/><rect x=\"495\" y=\"0\" width=\"55\" height=\"55\" style=\"fill:#f564d3;stroke-width:2;stroke:rgb(255,255,255)\"/></svg>"
      ],
      "text/plain": [
       "[(0.9673068486894058, 0.43760373463479557, 0.5661632485543318),\n",
       " (0.8859561388376407, 0.5226505841897354, 0.195714831410001),\n",
       " (0.6967856488918167, 0.6094857716505745, 0.1941666564766089),\n",
       " (0.49862995317502606, 0.6639281765667907, 0.19302982239856423),\n",
       " (0.1999916314143737, 0.6925644704524734, 0.45197028257617927),\n",
       " (0.20964485513246672, 0.6785281560863641, 0.6309437466865638),\n",
       " (0.21860817303620478, 0.6644646222710646, 0.7579379391094443),\n",
       " (0.3711152842731098, 0.6174124752499043, 0.9586047646790773),\n",
       " (0.7695666894320189, 0.49405886791942427, 0.9580224330162374),\n",
       " (0.9615698478167677, 0.3916890619185551, 0.8268671491444017)]"
      ]
     },
     "execution_count": 71,
     "metadata": {},
     "output_type": "execute_result"
    }
   ],
   "source": [
    "sns.husl_palette(n_colors=10, h=0)  #husl_palette中设置色相"
   ]
  },
  {
   "cell_type": "code",
   "execution_count": 73,
   "id": "9589ff00-9016-42db-8ee2-5d67655190cc",
   "metadata": {},
   "outputs": [
    {
     "data": {
      "text/html": [
       "<svg  width=\"550\" height=\"55\"><rect x=\"0\" y=\"0\" width=\"55\" height=\"55\" style=\"fill:#f5a3a3;stroke-width:2;stroke:rgb(255,255,255)\"/><rect x=\"55\" y=\"0\" width=\"55\" height=\"55\" style=\"fill:#f5d4a3;stroke-width:2;stroke:rgb(255,255,255)\"/><rect x=\"110\" y=\"0\" width=\"55\" height=\"55\" style=\"fill:#e4f5a3;stroke-width:2;stroke:rgb(255,255,255)\"/><rect x=\"165\" y=\"0\" width=\"55\" height=\"55\" style=\"fill:#b4f5a3;stroke-width:2;stroke:rgb(255,255,255)\"/><rect x=\"220\" y=\"0\" width=\"55\" height=\"55\" style=\"fill:#a3f5c4;stroke-width:2;stroke:rgb(255,255,255)\"/><rect x=\"275\" y=\"0\" width=\"55\" height=\"55\" style=\"fill:#a3f5f5;stroke-width:2;stroke:rgb(255,255,255)\"/><rect x=\"330\" y=\"0\" width=\"55\" height=\"55\" style=\"fill:#a3c4f5;stroke-width:2;stroke:rgb(255,255,255)\"/><rect x=\"385\" y=\"0\" width=\"55\" height=\"55\" style=\"fill:#b4a3f5;stroke-width:2;stroke:rgb(255,255,255)\"/><rect x=\"440\" y=\"0\" width=\"55\" height=\"55\" style=\"fill:#e4a3f5;stroke-width:2;stroke:rgb(255,255,255)\"/><rect x=\"495\" y=\"0\" width=\"55\" height=\"55\" style=\"fill:#f5a3d4;stroke-width:2;stroke:rgb(255,255,255)\"/></svg>"
      ],
      "text/plain": [
       "[(0.96, 0.6400000000000001, 0.6400000000000001),\n",
       " (0.96, 0.8320000000000001, 0.6400000000000001),\n",
       " (0.8959999999999999, 0.96, 0.6400000000000001),\n",
       " (0.7040000000000001, 0.96, 0.6400000000000001),\n",
       " (0.6400000000000001, 0.96, 0.7680000000000001),\n",
       " (0.6400000000000001, 0.96, 0.96),\n",
       " (0.6400000000000001, 0.7679999999999998, 0.96),\n",
       " (0.7040000000000003, 0.6400000000000001, 0.96),\n",
       " (0.8959999999999999, 0.6400000000000001, 0.96),\n",
       " (0.96, 0.6400000000000001, 0.8320000000000001)]"
      ]
     },
     "execution_count": 73,
     "metadata": {},
     "output_type": "execute_result"
    }
   ],
   "source": [
    "sns.hls_palette(n_colors=10, h=0, l=0.8, s=0.8)  #hls_palette中设置饱和度\n"
   ]
  },
  {
   "cell_type": "code",
   "execution_count": 75,
   "id": "915398da-6dc0-44e7-95af-517205b1510b",
   "metadata": {},
   "outputs": [
    {
     "data": {
      "text/html": [
       "<svg  width=\"550\" height=\"55\"><rect x=\"0\" y=\"0\" width=\"55\" height=\"55\" style=\"fill:#f4b3bf;stroke-width:2;stroke:rgb(255,255,255)\"/><rect x=\"55\" y=\"0\" width=\"55\" height=\"55\" style=\"fill:#f5b795;stroke-width:2;stroke:rgb(255,255,255)\"/><rect x=\"110\" y=\"0\" width=\"55\" height=\"55\" style=\"fill:#ddc359;stroke-width:2;stroke:rgb(255,255,255)\"/><rect x=\"165\" y=\"0\" width=\"55\" height=\"55\" style=\"fill:#a4d359;stroke-width:2;stroke:rgb(255,255,255)\"/><rect x=\"220\" y=\"0\" width=\"55\" height=\"55\" style=\"fill:#5cdb98;stroke-width:2;stroke:rgb(255,255,255)\"/><rect x=\"275\" y=\"0\" width=\"55\" height=\"55\" style=\"fill:#5fd7ca;stroke-width:2;stroke:rgb(255,255,255)\"/><rect x=\"330\" y=\"0\" width=\"55\" height=\"55\" style=\"fill:#62d3ed;stroke-width:2;stroke:rgb(255,255,255)\"/><rect x=\"385\" y=\"0\" width=\"55\" height=\"55\" style=\"fill:#aec5f3;stroke-width:2;stroke:rgb(255,255,255)\"/><rect x=\"440\" y=\"0\" width=\"55\" height=\"55\" style=\"fill:#d8b8f3;stroke-width:2;stroke:rgb(255,255,255)\"/><rect x=\"495\" y=\"0\" width=\"55\" height=\"55\" style=\"fill:#f4afe0;stroke-width:2;stroke:rgb(255,255,255)\"/></svg>"
      ],
      "text/plain": [
       "[(0.9579439001408675, 0.7018488526216621, 0.7495354489624122),\n",
       " (0.9606122678920098, 0.7161576983706419, 0.5835342449284606),\n",
       " (0.8647709459985848, 0.7666571771362537, 0.3507490681219318),\n",
       " (0.6446004291350802, 0.8277363821074056, 0.34907513031737286),\n",
       " (0.35924933765313954, 0.8595341578137352, 0.595890325482403),\n",
       " (0.37322931577454904, 0.84308435755403, 0.7903087739104881),\n",
       " (0.38603920284068405, 0.8269308845301823, 0.9307384158629303),\n",
       " (0.6810621942014641, 0.7716795827496232, 0.95387240708204),\n",
       " (0.8464164761895323, 0.7210224457093587, 0.953599947470747),\n",
       " (0.9552772443744225, 0.6872152441291655, 0.8771609881542995)]"
      ]
     },
     "execution_count": 75,
     "metadata": {},
     "output_type": "execute_result"
    }
   ],
   "source": [
    "sns.husl_palette(n_colors=10, h=0, l=0.8, s=0.8)  #husl_palette中设置饱和度\n"
   ]
  },
  {
   "cell_type": "markdown",
   "id": "59858d1b-72c5-430c-9ac7-787869fe4f7a",
   "metadata": {},
   "source": [
    "# #### 5.3.1.7 diverging_palette"
   ]
  },
  {
   "cell_type": "code",
   "execution_count": 78,
   "id": "78d9b82a-58a4-4eca-953f-68ba44c0e92e",
   "metadata": {},
   "outputs": [
    {
     "data": {
      "text/html": [
       "<svg  width=\"550\" height=\"55\"><rect x=\"0\" y=\"0\" width=\"55\" height=\"55\" style=\"fill:#d53d69;stroke-width:2;stroke:rgb(255,255,255)\"/><rect x=\"55\" y=\"0\" width=\"55\" height=\"55\" style=\"fill:#db6487;stroke-width:2;stroke:rgb(255,255,255)\"/><rect x=\"110\" y=\"0\" width=\"55\" height=\"55\" style=\"fill:#e28ca5;stroke-width:2;stroke:rgb(255,255,255)\"/><rect x=\"165\" y=\"0\" width=\"55\" height=\"55\" style=\"fill:#e9b5c4;stroke-width:2;stroke:rgb(255,255,255)\"/><rect x=\"220\" y=\"0\" width=\"55\" height=\"55\" style=\"fill:#efdde2;stroke-width:2;stroke:rgb(255,255,255)\"/><rect x=\"275\" y=\"0\" width=\"55\" height=\"55\" style=\"fill:#dce7d8;stroke-width:2;stroke:rgb(255,255,255)\"/><rect x=\"330\" y=\"0\" width=\"55\" height=\"55\" style=\"fill:#b9ceb1;stroke-width:2;stroke:rgb(255,255,255)\"/><rect x=\"385\" y=\"0\" width=\"55\" height=\"55\" style=\"fill:#95b587;stroke-width:2;stroke:rgb(255,255,255)\"/><rect x=\"440\" y=\"0\" width=\"55\" height=\"55\" style=\"fill:#729c60;stroke-width:2;stroke:rgb(255,255,255)\"/><rect x=\"495\" y=\"0\" width=\"55\" height=\"55\" style=\"fill:#4f8438;stroke-width:2;stroke:rgb(255,255,255)\"/></svg>"
      ],
      "text/plain": [
       "[(0.8340245009323628, 0.237592525883977, 0.413389203308121),\n",
       " (0.8596050363244643, 0.39280222331536574, 0.5301079808304767),\n",
       " (0.8851855717165659, 0.5480119207467544, 0.6468267583528324),\n",
       " (0.9121347085767019, 0.7115255968283857, 0.7697901858723735),\n",
       " (0.9377152439688033, 0.8667352942597744, 0.8865089633947292),\n",
       " (0.8615218829571156, 0.9044316381399372, 0.8464643849032071),\n",
       " (0.7256687831063817, 0.8088458309165922, 0.6922364699356445),\n",
       " (0.5825473149809888, 0.7081460229859158, 0.5297571033232632),\n",
       " (0.44669421513025487, 0.6125602157625709, 0.37552918835570065),\n",
       " (0.310841115279521, 0.516974408539226, 0.221301273388138)]"
      ]
     },
     "execution_count": 78,
     "metadata": {},
     "output_type": "execute_result"
    }
   ],
   "source": [
    "import seaborn as sns\n",
    "\n",
    "sns.diverging_palette(\n",
    "    h_neg=0,  #设置左端颜色色相（0 <= h_neg <= 359）\n",
    "    h_pos=120,  #设置右端颜色色相（0 <= h_pos <= 359）\n",
    "    s=75,  #设置颜色饱和度（0 <= l <= 100）\n",
    "    l=50,  #设置颜色亮度（0 <= l <= 100）\n",
    "    sep=1,  #介于h_neg和h_pos之间区域大小\n",
    "    n=10,  #colormap颜色数量\n",
    "    center='light',  #构建的colormap中间色调，“light”, “dark”可选\n",
    "    as_cmap=False)  #同上文"
   ]
  },
  {
   "cell_type": "code",
   "execution_count": 80,
   "id": "81435bc9-915b-45cf-9293-75d25aea2a80",
   "metadata": {},
   "outputs": [
    {
     "data": {
      "text/html": [
       "<svg  width=\"550\" height=\"55\"><rect x=\"0\" y=\"0\" width=\"55\" height=\"55\" style=\"fill:#4f8438;stroke-width:2;stroke:rgb(255,255,255)\"/><rect x=\"55\" y=\"0\" width=\"55\" height=\"55\" style=\"fill:#729c60;stroke-width:2;stroke:rgb(255,255,255)\"/><rect x=\"110\" y=\"0\" width=\"55\" height=\"55\" style=\"fill:#95b587;stroke-width:2;stroke:rgb(255,255,255)\"/><rect x=\"165\" y=\"0\" width=\"55\" height=\"55\" style=\"fill:#b9ceb1;stroke-width:2;stroke:rgb(255,255,255)\"/><rect x=\"220\" y=\"0\" width=\"55\" height=\"55\" style=\"fill:#dce7d8;stroke-width:2;stroke:rgb(255,255,255)\"/><rect x=\"275\" y=\"0\" width=\"55\" height=\"55\" style=\"fill:#efdde2;stroke-width:2;stroke:rgb(255,255,255)\"/><rect x=\"330\" y=\"0\" width=\"55\" height=\"55\" style=\"fill:#e9b5c4;stroke-width:2;stroke:rgb(255,255,255)\"/><rect x=\"385\" y=\"0\" width=\"55\" height=\"55\" style=\"fill:#e28ca5;stroke-width:2;stroke:rgb(255,255,255)\"/><rect x=\"440\" y=\"0\" width=\"55\" height=\"55\" style=\"fill:#db6487;stroke-width:2;stroke:rgb(255,255,255)\"/><rect x=\"495\" y=\"0\" width=\"55\" height=\"55\" style=\"fill:#d53d69;stroke-width:2;stroke:rgb(255,255,255)\"/></svg>"
      ],
      "text/plain": [
       "[(0.310841115279521, 0.516974408539226, 0.221301273388138),\n",
       " (0.4466942151302549, 0.612560215762571, 0.37552918835570065),\n",
       " (0.5825473149809889, 0.7081460229859158, 0.5297571033232632),\n",
       " (0.7256687831063818, 0.8088458309165923, 0.6922364699356445),\n",
       " (0.8615218829571156, 0.9044316381399372, 0.8464643849032072),\n",
       " (0.9377152439688033, 0.8667352942597744, 0.8865089633947292),\n",
       " (0.9121347085767019, 0.7115255968283856, 0.7697901858723735),\n",
       " (0.8851855717165659, 0.5480119207467544, 0.6468267583528324),\n",
       " (0.8596050363244643, 0.39280222331536563, 0.5301079808304767),\n",
       " (0.8340245009323628, 0.237592525883977, 0.413389203308121)]"
      ]
     },
     "execution_count": 80,
     "metadata": {},
     "output_type": "execute_result"
    }
   ],
   "source": [
    "# 修改h_neg、h_pos\n",
    "sns.diverging_palette(\n",
    "    h_neg=120,  #修改h_neg\n",
    "    h_pos=0,  #修改h_pos\n",
    "    s=75,\n",
    "    l=50,\n",
    "    sep=1,\n",
    "    n=10,\n",
    "    center='light',\n",
    "    as_cmap=False)"
   ]
  },
  {
   "cell_type": "code",
   "execution_count": 82,
   "id": "f7e8b2a4-7aa1-4d72-9847-d77066d1a939",
   "metadata": {},
   "outputs": [
    {
     "data": {
      "text/html": [
       "<svg  width=\"550\" height=\"55\"><rect x=\"0\" y=\"0\" width=\"55\" height=\"55\" style=\"fill:#4f8438;stroke-width:2;stroke:rgb(255,255,255)\"/><rect x=\"55\" y=\"0\" width=\"55\" height=\"55\" style=\"fill:#466f34;stroke-width:2;stroke:rgb(255,255,255)\"/><rect x=\"110\" y=\"0\" width=\"55\" height=\"55\" style=\"fill:#3c5b2f;stroke-width:2;stroke:rgb(255,255,255)\"/><rect x=\"165\" y=\"0\" width=\"55\" height=\"55\" style=\"fill:#32452a;stroke-width:2;stroke:rgb(255,255,255)\"/><rect x=\"220\" y=\"0\" width=\"55\" height=\"55\" style=\"fill:#283025;stroke-width:2;stroke:rgb(255,255,255)\"/><rect x=\"275\" y=\"0\" width=\"55\" height=\"55\" style=\"fill:#3f262c;stroke-width:2;stroke:rgb(255,255,255)\"/><rect x=\"330\" y=\"0\" width=\"55\" height=\"55\" style=\"fill:#642b3b;stroke-width:2;stroke:rgb(255,255,255)\"/><rect x=\"385\" y=\"0\" width=\"55\" height=\"55\" style=\"fill:#8b314b;stroke-width:2;stroke:rgb(255,255,255)\"/><rect x=\"440\" y=\"0\" width=\"55\" height=\"55\" style=\"fill:#b0375a;stroke-width:2;stroke:rgb(255,255,255)\"/><rect x=\"495\" y=\"0\" width=\"55\" height=\"55\" style=\"fill:#d53d69;stroke-width:2;stroke:rgb(255,255,255)\"/></svg>"
      ],
      "text/plain": [
       "[(0.310841115279521, 0.516974408539226, 0.221301273388138),\n",
       " (0.2730284524365729, 0.4363368326159542, 0.202520920183905),\n",
       " (0.23521578959362485, 0.3556992566926824, 0.18374056697967203),\n",
       " (0.19538008598613008, 0.2707474354615736, 0.16395543343868912),\n",
       " (0.15756742314318198, 0.19010985953830173, 0.14517508023445616),\n",
       " (0.24733091920022782, 0.14848811309789303, 0.17335566150315485),\n",
       " (0.3920683903797272, 0.17047019672579994, 0.23257200359528876),\n",
       " (0.5445495585733641, 0.1936283586281631, 0.2949565191238532),\n",
       " (0.6892870297528635, 0.21561044225607007, 0.3541728612159871),\n",
       " (0.8340245009323628, 0.237592525883977, 0.413389203308121)]"
      ]
     },
     "execution_count": 82,
     "metadata": {},
     "output_type": "execute_result"
    }
   ],
   "source": [
    "# 修改center\n",
    "sns.diverging_palette(\n",
    "    h_neg=120,\n",
    "    h_pos=0,\n",
    "    s=75,\n",
    "    l=50,\n",
    "    sep=1,\n",
    "    n=10,\n",
    "    center='dark',  # 修改center\n",
    "    as_cmap=False)"
   ]
  },
  {
   "cell_type": "code",
   "execution_count": 84,
   "id": "6d89decd-a20f-4776-ba40-d337c49f9ab8",
   "metadata": {},
   "outputs": [
    {
     "data": {
      "text/html": [
       "<svg  width=\"550\" height=\"55\"><rect x=\"0\" y=\"0\" width=\"55\" height=\"55\" style=\"fill:#9df976;stroke-width:2;stroke:rgb(255,255,255)\"/><rect x=\"55\" y=\"0\" width=\"55\" height=\"55\" style=\"fill:#82cb64;stroke-width:2;stroke:rgb(255,255,255)\"/><rect x=\"110\" y=\"0\" width=\"55\" height=\"55\" style=\"fill:#689c51;stroke-width:2;stroke:rgb(255,255,255)\"/><rect x=\"165\" y=\"0\" width=\"55\" height=\"55\" style=\"fill:#4b6b3e;stroke-width:2;stroke:rgb(255,255,255)\"/><rect x=\"220\" y=\"0\" width=\"55\" height=\"55\" style=\"fill:#303d2c;stroke-width:2;stroke:rgb(255,255,255)\"/><rect x=\"275\" y=\"0\" width=\"55\" height=\"55\" style=\"fill:#433739;stroke-width:2;stroke:rgb(255,255,255)\"/><rect x=\"330\" y=\"0\" width=\"55\" height=\"55\" style=\"fill:#705f62;stroke-width:2;stroke:rgb(255,255,255)\"/><rect x=\"385\" y=\"0\" width=\"55\" height=\"55\" style=\"fill:#9f8a8e;stroke-width:2;stroke:rgb(255,255,255)\"/><rect x=\"440\" y=\"0\" width=\"55\" height=\"55\" style=\"fill:#cbb3b7;stroke-width:2;stroke:rgb(255,255,255)\"/><rect x=\"495\" y=\"0\" width=\"55\" height=\"55\" style=\"fill:#f8dbe0;stroke-width:2;stroke:rgb(255,255,255)\"/></svg>"
      ],
      "text/plain": [
       "[(0.6161324059937047, 0.9768582854453837, 0.46382798549833043),\n",
       " (0.5110120004307555, 0.794830732696501, 0.39157735401072946),\n",
       " (0.4058915948678064, 0.6128031799476182, 0.3193267225231285),\n",
       " (0.2951470716244177, 0.42103684839304406, 0.24321056129564259),\n",
       " (0.19002666606146856, 0.23900929564416135, 0.1709599298080416),\n",
       " (0.26216559241468756, 0.2147381194422755, 0.22290908512682686),\n",
       " (0.4376514926782335, 0.37409109967362036, 0.38488239498013177),\n",
       " (0.6225261823880783, 0.5419697311213046, 0.5555215480712635),\n",
       " (0.7980120826516244, 0.7013227113526495, 0.7174948579245685),\n",
       " (0.9734979829151703, 0.8606756915839944, 0.8794681677778733)]"
      ]
     },
     "execution_count": 84,
     "metadata": {},
     "output_type": "execute_result"
    }
   ],
   "source": [
    "# 修改l\n",
    "sns.diverging_palette(\n",
    "    h_neg=120,\n",
    "    h_pos=0,\n",
    "    s=75,\n",
    "    l=90,  # 修改l\n",
    "    sep=1,\n",
    "    n=10,\n",
    "    center='dark',\n",
    "    as_cmap=False)"
   ]
  },
  {
   "cell_type": "markdown",
   "id": "498cbcf6-3be8-4238-85a5-872fc36a71f1",
   "metadata": {},
   "source": [
    "# #### 5.3.1.8 其它颜色构建函数\n",
    "\n",
    "# #### 5.3.1.9 color_palette"
   ]
  },
  {
   "cell_type": "code",
   "execution_count": 87,
   "id": "9d995861-fd1d-4427-91cc-05dc17e1f8ae",
   "metadata": {},
   "outputs": [
    {
     "data": {
      "text/html": [
       "<svg  width=\"550\" height=\"55\"><rect x=\"0\" y=\"0\" width=\"55\" height=\"55\" style=\"fill:#4c72b0;stroke-width:2;stroke:rgb(255,255,255)\"/><rect x=\"55\" y=\"0\" width=\"55\" height=\"55\" style=\"fill:#dd8452;stroke-width:2;stroke:rgb(255,255,255)\"/><rect x=\"110\" y=\"0\" width=\"55\" height=\"55\" style=\"fill:#55a868;stroke-width:2;stroke:rgb(255,255,255)\"/><rect x=\"165\" y=\"0\" width=\"55\" height=\"55\" style=\"fill:#c44e52;stroke-width:2;stroke:rgb(255,255,255)\"/><rect x=\"220\" y=\"0\" width=\"55\" height=\"55\" style=\"fill:#8172b3;stroke-width:2;stroke:rgb(255,255,255)\"/><rect x=\"275\" y=\"0\" width=\"55\" height=\"55\" style=\"fill:#937860;stroke-width:2;stroke:rgb(255,255,255)\"/><rect x=\"330\" y=\"0\" width=\"55\" height=\"55\" style=\"fill:#da8bc3;stroke-width:2;stroke:rgb(255,255,255)\"/><rect x=\"385\" y=\"0\" width=\"55\" height=\"55\" style=\"fill:#8c8c8c;stroke-width:2;stroke:rgb(255,255,255)\"/><rect x=\"440\" y=\"0\" width=\"55\" height=\"55\" style=\"fill:#ccb974;stroke-width:2;stroke:rgb(255,255,255)\"/><rect x=\"495\" y=\"0\" width=\"55\" height=\"55\" style=\"fill:#64b5cd;stroke-width:2;stroke:rgb(255,255,255)\"/></svg>"
      ],
      "text/plain": [
       "[(0.2980392156862745, 0.4470588235294118, 0.6901960784313725),\n",
       " (0.8666666666666667, 0.5176470588235295, 0.3215686274509804),\n",
       " (0.3333333333333333, 0.6588235294117647, 0.40784313725490196),\n",
       " (0.7686274509803922, 0.3058823529411765, 0.3215686274509804),\n",
       " (0.5058823529411764, 0.4470588235294118, 0.7019607843137254),\n",
       " (0.5764705882352941, 0.47058823529411764, 0.3764705882352941),\n",
       " (0.8549019607843137, 0.5450980392156862, 0.7647058823529411),\n",
       " (0.5490196078431373, 0.5490196078431373, 0.5490196078431373),\n",
       " (0.8, 0.7254901960784313, 0.4549019607843137),\n",
       " (0.39215686274509803, 0.7098039215686275, 0.803921568627451)]"
      ]
     },
     "execution_count": 87,
     "metadata": {},
     "output_type": "execute_result"
    }
   ],
   "source": [
    "import seaborn as sns\n",
    "\n",
    "sns.color_palette(\n",
    "    palette=None,  #palette名称\n",
    "    n_colors=None,  #colormap颜色数量\n",
    "    desat=None,  #每种颜色减少饱和度的比例\n",
    "    as_cmap=False)"
   ]
  },
  {
   "cell_type": "markdown",
   "id": "2debdda6-22d8-4eb2-80d2-13828744dc7a",
   "metadata": {},
   "source": [
    "# ##### 5.3.1.9.1 palette参数"
   ]
  },
  {
   "cell_type": "code",
   "execution_count": 90,
   "id": "5cc0751e-f78d-4669-becb-b446cc7839d7",
   "metadata": {},
   "outputs": [
    {
     "data": {
      "text/html": [
       "<svg  width=\"550\" height=\"55\"><rect x=\"0\" y=\"0\" width=\"55\" height=\"55\" style=\"fill:#001c7f;stroke-width:2;stroke:rgb(255,255,255)\"/><rect x=\"55\" y=\"0\" width=\"55\" height=\"55\" style=\"fill:#b1400d;stroke-width:2;stroke:rgb(255,255,255)\"/><rect x=\"110\" y=\"0\" width=\"55\" height=\"55\" style=\"fill:#12711c;stroke-width:2;stroke:rgb(255,255,255)\"/><rect x=\"165\" y=\"0\" width=\"55\" height=\"55\" style=\"fill:#8c0800;stroke-width:2;stroke:rgb(255,255,255)\"/><rect x=\"220\" y=\"0\" width=\"55\" height=\"55\" style=\"fill:#591e71;stroke-width:2;stroke:rgb(255,255,255)\"/><rect x=\"275\" y=\"0\" width=\"55\" height=\"55\" style=\"fill:#592f0d;stroke-width:2;stroke:rgb(255,255,255)\"/><rect x=\"330\" y=\"0\" width=\"55\" height=\"55\" style=\"fill:#a23582;stroke-width:2;stroke:rgb(255,255,255)\"/><rect x=\"385\" y=\"0\" width=\"55\" height=\"55\" style=\"fill:#3c3c3c;stroke-width:2;stroke:rgb(255,255,255)\"/><rect x=\"440\" y=\"0\" width=\"55\" height=\"55\" style=\"fill:#b8850a;stroke-width:2;stroke:rgb(255,255,255)\"/><rect x=\"495\" y=\"0\" width=\"55\" height=\"55\" style=\"fill:#006374;stroke-width:2;stroke:rgb(255,255,255)\"/></svg>"
      ],
      "text/plain": [
       "[(0.0, 0.10980392156862745, 0.4980392156862745),\n",
       " (0.6941176470588235, 0.25098039215686274, 0.050980392156862744),\n",
       " (0.07058823529411765, 0.44313725490196076, 0.10980392156862745),\n",
       " (0.5490196078431373, 0.03137254901960784, 0.0),\n",
       " (0.34901960784313724, 0.11764705882352941, 0.44313725490196076),\n",
       " (0.34901960784313724, 0.1843137254901961, 0.050980392156862744),\n",
       " (0.6352941176470588, 0.20784313725490197, 0.5098039215686274),\n",
       " (0.23529411764705882, 0.23529411764705882, 0.23529411764705882),\n",
       " (0.7215686274509804, 0.5215686274509804, 0.0392156862745098),\n",
       " (0.0, 0.38823529411764707, 0.4549019607843137)]"
      ]
     },
     "execution_count": 90,
     "metadata": {},
     "output_type": "execute_result"
    }
   ],
   "source": [
    "import seaborn as sns\n",
    "sns.color_palette(palette='dark')"
   ]
  },
  {
   "cell_type": "code",
   "execution_count": 92,
   "id": "22c08c8d-1072-4b33-af93-9a025e1cc336",
   "metadata": {},
   "outputs": [
    {
     "data": {
      "text/html": [
       "<svg  width=\"550\" height=\"55\"><rect x=\"0\" y=\"0\" width=\"55\" height=\"55\" style=\"fill:#a1c9f4;stroke-width:2;stroke:rgb(255,255,255)\"/><rect x=\"55\" y=\"0\" width=\"55\" height=\"55\" style=\"fill:#ffb482;stroke-width:2;stroke:rgb(255,255,255)\"/><rect x=\"110\" y=\"0\" width=\"55\" height=\"55\" style=\"fill:#8de5a1;stroke-width:2;stroke:rgb(255,255,255)\"/><rect x=\"165\" y=\"0\" width=\"55\" height=\"55\" style=\"fill:#ff9f9b;stroke-width:2;stroke:rgb(255,255,255)\"/><rect x=\"220\" y=\"0\" width=\"55\" height=\"55\" style=\"fill:#d0bbff;stroke-width:2;stroke:rgb(255,255,255)\"/><rect x=\"275\" y=\"0\" width=\"55\" height=\"55\" style=\"fill:#debb9b;stroke-width:2;stroke:rgb(255,255,255)\"/><rect x=\"330\" y=\"0\" width=\"55\" height=\"55\" style=\"fill:#fab0e4;stroke-width:2;stroke:rgb(255,255,255)\"/><rect x=\"385\" y=\"0\" width=\"55\" height=\"55\" style=\"fill:#cfcfcf;stroke-width:2;stroke:rgb(255,255,255)\"/><rect x=\"440\" y=\"0\" width=\"55\" height=\"55\" style=\"fill:#fffea3;stroke-width:2;stroke:rgb(255,255,255)\"/><rect x=\"495\" y=\"0\" width=\"55\" height=\"55\" style=\"fill:#b9f2f0;stroke-width:2;stroke:rgb(255,255,255)\"/></svg>"
      ],
      "text/plain": [
       "[(0.6313725490196078, 0.788235294117647, 0.9568627450980393),\n",
       " (1.0, 0.7058823529411765, 0.5098039215686274),\n",
       " (0.5529411764705883, 0.8980392156862745, 0.6313725490196078),\n",
       " (1.0, 0.6235294117647059, 0.6078431372549019),\n",
       " (0.8156862745098039, 0.7333333333333333, 1.0),\n",
       " (0.8705882352941177, 0.7333333333333333, 0.6078431372549019),\n",
       " (0.9803921568627451, 0.6901960784313725, 0.8941176470588236),\n",
       " (0.8117647058823529, 0.8117647058823529, 0.8117647058823529),\n",
       " (1.0, 0.996078431372549, 0.6392156862745098),\n",
       " (0.7254901960784313, 0.9490196078431372, 0.9411764705882353)]"
      ]
     },
     "execution_count": 92,
     "metadata": {},
     "output_type": "execute_result"
    }
   ],
   "source": [
    "sns.color_palette(palette='pastel')\n"
   ]
  },
  {
   "cell_type": "code",
   "execution_count": 94,
   "id": "f51080f2-4e6d-439b-9900-5053057d0b58",
   "metadata": {},
   "outputs": [
    {
     "data": {
      "text/html": [
       "<svg  width=\"440\" height=\"55\"><rect x=\"0\" y=\"0\" width=\"55\" height=\"55\" style=\"fill:#7fc97f;stroke-width:2;stroke:rgb(255,255,255)\"/><rect x=\"55\" y=\"0\" width=\"55\" height=\"55\" style=\"fill:#beaed4;stroke-width:2;stroke:rgb(255,255,255)\"/><rect x=\"110\" y=\"0\" width=\"55\" height=\"55\" style=\"fill:#fdc086;stroke-width:2;stroke:rgb(255,255,255)\"/><rect x=\"165\" y=\"0\" width=\"55\" height=\"55\" style=\"fill:#ffff99;stroke-width:2;stroke:rgb(255,255,255)\"/><rect x=\"220\" y=\"0\" width=\"55\" height=\"55\" style=\"fill:#386cb0;stroke-width:2;stroke:rgb(255,255,255)\"/><rect x=\"275\" y=\"0\" width=\"55\" height=\"55\" style=\"fill:#f0027f;stroke-width:2;stroke:rgb(255,255,255)\"/><rect x=\"330\" y=\"0\" width=\"55\" height=\"55\" style=\"fill:#bf5b17;stroke-width:2;stroke:rgb(255,255,255)\"/><rect x=\"385\" y=\"0\" width=\"55\" height=\"55\" style=\"fill:#666666;stroke-width:2;stroke:rgb(255,255,255)\"/></svg>"
      ],
      "text/plain": [
       "[(0.4980392156862745, 0.788235294117647, 0.4980392156862745),\n",
       " (0.7450980392156863, 0.6823529411764706, 0.8313725490196079),\n",
       " (0.9921568627450981, 0.7529411764705882, 0.5254901960784314),\n",
       " (1.0, 1.0, 0.6),\n",
       " (0.2196078431372549, 0.4235294117647059, 0.6901960784313725),\n",
       " (0.9411764705882353, 0.00784313725490196, 0.4980392156862745),\n",
       " (0.7490196078431373, 0.3568627450980392, 0.09019607843137253),\n",
       " (0.4, 0.4, 0.4)]"
      ]
     },
     "execution_count": 94,
     "metadata": {},
     "output_type": "execute_result"
    }
   ],
   "source": [
    "# 使用matplotlib Accent\n",
    "sns.color_palette(palette='Accent')"
   ]
  },
  {
   "cell_type": "code",
   "execution_count": 96,
   "id": "2302ff85-3b15-4e31-ae1f-5debb6c8ec4b",
   "metadata": {},
   "outputs": [
    {
     "data": {
      "text/html": [
       "<svg  width=\"330\" height=\"55\"><rect x=\"0\" y=\"0\" width=\"55\" height=\"55\" style=\"fill:#dbe9f6;stroke-width:2;stroke:rgb(255,255,255)\"/><rect x=\"55\" y=\"0\" width=\"55\" height=\"55\" style=\"fill:#bad6eb;stroke-width:2;stroke:rgb(255,255,255)\"/><rect x=\"110\" y=\"0\" width=\"55\" height=\"55\" style=\"fill:#89bedc;stroke-width:2;stroke:rgb(255,255,255)\"/><rect x=\"165\" y=\"0\" width=\"55\" height=\"55\" style=\"fill:#539ecd;stroke-width:2;stroke:rgb(255,255,255)\"/><rect x=\"220\" y=\"0\" width=\"55\" height=\"55\" style=\"fill:#2b7bba;stroke-width:2;stroke:rgb(255,255,255)\"/><rect x=\"275\" y=\"0\" width=\"55\" height=\"55\" style=\"fill:#0b559f;stroke-width:2;stroke:rgb(255,255,255)\"/></svg>"
      ],
      "text/plain": [
       "[(0.8584083044982699, 0.9134486735870818, 0.9645674740484429),\n",
       " (0.7309496347558632, 0.8394771241830065, 0.9213225682429834),\n",
       " (0.5356862745098039, 0.746082276047674, 0.8642522106881968),\n",
       " (0.32628988850442137, 0.6186236063052672, 0.802798923490965),\n",
       " (0.16696655132641292, 0.48069204152249134, 0.7291503267973857),\n",
       " (0.044059976931949255, 0.3338869665513264, 0.6244521337946944)]"
      ]
     },
     "execution_count": 96,
     "metadata": {},
     "output_type": "execute_result"
    }
   ],
   "source": [
    "# 使用matplotlib Blues\n",
    "sns.color_palette(palette='Blues')"
   ]
  },
  {
   "cell_type": "code",
   "execution_count": 98,
   "id": "bcbce04a-1e46-4944-8dc5-77120a7971b0",
   "metadata": {},
   "outputs": [
    {
     "data": {
      "text/html": [
       "<svg  width=\"660\" height=\"55\"><rect x=\"0\" y=\"0\" width=\"55\" height=\"55\" style=\"fill:#8dd3c7;stroke-width:2;stroke:rgb(255,255,255)\"/><rect x=\"55\" y=\"0\" width=\"55\" height=\"55\" style=\"fill:#ffffb3;stroke-width:2;stroke:rgb(255,255,255)\"/><rect x=\"110\" y=\"0\" width=\"55\" height=\"55\" style=\"fill:#bebada;stroke-width:2;stroke:rgb(255,255,255)\"/><rect x=\"165\" y=\"0\" width=\"55\" height=\"55\" style=\"fill:#fb8072;stroke-width:2;stroke:rgb(255,255,255)\"/><rect x=\"220\" y=\"0\" width=\"55\" height=\"55\" style=\"fill:#80b1d3;stroke-width:2;stroke:rgb(255,255,255)\"/><rect x=\"275\" y=\"0\" width=\"55\" height=\"55\" style=\"fill:#fdb462;stroke-width:2;stroke:rgb(255,255,255)\"/><rect x=\"330\" y=\"0\" width=\"55\" height=\"55\" style=\"fill:#b3de69;stroke-width:2;stroke:rgb(255,255,255)\"/><rect x=\"385\" y=\"0\" width=\"55\" height=\"55\" style=\"fill:#fccde5;stroke-width:2;stroke:rgb(255,255,255)\"/><rect x=\"440\" y=\"0\" width=\"55\" height=\"55\" style=\"fill:#d9d9d9;stroke-width:2;stroke:rgb(255,255,255)\"/><rect x=\"495\" y=\"0\" width=\"55\" height=\"55\" style=\"fill:#bc80bd;stroke-width:2;stroke:rgb(255,255,255)\"/><rect x=\"550\" y=\"0\" width=\"55\" height=\"55\" style=\"fill:#ccebc5;stroke-width:2;stroke:rgb(255,255,255)\"/><rect x=\"605\" y=\"0\" width=\"55\" height=\"55\" style=\"fill:#ffed6f;stroke-width:2;stroke:rgb(255,255,255)\"/></svg>"
      ],
      "text/plain": [
       "[(0.5529411764705883, 0.8274509803921568, 0.7803921568627451),\n",
       " (1.0, 1.0, 0.7019607843137254),\n",
       " (0.7450980392156863, 0.7294117647058823, 0.8549019607843137),\n",
       " (0.984313725490196, 0.5019607843137255, 0.4470588235294118),\n",
       " (0.5019607843137255, 0.6941176470588235, 0.8274509803921568),\n",
       " (0.9921568627450981, 0.7058823529411765, 0.3843137254901961),\n",
       " (0.7019607843137254, 0.8705882352941177, 0.4117647058823529),\n",
       " (0.9882352941176471, 0.803921568627451, 0.8980392156862745),\n",
       " (0.8509803921568627, 0.8509803921568627, 0.8509803921568627),\n",
       " (0.7372549019607844, 0.5019607843137255, 0.7411764705882353),\n",
       " (0.8, 0.9215686274509803, 0.7725490196078432),\n",
       " (1.0, 0.9294117647058824, 0.43529411764705883)]"
      ]
     },
     "execution_count": 98,
     "metadata": {},
     "output_type": "execute_result"
    }
   ],
   "source": [
    "# 使用matplotlib Set3\n",
    "sns.color_palette(palette='Set3')"
   ]
  },
  {
   "cell_type": "code",
   "execution_count": 100,
   "id": "c8b3e6cd-ab5c-4f09-b998-4be1d2d5f1ac",
   "metadata": {},
   "outputs": [
    {
     "data": {
      "text/html": [
       "<svg  width=\"550\" height=\"55\"><rect x=\"0\" y=\"0\" width=\"55\" height=\"55\" style=\"fill:#db5f57;stroke-width:2;stroke:rgb(255,255,255)\"/><rect x=\"55\" y=\"0\" width=\"55\" height=\"55\" style=\"fill:#dbae57;stroke-width:2;stroke:rgb(255,255,255)\"/><rect x=\"110\" y=\"0\" width=\"55\" height=\"55\" style=\"fill:#b9db57;stroke-width:2;stroke:rgb(255,255,255)\"/><rect x=\"165\" y=\"0\" width=\"55\" height=\"55\" style=\"fill:#69db57;stroke-width:2;stroke:rgb(255,255,255)\"/><rect x=\"220\" y=\"0\" width=\"55\" height=\"55\" style=\"fill:#57db94;stroke-width:2;stroke:rgb(255,255,255)\"/><rect x=\"275\" y=\"0\" width=\"55\" height=\"55\" style=\"fill:#57d3db;stroke-width:2;stroke:rgb(255,255,255)\"/><rect x=\"330\" y=\"0\" width=\"55\" height=\"55\" style=\"fill:#5784db;stroke-width:2;stroke:rgb(255,255,255)\"/><rect x=\"385\" y=\"0\" width=\"55\" height=\"55\" style=\"fill:#7957db;stroke-width:2;stroke:rgb(255,255,255)\"/><rect x=\"440\" y=\"0\" width=\"55\" height=\"55\" style=\"fill:#c957db;stroke-width:2;stroke:rgb(255,255,255)\"/><rect x=\"495\" y=\"0\" width=\"55\" height=\"55\" style=\"fill:#db579e;stroke-width:2;stroke:rgb(255,255,255)\"/></svg>"
      ],
      "text/plain": [
       "[(0.86, 0.3712, 0.33999999999999997),\n",
       " (0.86, 0.6832, 0.33999999999999997),\n",
       " (0.7247999999999999, 0.86, 0.33999999999999997),\n",
       " (0.41279999999999994, 0.86, 0.33999999999999997),\n",
       " (0.33999999999999997, 0.86, 0.5792000000000002),\n",
       " (0.33999999999999997, 0.8287999999999999, 0.86),\n",
       " (0.33999999999999997, 0.5167999999999995, 0.86),\n",
       " (0.4752000000000003, 0.33999999999999997, 0.86),\n",
       " (0.7871999999999999, 0.33999999999999997, 0.86),\n",
       " (0.86, 0.33999999999999997, 0.6207999999999999)]"
      ]
     },
     "execution_count": 100,
     "metadata": {},
     "output_type": "execute_result"
    }
   ],
   "source": [
    "# 使用'hls'调色盘\n",
    "sns.color_palette(palette='hls',n_colors=10)"
   ]
  },
  {
   "cell_type": "code",
   "execution_count": 102,
   "id": "63b159bf-296b-4823-9518-227d7efd36a4",
   "metadata": {},
   "outputs": [
    {
     "data": {
      "text/html": [
       "<svg  width=\"550\" height=\"55\"><rect x=\"0\" y=\"0\" width=\"55\" height=\"55\" style=\"fill:#f77189;stroke-width:2;stroke:rgb(255,255,255)\"/><rect x=\"55\" y=\"0\" width=\"55\" height=\"55\" style=\"fill:#dc8932;stroke-width:2;stroke:rgb(255,255,255)\"/><rect x=\"110\" y=\"0\" width=\"55\" height=\"55\" style=\"fill:#ae9d31;stroke-width:2;stroke:rgb(255,255,255)\"/><rect x=\"165\" y=\"0\" width=\"55\" height=\"55\" style=\"fill:#77ab31;stroke-width:2;stroke:rgb(255,255,255)\"/><rect x=\"220\" y=\"0\" width=\"55\" height=\"55\" style=\"fill:#33b07a;stroke-width:2;stroke:rgb(255,255,255)\"/><rect x=\"275\" y=\"0\" width=\"55\" height=\"55\" style=\"fill:#36ada4;stroke-width:2;stroke:rgb(255,255,255)\"/><rect x=\"330\" y=\"0\" width=\"55\" height=\"55\" style=\"fill:#38a9c5;stroke-width:2;stroke:rgb(255,255,255)\"/><rect x=\"385\" y=\"0\" width=\"55\" height=\"55\" style=\"fill:#6e9bf4;stroke-width:2;stroke:rgb(255,255,255)\"/><rect x=\"440\" y=\"0\" width=\"55\" height=\"55\" style=\"fill:#cc7af4;stroke-width:2;stroke:rgb(255,255,255)\"/><rect x=\"495\" y=\"0\" width=\"55\" height=\"55\" style=\"fill:#f565cc;stroke-width:2;stroke:rgb(255,255,255)\"/></svg>"
      ],
      "text/plain": [
       "[(0.9677975592919913, 0.44127456009157356, 0.5358103155058701),\n",
       " (0.8616090647292522, 0.536495730113334, 0.19548899031476086),\n",
       " (0.6804189127793346, 0.6151497514677574, 0.19405452111445337),\n",
       " (0.46810256823426105, 0.6699492535792404, 0.1928958739904499),\n",
       " (0.20125317221201128, 0.6907920815379026, 0.47966761189275336),\n",
       " (0.21044753832183283, 0.6773105080456748, 0.6433941168468681),\n",
       " (0.2197995660828324, 0.6625157876850336, 0.7732093159317209),\n",
       " (0.433280341176423, 0.6065273407962815, 0.9585467098271748),\n",
       " (0.8004936186423958, 0.47703363533737203, 0.9579547196007522),\n",
       " (0.9622723935096688, 0.3976451968965351, 0.8008274363432775)]"
      ]
     },
     "execution_count": 102,
     "metadata": {},
     "output_type": "execute_result"
    }
   ],
   "source": [
    "# 使用'husl'调色盘\n",
    "sns.color_palette(palette='husl',n_colors=10)"
   ]
  },
  {
   "cell_type": "code",
   "execution_count": 104,
   "id": "e69afe63-9736-4244-9f8f-119e9fe3d618",
   "metadata": {},
   "outputs": [
    {
     "data": {
      "text/html": [
       "<svg  width=\"330\" height=\"55\"><rect x=\"0\" y=\"0\" width=\"55\" height=\"55\" style=\"fill:#c4e1e6;stroke-width:2;stroke:rgb(255,255,255)\"/><rect x=\"55\" y=\"0\" width=\"55\" height=\"55\" style=\"fill:#98bed2;stroke-width:2;stroke:rgb(255,255,255)\"/><rect x=\"110\" y=\"0\" width=\"55\" height=\"55\" style=\"fill:#7597ba;stroke-width:2;stroke:rgb(255,255,255)\"/><rect x=\"165\" y=\"0\" width=\"55\" height=\"55\" style=\"fill:#5b6f9c;stroke-width:2;stroke:rgb(255,255,255)\"/><rect x=\"220\" y=\"0\" width=\"55\" height=\"55\" style=\"fill:#424773;stroke-width:2;stroke:rgb(255,255,255)\"/><rect x=\"275\" y=\"0\" width=\"55\" height=\"55\" style=\"fill:#26213f;stroke-width:2;stroke:rgb(255,255,255)\"/></svg>"
      ],
      "text/plain": [
       "[(0.7698736219801169, 0.8824964869076034, 0.9031393192296783),\n",
       " (0.5958277847697188, 0.7466600001760163, 0.8229648794489529),\n",
       " (0.4607044852795941, 0.5932960229716936, 0.730649456041278),\n",
       " (0.35556204295569305, 0.43618710942955025, 0.6123052379682231),\n",
       " (0.25733291425658, 0.27690284066475196, 0.4511235980087324),\n",
       " (0.14873948341555188, 0.13056341212058453, 0.24877648177992634)]"
      ]
     },
     "execution_count": 104,
     "metadata": {},
     "output_type": "execute_result"
    }
   ],
   "source": [
    "sns.color_palette(palette=\"ch:s=.15,rot=-.25\", as_cmap=False)\n"
   ]
  },
  {
   "cell_type": "code",
   "execution_count": 106,
   "id": "940d3691-5110-4a4c-96e0-5b4ac1ae70b9",
   "metadata": {},
   "outputs": [
    {
     "data": {
      "text/html": [
       "<svg  width=\"330\" height=\"55\"><rect x=\"0\" y=\"0\" width=\"55\" height=\"55\" style=\"fill:#f3f0f0;stroke-width:2;stroke:rgb(255,255,255)\"/><rect x=\"55\" y=\"0\" width=\"55\" height=\"55\" style=\"fill:#f5c0c0;stroke-width:2;stroke:rgb(255,255,255)\"/><rect x=\"110\" y=\"0\" width=\"55\" height=\"55\" style=\"fill:#f89090;stroke-width:2;stroke:rgb(255,255,255)\"/><rect x=\"165\" y=\"0\" width=\"55\" height=\"55\" style=\"fill:#fa6060;stroke-width:2;stroke:rgb(255,255,255)\"/><rect x=\"220\" y=\"0\" width=\"55\" height=\"55\" style=\"fill:#fd3030;stroke-width:2;stroke:rgb(255,255,255)\"/><rect x=\"275\" y=\"0\" width=\"55\" height=\"55\" style=\"fill:#ff0000;stroke-width:2;stroke:rgb(255,255,255)\"/></svg>"
      ],
      "text/plain": [
       "[(0.9522635075378764, 0.9411073728435433, 0.940983659029102),\n",
       " (0.9618108060303011, 0.7528858982748347, 0.7527869272232816),\n",
       " (0.9713581045227259, 0.564664423706126, 0.5645901954174611),\n",
       " (0.9809054030151505, 0.3764429491374174, 0.37639346361164083),\n",
       " (0.9904527015075753, 0.18822147456870864, 0.1881967318058203),\n",
       " (1.0, 0.0, 0.0)]"
      ]
     },
     "execution_count": 106,
     "metadata": {},
     "output_type": "execute_result"
    }
   ],
   "source": [
    "# 使用'light:<color>'\n",
    "sns.color_palette(palette=\"light:red\", as_cmap=False)"
   ]
  },
  {
   "cell_type": "code",
   "execution_count": 108,
   "id": "1891a504-2fd1-45d6-8268-67cbc611682a",
   "metadata": {},
   "outputs": [
    {
     "data": {
      "text/html": [
       "<svg  width=\"330\" height=\"55\"><rect x=\"0\" y=\"0\" width=\"55\" height=\"55\" style=\"fill:#312222;stroke-width:2;stroke:rgb(255,255,255)\"/><rect x=\"55\" y=\"0\" width=\"55\" height=\"55\" style=\"fill:#5a1b1b;stroke-width:2;stroke:rgb(255,255,255)\"/><rect x=\"110\" y=\"0\" width=\"55\" height=\"55\" style=\"fill:#831414;stroke-width:2;stroke:rgb(255,255,255)\"/><rect x=\"165\" y=\"0\" width=\"55\" height=\"55\" style=\"fill:#ad0e0e;stroke-width:2;stroke:rgb(255,255,255)\"/><rect x=\"220\" y=\"0\" width=\"55\" height=\"55\" style=\"fill:#d60707;stroke-width:2;stroke:rgb(255,255,255)\"/><rect x=\"275\" y=\"0\" width=\"55\" height=\"55\" style=\"fill:#ff0000;stroke-width:2;stroke:rgb(255,255,255)\"/></svg>"
      ],
      "text/plain": [
       "[(0.19218232522148992, 0.13308584448917626, 0.13306098410197983),\n",
       " (0.35374586017719195, 0.10646867559134102, 0.10644878728158387),\n",
       " (0.515309395132894, 0.07985150669350576, 0.0798365904611879),\n",
       " (0.676872930088596, 0.05323433779567051, 0.05322439364079194),\n",
       " (0.838436465044298, 0.026617168897835247, 0.026612196820395964),\n",
       " (1.0, 0.0, 0.0)]"
      ]
     },
     "execution_count": 108,
     "metadata": {},
     "output_type": "execute_result"
    }
   ],
   "source": [
    "# 使用'dark:<color>'\n",
    "sns.color_palette(palette=\"dark:red\", as_cmap=False)"
   ]
  },
  {
   "cell_type": "code",
   "execution_count": 110,
   "id": "bd90e73a-774b-41c9-a60f-de234e86fc81",
   "metadata": {},
   "outputs": [
    {
     "data": {
      "text/html": [
       "<svg  width=\"330\" height=\"55\"><rect x=\"0\" y=\"0\" width=\"55\" height=\"55\" style=\"fill:#01a2d9;stroke-width:2;stroke:rgb(255,255,255)\"/><rect x=\"55\" y=\"0\" width=\"55\" height=\"55\" style=\"fill:#298bb6;stroke-width:2;stroke:rgb(255,255,255)\"/><rect x=\"110\" y=\"0\" width=\"55\" height=\"55\" style=\"fill:#507493;stroke-width:2;stroke:rgb(255,255,255)\"/><rect x=\"165\" y=\"0\" width=\"55\" height=\"55\" style=\"fill:#785c6f;stroke-width:2;stroke:rgb(255,255,255)\"/><rect x=\"220\" y=\"0\" width=\"55\" height=\"55\" style=\"fill:#9f454c;stroke-width:2;stroke:rgb(255,255,255)\"/><rect x=\"275\" y=\"0\" width=\"55\" height=\"55\" style=\"fill:#c72e29;stroke-width:2;stroke:rgb(255,255,255)\"/></svg>"
      ],
      "text/plain": [
       "[(0.00392156862745098, 0.6352941176470588, 0.8509803921568627),\n",
       " (0.15921568627450983, 0.5443137254901961, 0.7129411764705882),\n",
       " (0.31450980392156863, 0.4533333333333333, 0.5749019607843138),\n",
       " (0.46980392156862744, 0.3623529411764706, 0.4368627450980392),\n",
       " (0.6250980392156863, 0.27137254901960783, 0.2988235294117647),\n",
       " (0.7803921568627451, 0.1803921568627451, 0.1607843137254902)]"
      ]
     },
     "execution_count": 110,
     "metadata": {},
     "output_type": "execute_result"
    }
   ],
   "source": [
    "# 使用'blend:<color>,<color>'\n",
    "sns.color_palette(palette=\"blend:#01a2d9,#c72e29\", as_cmap=False)\n"
   ]
  },
  {
   "cell_type": "code",
   "execution_count": 112,
   "id": "beda370c-20a7-4cb6-be9f-9dd2aca71b10",
   "metadata": {},
   "outputs": [
    {
     "data": {
      "text/html": [
       "<svg  width=\"220\" height=\"55\"><rect x=\"0\" y=\"0\" width=\"55\" height=\"55\" style=\"fill:#01a2d9;stroke-width:2;stroke:rgb(255,255,255)\"/><rect x=\"55\" y=\"0\" width=\"55\" height=\"55\" style=\"fill:#c72e29;stroke-width:2;stroke:rgb(255,255,255)\"/><rect x=\"110\" y=\"0\" width=\"55\" height=\"55\" style=\"fill:#31a354;stroke-width:2;stroke:rgb(255,255,255)\"/><rect x=\"165\" y=\"0\" width=\"55\" height=\"55\" style=\"fill:#fb882c;stroke-width:2;stroke:rgb(255,255,255)\"/></svg>"
      ],
      "text/plain": [
       "[(0.00392156862745098, 0.6352941176470588, 0.8509803921568627),\n",
       " (0.7803921568627451, 0.1803921568627451, 0.1607843137254902),\n",
       " (0.19215686274509805, 0.6392156862745098, 0.32941176470588235),\n",
       " (0.984313725490196, 0.5333333333333333, 0.17254901960784313)]"
      ]
     },
     "execution_count": 112,
     "metadata": {},
     "output_type": "execute_result"
    }
   ],
   "source": [
    "# 传入色号作为调色盘\n",
    "sns.color_palette(palette=['#01a2d9', '#c72e29', '#31A354', '#FB882C'],\n",
    "                  as_cmap=False)"
   ]
  },
  {
   "cell_type": "markdown",
   "id": "630134ba-5c2f-4de5-ae2c-fb0c0f3adccf",
   "metadata": {},
   "source": [
    "# ##### 5.3.1.9.2 n_colors参数"
   ]
  },
  {
   "cell_type": "code",
   "execution_count": 115,
   "id": "8f21f178-f0e1-4edd-85a5-d40efb3bae7a",
   "metadata": {},
   "outputs": [
    {
     "data": {
      "text/html": [
       "<svg  width=\"440\" height=\"55\"><rect x=\"0\" y=\"0\" width=\"55\" height=\"55\" style=\"fill:#7fc97f;stroke-width:2;stroke:rgb(255,255,255)\"/><rect x=\"55\" y=\"0\" width=\"55\" height=\"55\" style=\"fill:#beaed4;stroke-width:2;stroke:rgb(255,255,255)\"/><rect x=\"110\" y=\"0\" width=\"55\" height=\"55\" style=\"fill:#fdc086;stroke-width:2;stroke:rgb(255,255,255)\"/><rect x=\"165\" y=\"0\" width=\"55\" height=\"55\" style=\"fill:#ffff99;stroke-width:2;stroke:rgb(255,255,255)\"/><rect x=\"220\" y=\"0\" width=\"55\" height=\"55\" style=\"fill:#386cb0;stroke-width:2;stroke:rgb(255,255,255)\"/><rect x=\"275\" y=\"0\" width=\"55\" height=\"55\" style=\"fill:#f0027f;stroke-width:2;stroke:rgb(255,255,255)\"/><rect x=\"330\" y=\"0\" width=\"55\" height=\"55\" style=\"fill:#bf5b17;stroke-width:2;stroke:rgb(255,255,255)\"/><rect x=\"385\" y=\"0\" width=\"55\" height=\"55\" style=\"fill:#666666;stroke-width:2;stroke:rgb(255,255,255)\"/></svg>"
      ],
      "text/plain": [
       "[(0.4980392156862745, 0.788235294117647, 0.4980392156862745),\n",
       " (0.7450980392156863, 0.6823529411764706, 0.8313725490196079),\n",
       " (0.9921568627450981, 0.7529411764705882, 0.5254901960784314),\n",
       " (1.0, 1.0, 0.6),\n",
       " (0.2196078431372549, 0.4235294117647059, 0.6901960784313725),\n",
       " (0.9411764705882353, 0.00784313725490196, 0.4980392156862745),\n",
       " (0.7490196078431373, 0.3568627450980392, 0.09019607843137253),\n",
       " (0.4, 0.4, 0.4)]"
      ]
     },
     "execution_count": 115,
     "metadata": {},
     "output_type": "execute_result"
    }
   ],
   "source": [
    "# n_colors=None\n",
    "sns.color_palette(palette='Accent')"
   ]
  },
  {
   "cell_type": "code",
   "execution_count": 117,
   "id": "c8e79a37-d441-4556-b525-640f43b894e5",
   "metadata": {},
   "outputs": [
    {
     "data": {
      "text/html": [
       "<svg  width=\"330\" height=\"55\"><rect x=\"0\" y=\"0\" width=\"55\" height=\"55\" style=\"fill:#7fc97f;stroke-width:2;stroke:rgb(255,255,255)\"/><rect x=\"55\" y=\"0\" width=\"55\" height=\"55\" style=\"fill:#beaed4;stroke-width:2;stroke:rgb(255,255,255)\"/><rect x=\"110\" y=\"0\" width=\"55\" height=\"55\" style=\"fill:#fdc086;stroke-width:2;stroke:rgb(255,255,255)\"/><rect x=\"165\" y=\"0\" width=\"55\" height=\"55\" style=\"fill:#ffff99;stroke-width:2;stroke:rgb(255,255,255)\"/><rect x=\"220\" y=\"0\" width=\"55\" height=\"55\" style=\"fill:#386cb0;stroke-width:2;stroke:rgb(255,255,255)\"/><rect x=\"275\" y=\"0\" width=\"55\" height=\"55\" style=\"fill:#f0027f;stroke-width:2;stroke:rgb(255,255,255)\"/></svg>"
      ],
      "text/plain": [
       "[(0.4980392156862745, 0.788235294117647, 0.4980392156862745),\n",
       " (0.7450980392156863, 0.6823529411764706, 0.8313725490196079),\n",
       " (0.9921568627450981, 0.7529411764705882, 0.5254901960784314),\n",
       " (1.0, 1.0, 0.6),\n",
       " (0.2196078431372549, 0.4235294117647059, 0.6901960784313725),\n",
       " (0.9411764705882353, 0.00784313725490196, 0.4980392156862745)]"
      ]
     },
     "execution_count": 117,
     "metadata": {},
     "output_type": "execute_result"
    }
   ],
   "source": [
    "# n_colors<palette_n_colors\n",
    "sns.color_palette(palette='Accent', n_colors=6)"
   ]
  },
  {
   "cell_type": "code",
   "execution_count": 119,
   "id": "c39fecff-2630-46d4-9250-60025363dd08",
   "metadata": {},
   "outputs": [
    {
     "data": {
      "text/html": [
       "<svg  width=\"605\" height=\"55\"><rect x=\"0\" y=\"0\" width=\"55\" height=\"55\" style=\"fill:#7fc97f;stroke-width:2;stroke:rgb(255,255,255)\"/><rect x=\"55\" y=\"0\" width=\"55\" height=\"55\" style=\"fill:#beaed4;stroke-width:2;stroke:rgb(255,255,255)\"/><rect x=\"110\" y=\"0\" width=\"55\" height=\"55\" style=\"fill:#fdc086;stroke-width:2;stroke:rgb(255,255,255)\"/><rect x=\"165\" y=\"0\" width=\"55\" height=\"55\" style=\"fill:#ffff99;stroke-width:2;stroke:rgb(255,255,255)\"/><rect x=\"220\" y=\"0\" width=\"55\" height=\"55\" style=\"fill:#386cb0;stroke-width:2;stroke:rgb(255,255,255)\"/><rect x=\"275\" y=\"0\" width=\"55\" height=\"55\" style=\"fill:#f0027f;stroke-width:2;stroke:rgb(255,255,255)\"/><rect x=\"330\" y=\"0\" width=\"55\" height=\"55\" style=\"fill:#bf5b17;stroke-width:2;stroke:rgb(255,255,255)\"/><rect x=\"385\" y=\"0\" width=\"55\" height=\"55\" style=\"fill:#666666;stroke-width:2;stroke:rgb(255,255,255)\"/><rect x=\"440\" y=\"0\" width=\"55\" height=\"55\" style=\"fill:#7fc97f;stroke-width:2;stroke:rgb(255,255,255)\"/><rect x=\"495\" y=\"0\" width=\"55\" height=\"55\" style=\"fill:#beaed4;stroke-width:2;stroke:rgb(255,255,255)\"/><rect x=\"550\" y=\"0\" width=\"55\" height=\"55\" style=\"fill:#fdc086;stroke-width:2;stroke:rgb(255,255,255)\"/></svg>"
      ],
      "text/plain": [
       "[(0.4980392156862745, 0.788235294117647, 0.4980392156862745),\n",
       " (0.7450980392156863, 0.6823529411764706, 0.8313725490196079),\n",
       " (0.9921568627450981, 0.7529411764705882, 0.5254901960784314),\n",
       " (1.0, 1.0, 0.6),\n",
       " (0.2196078431372549, 0.4235294117647059, 0.6901960784313725),\n",
       " (0.9411764705882353, 0.00784313725490196, 0.4980392156862745),\n",
       " (0.7490196078431373, 0.3568627450980392, 0.09019607843137253),\n",
       " (0.4, 0.4, 0.4),\n",
       " (0.4980392156862745, 0.788235294117647, 0.4980392156862745),\n",
       " (0.7450980392156863, 0.6823529411764706, 0.8313725490196079),\n",
       " (0.9921568627450981, 0.7529411764705882, 0.5254901960784314)]"
      ]
     },
     "execution_count": 119,
     "metadata": {},
     "output_type": "execute_result"
    }
   ],
   "source": [
    "# n_colors>palette_n_colors\n",
    "sns.color_palette(palette='Accent', n_colors=11)"
   ]
  },
  {
   "cell_type": "markdown",
   "id": "4ab65462-d92e-425d-bb61-db748e811de1",
   "metadata": {},
   "source": [
    "# ### 5.3.2 交互式选色器\n",
    "\n",
    "# #### 5.3.2.1 choose_colorbrewer_palette"
   ]
  },
  {
   "cell_type": "code",
   "execution_count": 122,
   "id": "a48f0f3a-070d-4f28-b580-b62c0606b9c5",
   "metadata": {},
   "outputs": [
    {
     "data": {
      "application/vnd.jupyter.widget-view+json": {
       "model_id": "2886c33595cd48a9a2987fbbde674d59",
       "version_major": 2,
       "version_minor": 0
      },
      "text/plain": [
       "interactive(children=(Dropdown(description='name', options=('Greys', 'Reds', 'Greens', 'Blues', 'Oranges', 'Pu…"
      ]
     },
     "metadata": {},
     "output_type": "display_data"
    },
    {
     "data": {
      "text/plain": [
       "[(0.9575547866205305, 0.9575547866205305, 0.9575547866205305),\n",
       " (0.9012072279892349, 0.9012072279892349, 0.9012072279892349),\n",
       " (0.8328950403690888, 0.8328950403690888, 0.8328950403690888),\n",
       " (0.7502191464821223, 0.7502191464821223, 0.7502191464821223),\n",
       " (0.6434140715109573, 0.6434140715109573, 0.6434140715109573),\n",
       " (0.5387158785082661, 0.5387158785082661, 0.5387158785082661),\n",
       " (0.440322952710496, 0.440322952710496, 0.440322952710496),\n",
       " (0.342883506343714, 0.342883506343714, 0.342883506343714),\n",
       " (0.22329873125720878, 0.22329873125720878, 0.22329873125720878),\n",
       " (0.10469819300269129, 0.10469819300269129, 0.10469819300269129)]"
      ]
     },
     "execution_count": 122,
     "metadata": {},
     "output_type": "execute_result"
    }
   ],
   "source": [
    "import seaborn as sns\n",
    "\n",
    "sns.choose_colorbrewer_palette(\n",
    "    data_type='sequential')  #sequential"
   ]
  },
  {
   "cell_type": "code",
   "execution_count": 124,
   "id": "1caa5198-723f-4a37-b228-e1db6bcb4842",
   "metadata": {},
   "outputs": [
    {
     "data": {
      "application/vnd.jupyter.widget-view+json": {
       "model_id": "794cb57170c64dd5a8fb9f1c41f35d27",
       "version_major": 2,
       "version_minor": 0
      },
      "text/plain": [
       "interactive(children=(Dropdown(description='name', options=('RdBu', 'RdGy', 'PRGn', 'PiYG', 'BrBG', 'RdYlBu', …"
      ]
     },
     "metadata": {},
     "output_type": "display_data"
    },
    {
     "data": {
      "text/plain": [
       "[(0.6922722029988466, 0.09227220299884659, 0.1677047289504037),\n",
       " (0.8392156862745098, 0.3764705882352941, 0.30196078431372547),\n",
       " (0.954555940023068, 0.641753171856978, 0.5057285659361782),\n",
       " (0.9921568627450981, 0.8588235294117647, 0.7803921568627451),\n",
       " (0.9657054978854287, 0.9672433679354094, 0.9680891964628989),\n",
       " (0.8196078431372551, 0.8980392156862746, 0.9411764705882353),\n",
       " (0.5664744329104193, 0.7687043444828915, 0.8685121107266437),\n",
       " (0.2627450980392157, 0.5764705882352941, 0.7647058823529411),\n",
       " (0.12725874663590928, 0.3958477508650519, 0.6687427912341407)]"
      ]
     },
     "execution_count": 124,
     "metadata": {},
     "output_type": "execute_result"
    }
   ],
   "source": [
    "sns.choose_colorbrewer_palette(\n",
    "    data_type='diverging')  #diverging"
   ]
  },
  {
   "cell_type": "code",
   "execution_count": 126,
   "id": "14393dbb-a00b-4173-83a0-e5b330748c15",
   "metadata": {},
   "outputs": [
    {
     "data": {
      "application/vnd.jupyter.widget-view+json": {
       "model_id": "dcbb60f19049454e934071f8687fbaf2",
       "version_major": 2,
       "version_minor": 0
      },
      "text/plain": [
       "interactive(children=(Dropdown(description='name', options=('Set1', 'Set2', 'Set3', 'Paired', 'Accent', 'Paste…"
      ]
     },
     "metadata": {},
     "output_type": "display_data"
    },
    {
     "data": {
      "text/plain": [
       "[(0.8941176470588236, 0.10196078431372549, 0.10980392156862745),\n",
       " (0.21568627450980393, 0.49411764705882355, 0.7215686274509804),\n",
       " (0.30196078431372547, 0.6862745098039216, 0.2901960784313726),\n",
       " (0.596078431372549, 0.3058823529411765, 0.6392156862745098),\n",
       " (1.0, 0.4980392156862745, 0.0),\n",
       " (1.0, 1.0, 0.2),\n",
       " (0.6509803921568628, 0.33725490196078434, 0.1568627450980392),\n",
       " (0.9686274509803922, 0.5058823529411764, 0.7490196078431373),\n",
       " (0.6, 0.6, 0.6)]"
      ]
     },
     "execution_count": 126,
     "metadata": {},
     "output_type": "execute_result"
    }
   ],
   "source": [
    "sns.choose_colorbrewer_palette(\n",
    "    data_type='qualitative') #qualitative"
   ]
  },
  {
   "cell_type": "code",
   "execution_count": 128,
   "id": "066eea53-a202-4eb4-9f74-7d28b5e4ebb1",
   "metadata": {},
   "outputs": [
    {
     "data": {
      "application/vnd.jupyter.widget-view+json": {
       "model_id": "b7becdb838fe42529f003b2a416bbd83",
       "version_major": 2,
       "version_minor": 0
      },
      "text/plain": [
       "interactive(children=(IntSlider(value=9, description='n_colors', max=16, min=2), FloatSlider(value=0.0, descri…"
      ]
     },
     "metadata": {},
     "output_type": "display_data"
    },
    {
     "data": {
      "text/plain": [
       "[[0.9312692223325372, 0.8201921796082118, 0.7971480974663592],\n",
       " [0.8888663743660877, 0.7106793139856472, 0.7158661451411206],\n",
       " [0.8314793143949643, 0.5987041921652179, 0.6530062709235388],\n",
       " [0.7588951019517731, 0.49817117746394224, 0.6058723814510268],\n",
       " [0.6672565752652589, 0.40671838146419587, 0.5620016466433286],\n",
       " [0.5529215689527474, 0.3217924564263954, 0.5093718054521851],\n",
       " [0.43082755198027817, 0.24984535814964698, 0.44393960899639856],\n",
       " [0.29794615023641036, 0.18145907625614888, 0.35317781405034754],\n",
       " [0.1750865648952205, 0.11840023306916837, 0.24215989137836502]]"
      ]
     },
     "execution_count": 128,
     "metadata": {},
     "output_type": "execute_result"
    }
   ],
   "source": [
    "sns.choose_cubehelix_palette(as_cmap=False)"
   ]
  },
  {
   "cell_type": "code",
   "execution_count": 130,
   "id": "da6e581f-232c-4f5d-a364-f1a78e05b726",
   "metadata": {},
   "outputs": [
    {
     "data": {
      "application/vnd.jupyter.widget-view+json": {
       "model_id": "fbb381800c154166b07f3f8e79e51b12",
       "version_major": 2,
       "version_minor": 0
      },
      "text/plain": [
       "interactive(children=(IntSlider(value=179, description='h', max=359), IntSlider(value=49, description='s', max…"
      ]
     },
     "metadata": {},
     "output_type": "display_data"
    },
    {
     "data": {
      "text/plain": [
       "[(0.14135330736111973, 0.14951274600325057, 0.148143671709451),\n",
       " (0.16219560832714158, 0.18641978556477623, 0.18281574337590484),\n",
       " (0.18303790929316346, 0.22332682512630186, 0.21748781504235867),\n",
       " (0.20462457815082896, 0.2615519732435963, 0.2533981749826144),\n",
       " (0.22546687911685082, 0.29845901280512194, 0.2880702466490683),\n",
       " (0.24705354797451634, 0.3366841609224164, 0.32398060658932404),\n",
       " (0.2678958489405382, 0.373591200483942, 0.35865267825577785),\n",
       " (0.28948251779820366, 0.4118163486012364, 0.39456303819603367),\n",
       " (0.3103248187642256, 0.448723388162762, 0.4292351098624875),\n",
       " (0.33116711973024743, 0.4856304277242877, 0.46390718152894134)]"
      ]
     },
     "execution_count": 130,
     "metadata": {},
     "output_type": "execute_result"
    }
   ],
   "source": [
    "sns.choose_dark_palette(as_cmap=False)"
   ]
  },
  {
   "cell_type": "code",
   "execution_count": 132,
   "id": "3c880d68-e38d-4a54-ae2e-d52144ff672b",
   "metadata": {},
   "outputs": [
    {
     "ename": "NameError",
     "evalue": "name 'data_type' is not defined",
     "output_type": "error",
     "traceback": [
      "\u001b[1;31m---------------------------------------------------------------------------\u001b[0m",
      "\u001b[1;31mNameError\u001b[0m                                 Traceback (most recent call last)",
      "Cell \u001b[1;32mIn[132], line 4\u001b[0m\n\u001b[0;32m      1\u001b[0m \u001b[38;5;28;01mimport\u001b[39;00m \u001b[38;5;21;01mseaborn\u001b[39;00m \u001b[38;5;28;01mas\u001b[39;00m \u001b[38;5;21;01msns\u001b[39;00m\n\u001b[0;32m      3\u001b[0m sns\u001b[38;5;241m.\u001b[39mchoose_colorbrewer_palette(\n\u001b[1;32m----> 4\u001b[0m     data_type,  \u001b[38;5;66;03m# data_type有‘sequential’, ‘diverging’, ‘qualitative’三种可选\u001b[39;00m\n\u001b[0;32m      5\u001b[0m     as_cmap\u001b[38;5;241m=\u001b[39m\u001b[38;5;28;01mFalse\u001b[39;00m)\n",
      "\u001b[1;31mNameError\u001b[0m: name 'data_type' is not defined"
     ]
    }
   ],
   "source": [
    "import seaborn as sns\n",
    "\n",
    "sns.choose_colorbrewer_palette(\n",
    "    data_type,  # data_type有‘sequential’, ‘diverging’, ‘qualitative’三种可选\n",
    "    as_cmap=False)"
   ]
  },
  {
   "cell_type": "code",
   "execution_count": 134,
   "id": "e51654c8-35f6-439f-b451-67aee20fc8c3",
   "metadata": {},
   "outputs": [
    {
     "data": {
      "text/html": [
       "<svg  width=\"550\" height=\"55\"><rect x=\"0\" y=\"0\" width=\"55\" height=\"55\" style=\"fill:#ebf3ed;stroke-width:2;stroke:rgb(255,255,255)\"/><rect x=\"55\" y=\"0\" width=\"55\" height=\"55\" style=\"fill:#d6e7dd;stroke-width:2;stroke:rgb(255,255,255)\"/><rect x=\"110\" y=\"0\" width=\"55\" height=\"55\" style=\"fill:#c1dccc;stroke-width:2;stroke:rgb(255,255,255)\"/><rect x=\"165\" y=\"0\" width=\"55\" height=\"55\" style=\"fill:#acd0bb;stroke-width:2;stroke:rgb(255,255,255)\"/><rect x=\"220\" y=\"0\" width=\"55\" height=\"55\" style=\"fill:#97c5ab;stroke-width:2;stroke:rgb(255,255,255)\"/><rect x=\"275\" y=\"0\" width=\"55\" height=\"55\" style=\"fill:#82b99a;stroke-width:2;stroke:rgb(255,255,255)\"/><rect x=\"330\" y=\"0\" width=\"55\" height=\"55\" style=\"fill:#6dae89;stroke-width:2;stroke:rgb(255,255,255)\"/><rect x=\"385\" y=\"0\" width=\"55\" height=\"55\" style=\"fill:#57a278;stroke-width:2;stroke:rgb(255,255,255)\"/><rect x=\"440\" y=\"0\" width=\"55\" height=\"55\" style=\"fill:#439667;stroke-width:2;stroke:rgb(255,255,255)\"/><rect x=\"495\" y=\"0\" width=\"55\" height=\"55\" style=\"fill:#2e8b57;stroke-width:2;stroke:rgb(255,255,255)\"/></svg>"
      ],
      "text/plain": [
       "[(0.921460863132993, 0.9512120106378944, 0.9302557793948234),\n",
       " (0.8400886130327305, 0.9066191039719265, 0.8655725611729235),\n",
       " (0.758716362932468, 0.8620261973059585, 0.8008893429510237),\n",
       " (0.6744379610429104, 0.8158406868304917, 0.7338960097926274),\n",
       " (0.5930657109426478, 0.7712477801645237, 0.6692127915707275),\n",
       " (0.5087873090530903, 0.725062269689057, 0.6022194584123313),\n",
       " (0.4274150589528278, 0.6804693630230889, 0.5375362401904313),\n",
       " (0.3431366570632701, 0.6342838525476222, 0.47054290703203505),\n",
       " (0.2617644069630076, 0.5896909458816542, 0.40585968881013523),\n",
       " (0.1803921568627451, 0.5450980392156862, 0.3411764705882353)]"
      ]
     },
     "execution_count": 134,
     "metadata": {},
     "output_type": "execute_result"
    }
   ],
   "source": [
    "sns.light_palette(\"seagreen\", as_cmap=False, n_colors=10)"
   ]
  },
  {
   "cell_type": "code",
   "execution_count": 136,
   "id": "3652cffa-6109-417f-8023-82ad611b64b5",
   "metadata": {},
   "outputs": [
    {
     "data": {
      "text/html": [
       "<svg  width=\"550\" height=\"55\"><rect x=\"0\" y=\"0\" width=\"55\" height=\"55\" style=\"fill:#a6cee3;stroke-width:2;stroke:rgb(255,255,255)\"/><rect x=\"55\" y=\"0\" width=\"55\" height=\"55\" style=\"fill:#1f78b4;stroke-width:2;stroke:rgb(255,255,255)\"/><rect x=\"110\" y=\"0\" width=\"55\" height=\"55\" style=\"fill:#b2df8a;stroke-width:2;stroke:rgb(255,255,255)\"/><rect x=\"165\" y=\"0\" width=\"55\" height=\"55\" style=\"fill:#33a02c;stroke-width:2;stroke:rgb(255,255,255)\"/><rect x=\"220\" y=\"0\" width=\"55\" height=\"55\" style=\"fill:#fb9a99;stroke-width:2;stroke:rgb(255,255,255)\"/><rect x=\"275\" y=\"0\" width=\"55\" height=\"55\" style=\"fill:#e31a1c;stroke-width:2;stroke:rgb(255,255,255)\"/><rect x=\"330\" y=\"0\" width=\"55\" height=\"55\" style=\"fill:#fdbf6f;stroke-width:2;stroke:rgb(255,255,255)\"/><rect x=\"385\" y=\"0\" width=\"55\" height=\"55\" style=\"fill:#ff7f00;stroke-width:2;stroke:rgb(255,255,255)\"/><rect x=\"440\" y=\"0\" width=\"55\" height=\"55\" style=\"fill:#cab2d6;stroke-width:2;stroke:rgb(255,255,255)\"/><rect x=\"495\" y=\"0\" width=\"55\" height=\"55\" style=\"fill:#6a3d9a;stroke-width:2;stroke:rgb(255,255,255)\"/></svg>"
      ],
      "text/plain": [
       "[(0.6509803921568628, 0.807843137254902, 0.8901960784313725),\n",
       " (0.12156862745098039, 0.47058823529411764, 0.7058823529411765),\n",
       " (0.6980392156862745, 0.8745098039215686, 0.5411764705882353),\n",
       " (0.2, 0.6274509803921569, 0.17254901960784313),\n",
       " (0.984313725490196, 0.6039215686274509, 0.6),\n",
       " (0.8901960784313725, 0.10196078431372549, 0.10980392156862745),\n",
       " (0.9921568627450981, 0.7490196078431373, 0.43529411764705883),\n",
       " (1.0, 0.4980392156862745, 0.0),\n",
       " (0.792156862745098, 0.6980392156862745, 0.8392156862745098),\n",
       " (0.41568627450980394, 0.23921568627450981, 0.6039215686274509)]"
      ]
     },
     "execution_count": 136,
     "metadata": {},
     "output_type": "execute_result"
    }
   ],
   "source": [
    "sns.color_palette(\"Paired\",n_colors=10)"
   ]
  },
  {
   "cell_type": "code",
   "execution_count": 138,
   "id": "aecf22ce-8c89-42c1-95e2-7bc461bd2864",
   "metadata": {},
   "outputs": [
    {
     "data": {
      "text/html": [
       "<svg  width=\"550\" height=\"55\"><rect x=\"0\" y=\"0\" width=\"55\" height=\"55\" style=\"fill:#fbb4ae;stroke-width:2;stroke:rgb(255,255,255)\"/><rect x=\"55\" y=\"0\" width=\"55\" height=\"55\" style=\"fill:#b3cde3;stroke-width:2;stroke:rgb(255,255,255)\"/><rect x=\"110\" y=\"0\" width=\"55\" height=\"55\" style=\"fill:#ccebc5;stroke-width:2;stroke:rgb(255,255,255)\"/><rect x=\"165\" y=\"0\" width=\"55\" height=\"55\" style=\"fill:#decbe4;stroke-width:2;stroke:rgb(255,255,255)\"/><rect x=\"220\" y=\"0\" width=\"55\" height=\"55\" style=\"fill:#fed9a6;stroke-width:2;stroke:rgb(255,255,255)\"/><rect x=\"275\" y=\"0\" width=\"55\" height=\"55\" style=\"fill:#ffffcc;stroke-width:2;stroke:rgb(255,255,255)\"/><rect x=\"330\" y=\"0\" width=\"55\" height=\"55\" style=\"fill:#e5d8bd;stroke-width:2;stroke:rgb(255,255,255)\"/><rect x=\"385\" y=\"0\" width=\"55\" height=\"55\" style=\"fill:#fddaec;stroke-width:2;stroke:rgb(255,255,255)\"/><rect x=\"440\" y=\"0\" width=\"55\" height=\"55\" style=\"fill:#f2f2f2;stroke-width:2;stroke:rgb(255,255,255)\"/><rect x=\"495\" y=\"0\" width=\"55\" height=\"55\" style=\"fill:#fbb4ae;stroke-width:2;stroke:rgb(255,255,255)\"/></svg>"
      ],
      "text/plain": [
       "[(0.984313725490196, 0.7058823529411765, 0.6823529411764706),\n",
       " (0.7019607843137254, 0.803921568627451, 0.8901960784313725),\n",
       " (0.8, 0.9215686274509803, 0.7725490196078432),\n",
       " (0.8705882352941177, 0.796078431372549, 0.8941176470588236),\n",
       " (0.996078431372549, 0.8509803921568627, 0.6509803921568628),\n",
       " (1.0, 1.0, 0.8),\n",
       " (0.8980392156862745, 0.8470588235294118, 0.7411764705882353),\n",
       " (0.9921568627450981, 0.8549019607843137, 0.9254901960784314),\n",
       " (0.9490196078431372, 0.9490196078431372, 0.9490196078431372),\n",
       " (0.984313725490196, 0.7058823529411765, 0.6823529411764706)]"
      ]
     },
     "execution_count": 138,
     "metadata": {},
     "output_type": "execute_result"
    }
   ],
   "source": [
    "sns.color_palette(\"Pastel1\",n_colors=10)"
   ]
  },
  {
   "cell_type": "markdown",
   "id": "be6402de-b8f3-4ace-b101-5f78f74a770c",
   "metadata": {},
   "source": [
    "# #### 5.3.3.1 绘图函数中palette设置"
   ]
  },
  {
   "cell_type": "code",
   "execution_count": 143,
   "id": "ad4dfc7a-467e-4d76-bfc6-fc68d6af1578",
   "metadata": {},
   "outputs": [
    {
     "data": {
      "text/html": [
       "<div>\n",
       "<style scoped>\n",
       "    .dataframe tbody tr th:only-of-type {\n",
       "        vertical-align: middle;\n",
       "    }\n",
       "\n",
       "    .dataframe tbody tr th {\n",
       "        vertical-align: top;\n",
       "    }\n",
       "\n",
       "    .dataframe thead th {\n",
       "        text-align: right;\n",
       "    }\n",
       "</style>\n",
       "<table border=\"1\" class=\"dataframe\">\n",
       "  <thead>\n",
       "    <tr style=\"text-align: right;\">\n",
       "      <th></th>\n",
       "      <th>Group 1</th>\n",
       "      <th>Group 2</th>\n",
       "      <th>Group 3</th>\n",
       "      <th>Group 4</th>\n",
       "    </tr>\n",
       "  </thead>\n",
       "  <tbody>\n",
       "    <tr>\n",
       "      <th>0</th>\n",
       "      <td>-0.105625</td>\n",
       "      <td>2.318498</td>\n",
       "      <td>4.186132</td>\n",
       "      <td>4.270443</td>\n",
       "    </tr>\n",
       "    <tr>\n",
       "      <th>1</th>\n",
       "      <td>3.006051</td>\n",
       "      <td>1.226548</td>\n",
       "      <td>2.757624</td>\n",
       "      <td>4.472515</td>\n",
       "    </tr>\n",
       "    <tr>\n",
       "      <th>2</th>\n",
       "      <td>0.929806</td>\n",
       "      <td>2.313784</td>\n",
       "      <td>2.283417</td>\n",
       "      <td>3.493073</td>\n",
       "    </tr>\n",
       "    <tr>\n",
       "      <th>3</th>\n",
       "      <td>2.199137</td>\n",
       "      <td>0.977989</td>\n",
       "      <td>4.387780</td>\n",
       "      <td>4.465214</td>\n",
       "    </tr>\n",
       "    <tr>\n",
       "      <th>4</th>\n",
       "      <td>0.922152</td>\n",
       "      <td>2.184912</td>\n",
       "      <td>3.189110</td>\n",
       "      <td>1.555874</td>\n",
       "    </tr>\n",
       "    <tr>\n",
       "      <th>...</th>\n",
       "      <td>...</td>\n",
       "      <td>...</td>\n",
       "      <td>...</td>\n",
       "      <td>...</td>\n",
       "    </tr>\n",
       "    <tr>\n",
       "      <th>95</th>\n",
       "      <td>-0.860828</td>\n",
       "      <td>2.587428</td>\n",
       "      <td>2.917880</td>\n",
       "      <td>5.820404</td>\n",
       "    </tr>\n",
       "    <tr>\n",
       "      <th>96</th>\n",
       "      <td>2.131553</td>\n",
       "      <td>2.011906</td>\n",
       "      <td>3.113019</td>\n",
       "      <td>4.169153</td>\n",
       "    </tr>\n",
       "    <tr>\n",
       "      <th>97</th>\n",
       "      <td>-0.003762</td>\n",
       "      <td>2.442496</td>\n",
       "      <td>2.469013</td>\n",
       "      <td>4.673744</td>\n",
       "    </tr>\n",
       "    <tr>\n",
       "      <th>98</th>\n",
       "      <td>0.721903</td>\n",
       "      <td>0.581050</td>\n",
       "      <td>3.921007</td>\n",
       "      <td>3.509532</td>\n",
       "    </tr>\n",
       "    <tr>\n",
       "      <th>99</th>\n",
       "      <td>2.543929</td>\n",
       "      <td>2.996503</td>\n",
       "      <td>4.355449</td>\n",
       "      <td>4.717336</td>\n",
       "    </tr>\n",
       "  </tbody>\n",
       "</table>\n",
       "<p>100 rows × 4 columns</p>\n",
       "</div>"
      ],
      "text/plain": [
       "     Group 1   Group 2   Group 3   Group 4\n",
       "0  -0.105625  2.318498  4.186132  4.270443\n",
       "1   3.006051  1.226548  2.757624  4.472515\n",
       "2   0.929806  2.313784  2.283417  3.493073\n",
       "3   2.199137  0.977989  4.387780  4.465214\n",
       "4   0.922152  2.184912  3.189110  1.555874\n",
       "..       ...       ...       ...       ...\n",
       "95 -0.860828  2.587428  2.917880  5.820404\n",
       "96  2.131553  2.011906  3.113019  4.169153\n",
       "97 -0.003762  2.442496  2.469013  4.673744\n",
       "98  0.721903  0.581050  3.921007  3.509532\n",
       "99  2.543929  2.996503  4.355449  4.717336\n",
       "\n",
       "[100 rows x 4 columns]"
      ]
     },
     "execution_count": 143,
     "metadata": {},
     "output_type": "execute_result"
    },
    {
     "data": {
      "image/png": "[encoded data removed]",
      "text/plain": [
       "<Figure size 1000x800 with 4 Axes>"
      ]
     },
     "metadata": {},
     "output_type": "display_data"
    }
   ],
   "source": [
    "import seaborn as sns\n",
    "import matplotlib.pyplot as plt\n",
    "import numpy as np\n",
    "import pandas as pd\n",
    "\n",
    "fig, axs = plt.subplots(2, 2, figsize=(10, 8))\n",
    "\n",
    "data = {f'Group {i}': np.random.normal(i, 1, 100) for i in range(1, 5)}\n",
    "df = pd.DataFrame(data)"
   ]
  },
  {
   "cell_type": "code",
   "execution_count": 145,
   "id": "c13139a9-443c-4f43-a971-4481407d293b",
   "metadata": {},
   "outputs": [
    {
     "name": "stderr",
     "output_type": "stream",
     "text": [
      "C:\\Users\\qinqi\\AppData\\Local\\Temp\\ipykernel_14100\\1398762727.py:10: UserWarning: The palette list has more values (6) than needed (4), which may not be intended.\n",
      "  sns.boxplot(data=df, palette=palette, ax=ax)  #boxplot绘图函数中palette设置不同调色盘\n"
     ]
    },
    {
     "data": {
      "text/plain": [
       "<Figure size 640x480 with 0 Axes>"
      ]
     },
     "metadata": {},
     "output_type": "display_data"
    }
   ],
   "source": [
    "# 设置不同的调色板\n",
    "palettes = [\n",
    "    \"bright\",  #使用章节5.3.1.9 color_palette方法\n",
    "    [\"#efefef\", \"#e9f3ea\", \"#d4dee7\", \"#f8f2e4\"],  #直接传入颜色\n",
    "    \"Blues_r\",  #使用章节5.3.1.4 mpl_palette中的调色盘\n",
    "    sns.light_palette(\"red\").as_hex()  #使用章节5.3.1.3 light_palette方法\n",
    "]\n",
    "\n",
    "for ax, palette in zip(axs.flatten(), palettes):\n",
    "    sns.boxplot(data=df, palette=palette, ax=ax)  #boxplot绘图函数中palette设置不同调色盘\n",
    "    ax.set_title(f'Palette=: {palette}')\n",
    "\n",
    "plt.tight_layout()\n",
    "plt.show()"
   ]
  },
  {
   "cell_type": "markdown",
   "id": "360d85cd-5785-4b95-b616-f7a355f0914a",
   "metadata": {},
   "source": [
    "# #### 5.3.3.2 set_palette设置颜色"
   ]
  },
  {
   "cell_type": "code",
   "execution_count": 148,
   "id": "b1d7d343-a1d0-47a8-87ce-d52d15b3ec4c",
   "metadata": {},
   "outputs": [],
   "source": [
    "import warnings\n",
    "\n",
    "warnings.filterwarnings(\"ignore\", \"is_categorical_dtype\")\n",
    "warnings.filterwarnings(\"ignore\", \"use_inf_as_na\")\n",
    "warnings.simplefilter('always', category=UserWarning)\n",
    "\n",
    "import seaborn as sns\n",
    "import matplotlib.pyplot as plt\n",
    "import numpy as np"
   ]
  },
  {
   "cell_type": "code",
   "execution_count": 150,
   "id": "7120a383-73c6-4931-9773-03c72c9f65a7",
   "metadata": {},
   "outputs": [
    {
     "data": {
      "image/png": "[encoded data removed]",
      "text/plain": [
       "<Figure size 1000x800 with 4 Axes>"
      ]
     },
     "metadata": {},
     "output_type": "display_data"
    }
   ],
   "source": [
    "# 生成模拟数据\n",
    "data = {f'Group {i}': np.random.normal(i, 1, 100) for i in range(1, 5)}\n",
    "df = pd.DataFrame(data)\n",
    "\n",
    "fig, axs = plt.subplots(2, 2, figsize=(10, 8))"
   ]
  },
  {
   "cell_type": "code",
   "execution_count": 152,
   "id": "1717ad06-73fd-4899-8bd5-653d29e35a6a",
   "metadata": {},
   "outputs": [
    {
     "data": {
      "text/plain": [
       "['bright',\n",
       " ['#efefef', '#e9f3ea', '#d4dee7', '#f8f2e4'],\n",
       " 'Blues_r',\n",
       " ['#f3f0f0', '#f5c0c0', '#f89090', '#fa6060', '#fd3030', '#ff0000']]"
      ]
     },
     "execution_count": 152,
     "metadata": {},
     "output_type": "execute_result"
    }
   ],
   "source": [
    "palettes = [\n",
    "    \"bright\",  #使用章节5.3.1.9 color_palette方法\n",
    "    [\"#efefef\", \"#e9f3ea\", \"#d4dee7\", \"#f8f2e4\"],  #直接传入颜色\n",
    "    \"Blues_r\",  #使用章节5.3.1.4 mpl_palette中的调色盘\n",
    "    sns.light_palette(\"red\").as_hex()  #使用章节5.3.1.3 light_palette方法\n",
    "]"
   ]
  },
  {
   "cell_type": "code",
   "execution_count": 154,
   "id": "360eb421-6da6-4b22-88a8-3f29ce15fb7c",
   "metadata": {},
   "outputs": [
    {
     "data": {
      "text/plain": [
       "<Figure size 640x480 with 0 Axes>"
      ]
     },
     "metadata": {},
     "output_type": "display_data"
    }
   ],
   "source": [
    "# 绘制四个子图的箱线图，并设置不同的调色板\n",
    "for ax, palette in zip(axs.flatten(), palettes):\n",
    "    sns.set_palette(palette)  #set_palette设置不同的调色板\n",
    "    sns.boxplot(data=df, ax=ax)\n",
    "    ax.set_title(f'Palette: {palette}')\n",
    "\n",
    "plt.tight_layout()\n",
    "plt.show()"
   ]
  },
  {
   "cell_type": "code",
   "execution_count": 156,
   "id": "e4b83e8e-c270-47e7-8871-d7c84864811f",
   "metadata": {},
   "outputs": [
    {
     "data": {
      "image/png": "[encoded data removed]",
      "text/plain": [
       "<Figure size 1000x800 with 4 Axes>"
      ]
     },
     "metadata": {},
     "output_type": "display_data"
    }
   ],
   "source": [
    "import warnings\n",
    "\n",
    "warnings.filterwarnings(\"ignore\", \"is_categorical_dtype\")\n",
    "warnings.filterwarnings(\"ignore\", \"use_inf_as_na\")\n",
    "warnings.simplefilter('always', category=UserWarning)\n",
    "\n",
    "import seaborn as sns\n",
    "import matplotlib.pyplot as plt\n",
    "import numpy as np\n",
    "\n",
    "# 生成模拟数据\n",
    "data = {f'Group {i}': np.random.normal(i, 1, 100) for i in range(1, 5)}\n",
    "df = pd.DataFrame(data)\n",
    "\n",
    "fig, axs = plt.subplots(2, 2, figsize=(10, 8))\n",
    "\n",
    "# 定义不同的调色板\n",
    "palettes = [\n",
    "    \"bright\",  #使用章节5.3.1.9 color_palette方法\n",
    "    [\"#efefef\", \"#e9f3ea\", \"#d4dee7\", \"#f8f2e4\"],  #直接传入颜色\n",
    "    \"Blues_r\",  #使用章节5.3.1.4 mpl_palette中的调色盘\n",
    "    sns.light_palette(\"red\").as_hex()  #使用章节5.3.1.3 light_palette方法\n",
    "]\n",
    "\n",
    "# 绘制四个子图的箱线图，并设置不同的调色板\n",
    "for ax, palette in zip(axs.flatten(), palettes):\n",
    "    sns.set_palette(palette)  #set_palette设置不同的调色板\n",
    "    sns.boxplot(data=df, ax=ax)\n",
    "    ax.set_title(f'Palette: {palette}')\n",
    "\n",
    "plt.tight_layout()\n",
    "plt.show()"
   ]
  },
  {
   "cell_type": "markdown",
   "id": "09669608-8d90-46a3-84ee-77d2942affba",
   "metadata": {},
   "source": [
    "# ## 5.4 theme联合美化"
   ]
  },
  {
   "cell_type": "code",
   "execution_count": 159,
   "id": "612d7c09-e84b-4749-8389-134e31a12196",
   "metadata": {},
   "outputs": [],
   "source": [
    "import seaborn as sns\n",
    "\n",
    "sns.set_theme(\n",
    "    context='notebook',  #效果同章节5.1.2 set_context设置context内容\n",
    "    style='darkgrid',  #效果同章节5.2.2 set_style()设置style内容\n",
    "    palette='deep',  #效果同章节5.3 palette设置图形配色\n",
    "    font='sans-serif',  #设置\n",
    "    font_scale=1,  #设置文字缩放\n",
    "    color_codes=\n",
    "    True,  #如果为True，并且调色板是一个seaborn的调色板，则重新映射简写的颜色代码（例如：“b”、“g”、“r”等）为该调色板中的颜色\n",
    "    rc=None)  # 自定于matplotlib rcParams中任意参数"
   ]
  },
  {
   "cell_type": "markdown",
   "id": "f6bbc1aa-e5db-4b5f-ab83-2487668aa31f",
   "metadata": {},
   "source": [
    "# ### 5.4.1 不使用set_theme"
   ]
  },
  {
   "cell_type": "code",
   "execution_count": 164,
   "id": "e6bd1ef6-a285-4db1-8b90-bc77516f7802",
   "metadata": {},
   "outputs": [
    {
     "data": {
      "image/png": "[encoded data removed]",
      "text/plain": [
       "<Figure size 640x480 with 1 Axes>"
      ]
     },
     "metadata": {},
     "output_type": "display_data"
    }
   ],
   "source": [
    "import matplotlib.pyplot as plt\n",
    "import numpy as np\n",
    "import matplotlib as mpl\n",
    "\n",
    "mpl.rc_file_defaults()  #取消以上修改的默认参数\n",
    "\n",
    "# 模拟数据\n",
    "np.random.seed(42)\n",
    "data = {f'Group {i}': np.random.normal(i, 1, 100) for i in range(1, 5)}\n",
    "df = pd.DataFrame(data)\n",
    "## 绘图\n",
    "plt.boxplot(df.values)\n",
    "plt.title('Matplotlib Default Parameters')\n",
    "plt.show()"
   ]
  },
  {
   "cell_type": "code",
   "execution_count": 166,
   "id": "4c018a91-80ce-426f-8e54-4bd4949dc0ef",
   "metadata": {},
   "outputs": [
    {
     "data": {
      "image/png": "[encoded data removed]",
      "text/plain": [
       "<Figure size 640x480 with 1 Axes>"
      ]
     },
     "metadata": {},
     "output_type": "display_data"
    }
   ],
   "source": [
    "# set_theme默认参数绘图\n",
    "\n",
    "# In[47]:\n",
    "\n",
    "import seaborn as sns\n",
    "import matplotlib.pyplot as plt\n",
    "import numpy as np\n",
    "\n",
    "# 模拟数据\n",
    "np.random.seed(42)\n",
    "data = {f'Group {i}': np.random.normal(i, 1, 100) for i in range(1, 5)}\n",
    "df = pd.DataFrame(data)\n",
    "\n",
    "## 绘图\n",
    "sns.boxplot(data=df).set_title('Seaborn Default Parameters')\n",
    "plt.show()"
   ]
  },
  {
   "cell_type": "code",
   "execution_count": 168,
   "id": "5e8a9b69-5d95-4b0a-92b5-b2f67507df75",
   "metadata": {},
   "outputs": [
    {
     "data": {
      "image/png": "[encoded data removed]",
      "text/plain": [
       "<Figure size 640x480 with 1 Axes>"
      ]
     },
     "metadata": {},
     "output_type": "display_data"
    }
   ],
   "source": [
    "import seaborn as sns\n",
    "import matplotlib.pyplot as plt\n",
    "import numpy as np\n",
    "\n",
    "# 模拟数据\n",
    "np.random.seed(42)\n",
    "data = {f'Group {i}': np.random.normal(i, 1, 100) for i in range(1, 5)}\n",
    "df = pd.DataFrame(data)\n",
    "\n",
    "#\n",
    "sns.set_theme()  #使用set_theme默认配置\n",
    "\n",
    "## 绘图\n",
    "sns.boxplot(data=df).set_title('Theme: set_theme()')\n",
    "plt.show()"
   ]
  },
  {
   "cell_type": "markdown",
   "id": "bc357a52-d576-4e16-b226-c48fc03a3306",
   "metadata": {},
   "source": [
    "# ### 5.4.2 set_theme设置context"
   ]
  },
  {
   "cell_type": "code",
   "execution_count": 171,
   "id": "507d4c61-f8de-4166-be77-528934b565f7",
   "metadata": {},
   "outputs": [
    {
     "data": {
      "image/png": "[encoded data removed]",
      "text/plain": [
       "<Figure size 640x480 with 1 Axes>"
      ]
     },
     "metadata": {},
     "output_type": "display_data"
    }
   ],
   "source": [
    "import seaborn as sns\n",
    "import matplotlib.pyplot as plt\n",
    "import numpy as np\n",
    "\n",
    "# 模拟数据\n",
    "np.random.seed(42)\n",
    "data = {f'Group {i}': np.random.normal(i, 1, 100) for i in range(1, 5)}\n",
    "df = pd.DataFrame(data)\n",
    "\n",
    "#\n",
    "sns.set_theme(context='notebook')  #使用set_theme设置context\n",
    "\n",
    "## 绘图\n",
    "sns.boxplot(data=df).set_title('Theme: context')\n",
    "plt.show()"
   ]
  },
  {
   "cell_type": "markdown",
   "id": "29555201-b174-4049-b374-0a219002a7a6",
   "metadata": {},
   "source": [
    "# ### 5.4.3 set_theme设置style"
   ]
  },
  {
   "cell_type": "code",
   "execution_count": 174,
   "id": "8fafc015-4cd0-48b8-ae50-de8191c4b9d9",
   "metadata": {},
   "outputs": [
    {
     "data": {
      "image/png": "[encoded data removed]",
      "text/plain": [
       "<Figure size 640x480 with 1 Axes>"
      ]
     },
     "metadata": {},
     "output_type": "display_data"
    }
   ],
   "source": [
    "import seaborn as sns\n",
    "import matplotlib.pyplot as plt\n",
    "import numpy as np\n",
    "\n",
    "# 模拟数据\n",
    "np.random.seed(42)\n",
    "data = {f'Group {i}': np.random.normal(i, 1, 100) for i in range(1, 5)}\n",
    "df = pd.DataFrame(data)\n",
    "\n",
    "#\n",
    "sns.set_theme(style='whitegrid')  #使用set_theme设置style\n",
    "\n",
    "## 绘图\n",
    "sns.boxplot(data=df).set_title('Theme: style')\n",
    "plt.show()"
   ]
  },
  {
   "cell_type": "markdown",
   "id": "cfaa56da-ccc7-4d96-a91d-0b6e8240e144",
   "metadata": {},
   "source": [
    "# ### 5.4.4 set_theme设置palette"
   ]
  },
  {
   "cell_type": "code",
   "execution_count": 177,
   "id": "7c9293b5-b16d-4fa4-a1f7-9a23e1899fc7",
   "metadata": {},
   "outputs": [
    {
     "data": {
      "image/png": "[encoded data removed]",
      "text/plain": [
       "<Figure size 640x480 with 1 Axes>"
      ]
     },
     "metadata": {},
     "output_type": "display_data"
    }
   ],
   "source": [
    "import seaborn as sns\n",
    "import matplotlib.pyplot as plt\n",
    "import numpy as np\n",
    "\n",
    "# 模拟数据\n",
    "np.random.seed(42)\n",
    "data = {f'Group {i}': np.random.normal(i, 1, 100) for i in range(1, 5)}\n",
    "df = pd.DataFrame(data)\n",
    "\n",
    "#\n",
    "sns.set_theme(palette='Set1')  #使用set_theme设置palette\n",
    "\n",
    "## 绘图\n",
    "sns.boxplot(data=df).set_title('Theme: palette')\n",
    "plt.show()"
   ]
  },
  {
   "cell_type": "markdown",
   "id": "d130a548-b63d-4a12-9322-60a175839725",
   "metadata": {},
   "source": [
    "# ### 5.4.5 set_theme设置rc"
   ]
  },
  {
   "cell_type": "code",
   "execution_count": 180,
   "id": "ab371dc2-785b-4b4a-9ce1-6d8037ff1446",
   "metadata": {},
   "outputs": [
    {
     "name": "stderr",
     "output_type": "stream",
     "text": [
      "findfont: Font family 'Songti SC' not found.\n",
      "findfont: Font family 'Songti SC' not found.\n",
      "findfont: Font family 'Songti SC' not found.\n",
      "findfont: Font family 'Songti SC' not found.\n",
      "findfont: Font family 'Songti SC' not found.\n",
      "findfont: Font family 'Songti SC' not found.\n",
      "findfont: Font family 'Songti SC' not found.\n",
      "findfont: Font family 'Songti SC' not found.\n",
      "findfont: Font family 'Songti SC' not found.\n",
      "findfont: Font family 'Songti SC' not found.\n",
      "findfont: Font family 'Songti SC' not found.\n",
      "findfont: Font family 'Songti SC' not found.\n",
      "findfont: Font family 'Songti SC' not found.\n",
      "findfont: Font family 'Songti SC' not found.\n",
      "findfont: Font family 'Songti SC' not found.\n",
      "findfont: Font family 'Songti SC' not found.\n",
      "findfont: Font family 'Songti SC' not found.\n",
      "findfont: Font family 'Songti SC' not found.\n",
      "findfont: Font family 'Songti SC' not found.\n",
      "findfont: Font family 'Songti SC' not found.\n",
      "findfont: Font family 'Songti SC' not found.\n",
      "findfont: Font family 'Songti SC' not found.\n",
      "findfont: Font family 'Songti SC' not found.\n",
      "findfont: Font family 'Songti SC' not found.\n",
      "findfont: Font family 'Songti SC' not found.\n",
      "findfont: Font family 'Songti SC' not found.\n",
      "findfont: Font family 'Songti SC' not found.\n",
      "findfont: Font family 'Songti SC' not found.\n",
      "findfont: Font family 'Songti SC' not found.\n"
     ]
    },
    {
     "data": {
      "image/png": "[encoded data removed]",
      "text/plain": [
       "<Figure size 640x480 with 1 Axes>"
      ]
     },
     "metadata": {},
     "output_type": "display_data"
    }
   ],
   "source": [
    "import seaborn as sns\n",
    "import matplotlib.pyplot as plt\n",
    "import matplotlib as mpl\n",
    "import numpy as np\n",
    "import warnings\n",
    "\n",
    "warnings.filterwarnings(\"ignore\", \"is_categorical_dtype\")\n",
    "warnings.filterwarnings(\"ignore\", \"use_inf_as_na\")\n",
    "warnings.simplefilter('always', category=UserWarning)\n",
    "mpl.rc_file_defaults()\n",
    "# 设置模拟数据\n",
    "np.random.seed(42)\n",
    "data = {f'Group {i}': np.random.normal(i, 1, 100) for i in range(1, 5)}\n",
    "df = pd.DataFrame(data)\n",
    "\n",
    "# 修改rc参数\n",
    "custom_set = {\n",
    "    \"font.family\": \"Songti SC\",\n",
    "    \"axes.spines.left\": True,  #y坐标轴开启\n",
    "    \"axes.spines.bottom\": True,  #x坐标轴开启\n",
    "    \"axes.spines.top\": False,  #上方坐标轴关闭\n",
    "    \"axes.spines.right\": False,  #右侧坐标轴关闭\n",
    "    \"axes.edgecolor\": \"gray\",  #坐标轴颜色\n",
    "    \"axes.linewidth\": 0.4,  #坐标轴宽度\n",
    "    \"grid.linewidth\": 0.3,  #网格线宽度\n",
    "    \"grid.alpha\": 1,  #网格线透明度\n",
    "    \"legend.frameon\": True,  #图例边框开启\n",
    "    \"legend.framealpha\": 0.5  ##图例边框透明度\n",
    "}\n",
    "\n",
    "sns.set_theme(rc=custom_set)\n",
    "\n",
    "# 绘制箱线图\n",
    "sns.boxplot(data=df)\n",
    "plt.show()"
   ]
  },
  {
   "cell_type": "markdown",
   "id": "2f04387d-ca4f-46ea-9a66-19e8e7dd1dba",
   "metadata": {},
   "source": [
    "# ### 5.4.6 set_theme同时设置context、style、palette、rc"
   ]
  },
  {
   "cell_type": "code",
   "execution_count": 183,
   "id": "87070fb5-7077-4443-9d41-170bf1c94bf8",
   "metadata": {},
   "outputs": [
    {
     "name": "stderr",
     "output_type": "stream",
     "text": [
      "findfont: Font family 'Songti SC' not found.\n",
      "findfont: Font family 'Songti SC' not found.\n",
      "findfont: Font family 'Songti SC' not found.\n",
      "findfont: Font family 'Songti SC' not found.\n",
      "findfont: Font family 'Songti SC' not found.\n",
      "findfont: Font family 'Songti SC' not found.\n",
      "findfont: Font family 'Songti SC' not found.\n",
      "findfont: Font family 'Songti SC' not found.\n",
      "findfont: Font family 'Songti SC' not found.\n",
      "findfont: Font family 'Songti SC' not found.\n",
      "findfont: Font family 'Songti SC' not found.\n",
      "findfont: Font family 'Songti SC' not found.\n",
      "findfont: Font family 'Songti SC' not found.\n",
      "findfont: Font family 'Songti SC' not found.\n",
      "findfont: Font family 'Songti SC' not found.\n",
      "findfont: Font family 'Songti SC' not found.\n",
      "findfont: Font family 'Songti SC' not found.\n",
      "findfont: Font family 'Songti SC' not found.\n",
      "findfont: Font family 'Songti SC' not found.\n",
      "findfont: Font family 'Songti SC' not found.\n",
      "findfont: Font family 'Songti SC' not found.\n",
      "findfont: Font family 'Songti SC' not found.\n",
      "findfont: Font family 'Songti SC' not found.\n",
      "findfont: Font family 'Songti SC' not found.\n",
      "findfont: Font family 'Songti SC' not found.\n",
      "findfont: Font family 'Songti SC' not found.\n",
      "findfont: Font family 'Songti SC' not found.\n",
      "findfont: Font family 'Songti SC' not found.\n",
      "findfont: Font family 'Songti SC' not found.\n"
     ]
    },
    {
     "data": {
      "image/png": "[encoded data removed]",
      "text/plain": [
       "<Figure size 640x480 with 1 Axes>"
      ]
     },
     "metadata": {},
     "output_type": "display_data"
    }
   ],
   "source": [
    "import seaborn as sns\n",
    "import matplotlib.pyplot as plt\n",
    "import matplotlib as mpl\n",
    "import numpy as np\n",
    "\n",
    "mpl.rc_file_defaults()\n",
    "# 设置模拟数据\n",
    "np.random.seed(42)\n",
    "data = {f'Group {i}': np.random.normal(i, 1, 100) for i in range(1, 5)}\n",
    "df = pd.DataFrame(data)\n",
    "\n",
    "# 同时设置\n",
    "sns.set_theme(context='notebook', style='whitegrid', palette='Set1', rc=custom_set)\n",
    "\n",
    "# 绘制箱线图\n",
    "sns.boxplot(data=df)\n",
    "plt.show()"
   ]
  },
  {
   "cell_type": "code",
   "execution_count": null,
   "id": "16820065-33a9-4e84-b453-03c6d244e270",
   "metadata": {},
   "outputs": [],
   "source": []
  }
 ],
 "metadata": {
  "kernelspec": {
   "display_name": "Python 3 (ipykernel)",
   "language": "python",
   "name": "python3"
  },
  "language_info": {
   "codemirror_mode": {
    "name": "ipython",
    "version": 3
   },
   "file_extension": ".py",
   "mimetype": "text/x-python",
   "name": "python",
   "nbconvert_exporter": "python",
   "pygments_lexer": "ipython3",
   "version": "3.12.4"
  }
 },
 "nbformat": 4,
 "nbformat_minor": 5
}
